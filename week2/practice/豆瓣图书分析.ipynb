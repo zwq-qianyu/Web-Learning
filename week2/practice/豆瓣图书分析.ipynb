{
 "cells": [
  {
   "cell_type": "markdown",
   "metadata": {},
   "source": [
    "# <center>豆瓣图书分析</center>"
   ]
  },
  {
   "cell_type": "code",
   "execution_count": 1,
   "metadata": {},
   "outputs": [],
   "source": [
    "import pandas as pd\n",
    "import numpy as np\n",
    "import matplotlib.pyplot as plt\n",
    "import types\n",
    "import re"
   ]
  },
  {
   "cell_type": "markdown",
   "metadata": {},
   "source": [
    "### 1. 爬取某图书⽹网站，得到图书数据，并导入pandas"
   ]
  },
  {
   "cell_type": "code",
   "execution_count": 2,
   "metadata": {},
   "outputs": [],
   "source": [
    "import pymysql"
   ]
  },
  {
   "cell_type": "code",
   "execution_count": 3,
   "metadata": {},
   "outputs": [],
   "source": [
    "conn = pymysql.connect(host='localhost', user='root', password='1999.04.25', db='book', charset='utf8')"
   ]
  },
  {
   "cell_type": "code",
   "execution_count": 4,
   "metadata": {},
   "outputs": [
    {
     "data": {
      "text/html": [
       "<div>\n",
       "<style scoped>\n",
       "    .dataframe tbody tr th:only-of-type {\n",
       "        vertical-align: middle;\n",
       "    }\n",
       "\n",
       "    .dataframe tbody tr th {\n",
       "        vertical-align: top;\n",
       "    }\n",
       "\n",
       "    .dataframe thead th {\n",
       "        text-align: right;\n",
       "    }\n",
       "</style>\n",
       "<table border=\"1\" class=\"dataframe\">\n",
       "  <thead>\n",
       "    <tr style=\"text-align: right;\">\n",
       "      <th></th>\n",
       "      <th>id</th>\n",
       "      <th>nid</th>\n",
       "      <th>title</th>\n",
       "      <th>author</th>\n",
       "      <th>publisher</th>\n",
       "      <th>translators</th>\n",
       "      <th>publication</th>\n",
       "      <th>originalname</th>\n",
       "      <th>framed</th>\n",
       "      <th>isbn</th>\n",
       "      <th>pagenumber</th>\n",
       "      <th>price</th>\n",
       "      <th>books</th>\n",
       "      <th>numberofreviews</th>\n",
       "      <th>score</th>\n",
       "    </tr>\n",
       "  </thead>\n",
       "  <tbody>\n",
       "    <tr>\n",
       "      <th>0</th>\n",
       "      <td>2</td>\n",
       "      <td>1584537</td>\n",
       "      <td>中国诗歌源流史</td>\n",
       "      <td>莫林虎</td>\n",
       "      <td>中国社会科学出版社</td>\n",
       "      <td></td>\n",
       "      <td>2002.4</td>\n",
       "      <td></td>\n",
       "      <td></td>\n",
       "      <td>9787500429395</td>\n",
       "      <td></td>\n",
       "      <td>28.0</td>\n",
       "      <td>None</td>\n",
       "      <td>12</td>\n",
       "      <td>7.6</td>\n",
       "    </tr>\n",
       "    <tr>\n",
       "      <th>1</th>\n",
       "      <td>3</td>\n",
       "      <td>1394349</td>\n",
       "      <td>元诗史</td>\n",
       "      <td>杨镰</td>\n",
       "      <td>人民文学出版社</td>\n",
       "      <td></td>\n",
       "      <td>2003</td>\n",
       "      <td></td>\n",
       "      <td>平装</td>\n",
       "      <td>9787020042371</td>\n",
       "      <td>750</td>\n",
       "      <td>42.00</td>\n",
       "      <td>None</td>\n",
       "      <td>16</td>\n",
       "      <td>7.5</td>\n",
       "    </tr>\n",
       "    <tr>\n",
       "      <th>2</th>\n",
       "      <td>4</td>\n",
       "      <td>1203363</td>\n",
       "      <td>中国小说史略</td>\n",
       "      <td>鲁迅</td>\n",
       "      <td>上海古籍出版社</td>\n",
       "      <td></td>\n",
       "      <td>1998-01-01</td>\n",
       "      <td></td>\n",
       "      <td>平装</td>\n",
       "      <td>9787532523337</td>\n",
       "      <td>297</td>\n",
       "      <td>12.90</td>\n",
       "      <td>蓬莱阁丛书</td>\n",
       "      <td>1081</td>\n",
       "      <td>9.1</td>\n",
       "    </tr>\n",
       "    <tr>\n",
       "      <th>3</th>\n",
       "      <td>5</td>\n",
       "      <td>1200352</td>\n",
       "      <td>唐宋词流派史</td>\n",
       "      <td>刘扬忠</td>\n",
       "      <td>福建人民出版社</td>\n",
       "      <td></td>\n",
       "      <td>2007-4</td>\n",
       "      <td></td>\n",
       "      <td></td>\n",
       "      <td>9787211033058</td>\n",
       "      <td>457</td>\n",
       "      <td>30.00元</td>\n",
       "      <td>None</td>\n",
       "      <td></td>\n",
       "      <td></td>\n",
       "    </tr>\n",
       "    <tr>\n",
       "      <th>4</th>\n",
       "      <td>6</td>\n",
       "      <td>1134261</td>\n",
       "      <td>唐宋词史论</td>\n",
       "      <td>王兆鹏</td>\n",
       "      <td>\\n</td>\n",
       "      <td></td>\n",
       "      <td>2000-1</td>\n",
       "      <td></td>\n",
       "      <td></td>\n",
       "      <td>9787020030842</td>\n",
       "      <td>387</td>\n",
       "      <td>18.00元</td>\n",
       "      <td>中国古典文学研究丛书</td>\n",
       "      <td>28</td>\n",
       "      <td>8.5</td>\n",
       "    </tr>\n",
       "  </tbody>\n",
       "</table>\n",
       "</div>"
      ],
      "text/plain": [
       "   id      nid    title author  publisher translators publication  \\\n",
       "0   2  1584537  中国诗歌源流史    莫林虎  中国社会科学出版社                  2002.4   \n",
       "1   3  1394349      元诗史     杨镰    人民文学出版社                    2003   \n",
       "2   4  1203363   中国小说史略     鲁迅    上海古籍出版社              1998-01-01   \n",
       "3   5  1200352   唐宋词流派史    刘扬忠    福建人民出版社                  2007-4   \n",
       "4   6  1134261    唐宋词史论    王兆鹏   \\n                        2000-1   \n",
       "\n",
       "  originalname framed           isbn pagenumber   price       books  \\\n",
       "0                      9787500429395               28.0        None   \n",
       "1                  平装  9787020042371        750   42.00        None   \n",
       "2                  平装  9787532523337        297   12.90       蓬莱阁丛书   \n",
       "3                      9787211033058        457  30.00元        None   \n",
       "4                      9787020030842        387  18.00元  中国古典文学研究丛书   \n",
       "\n",
       "  numberofreviews score  \n",
       "0              12   7.6  \n",
       "1              16   7.5  \n",
       "2            1081   9.1  \n",
       "3                        \n",
       "4              28   8.5  "
      ]
     },
     "execution_count": 4,
     "metadata": {},
     "output_type": "execute_result"
    }
   ],
   "source": [
    "sql = 'select * from book;'\n",
    "data = pd.read_sql(sql, conn)\n",
    "data.head()"
   ]
  },
  {
   "cell_type": "code",
   "execution_count": 5,
   "metadata": {},
   "outputs": [
    {
     "data": {
      "text/html": [
       "<div>\n",
       "<style scoped>\n",
       "    .dataframe tbody tr th:only-of-type {\n",
       "        vertical-align: middle;\n",
       "    }\n",
       "\n",
       "    .dataframe tbody tr th {\n",
       "        vertical-align: top;\n",
       "    }\n",
       "\n",
       "    .dataframe thead th {\n",
       "        text-align: right;\n",
       "    }\n",
       "</style>\n",
       "<table border=\"1\" class=\"dataframe\">\n",
       "  <thead>\n",
       "    <tr style=\"text-align: right;\">\n",
       "      <th></th>\n",
       "      <th>id</th>\n",
       "      <th>nid</th>\n",
       "      <th>title</th>\n",
       "      <th>author</th>\n",
       "      <th>publisher</th>\n",
       "      <th>translators</th>\n",
       "      <th>publication</th>\n",
       "      <th>originalname</th>\n",
       "      <th>framed</th>\n",
       "      <th>isbn</th>\n",
       "      <th>pagenumber</th>\n",
       "      <th>price</th>\n",
       "      <th>books</th>\n",
       "      <th>numberofreviews</th>\n",
       "      <th>score</th>\n",
       "    </tr>\n",
       "  </thead>\n",
       "  <tbody>\n",
       "    <tr>\n",
       "      <th>224630</th>\n",
       "      <td>419807</td>\n",
       "      <td>3869737</td>\n",
       "      <td>瑞典语三百句</td>\n",
       "      <td>王梦达|（瑞）Lars|Bergman</td>\n",
       "      <td>北京大学出版社</td>\n",
       "      <td></td>\n",
       "      <td>2009-6-1</td>\n",
       "      <td></td>\n",
       "      <td>平装</td>\n",
       "      <td>9787301152140</td>\n",
       "      <td>250 页</td>\n",
       "      <td>25.00元</td>\n",
       "      <td>None</td>\n",
       "      <td>24</td>\n",
       "      <td>8.2</td>\n",
       "    </tr>\n",
       "    <tr>\n",
       "      <th>224631</th>\n",
       "      <td>419810</td>\n",
       "      <td>4250737</td>\n",
       "      <td>大爭之世 卷四：大盜本色</td>\n",
       "      <td></td>\n",
       "      <td>高寶</td>\n",
       "      <td></td>\n",
       "      <td>2010年01月20日</td>\n",
       "      <td></td>\n",
       "      <td>平裝</td>\n",
       "      <td>9789861854120</td>\n",
       "      <td>304</td>\n",
       "      <td>NTD260</td>\n",
       "      <td>大爭之世</td>\n",
       "      <td>55</td>\n",
       "      <td>7.3</td>\n",
       "    </tr>\n",
       "    <tr>\n",
       "      <th>224632</th>\n",
       "      <td>419814</td>\n",
       "      <td>11534920</td>\n",
       "      <td>三国机密（下）</td>\n",
       "      <td>马伯庸</td>\n",
       "      <td>江苏人民出版社</td>\n",
       "      <td></td>\n",
       "      <td>2012-8</td>\n",
       "      <td></td>\n",
       "      <td>平装</td>\n",
       "      <td>9787214086341</td>\n",
       "      <td>367</td>\n",
       "      <td>36.00元</td>\n",
       "      <td>三国机密</td>\n",
       "      <td>3585</td>\n",
       "      <td>7.9</td>\n",
       "    </tr>\n",
       "    <tr>\n",
       "      <th>224633</th>\n",
       "      <td>419815</td>\n",
       "      <td>21355149</td>\n",
       "      <td>不存在未出版的错误条目</td>\n",
       "      <td></td>\n",
       "      <td></td>\n",
       "      <td></td>\n",
       "      <td>1900</td>\n",
       "      <td></td>\n",
       "      <td></td>\n",
       "      <td>9787102503042</td>\n",
       "      <td></td>\n",
       "      <td></td>\n",
       "      <td>None</td>\n",
       "      <td>29</td>\n",
       "      <td>7.5</td>\n",
       "    </tr>\n",
       "    <tr>\n",
       "      <th>224634</th>\n",
       "      <td>419816</td>\n",
       "      <td>25734399</td>\n",
       "      <td>锦衣夜行5·逍遥游</td>\n",
       "      <td>月关</td>\n",
       "      <td>湖北少年儿童出版社</td>\n",
       "      <td></td>\n",
       "      <td>2013-7</td>\n",
       "      <td></td>\n",
       "      <td>平装</td>\n",
       "      <td>9787535390264</td>\n",
       "      <td>289</td>\n",
       "      <td>25.00元</td>\n",
       "      <td>锦衣夜行</td>\n",
       "      <td>38</td>\n",
       "      <td>7.9</td>\n",
       "    </tr>\n",
       "  </tbody>\n",
       "</table>\n",
       "</div>"
      ],
      "text/plain": [
       "            id       nid         title               author  publisher  \\\n",
       "224630  419807   3869737        瑞典语三百句  王梦达|（瑞）Lars|Bergman    北京大学出版社   \n",
       "224631  419810   4250737  大爭之世 卷四：大盜本色                              高寶   \n",
       "224632  419814  11534920       三国机密（下）                  马伯庸    江苏人民出版社   \n",
       "224633  419815  21355149   不存在未出版的错误条目                                   \n",
       "224634  419816  25734399     锦衣夜行5·逍遥游                   月关  湖北少年儿童出版社   \n",
       "\n",
       "       translators  publication originalname framed           isbn pagenumber  \\\n",
       "224630                 2009-6-1                  平装  9787301152140      250 页   \n",
       "224631              2010年01月20日                  平裝  9789861854120        304   \n",
       "224632                   2012-8                  平装  9787214086341        367   \n",
       "224633                     1900                      9787102503042              \n",
       "224634                   2013-7                  平装  9787535390264        289   \n",
       "\n",
       "         price books numberofreviews score  \n",
       "224630  25.00元  None              24   8.2  \n",
       "224631  NTD260  大爭之世              55   7.3  \n",
       "224632  36.00元  三国机密            3585   7.9  \n",
       "224633          None              29   7.5  \n",
       "224634  25.00元  锦衣夜行              38   7.9  "
      ]
     },
     "execution_count": 5,
     "metadata": {},
     "output_type": "execute_result"
    }
   ],
   "source": [
    "data.tail()"
   ]
  },
  {
   "cell_type": "markdown",
   "metadata": {},
   "source": [
    "### 2. 对数据做清洗(缺失值与异常值)"
   ]
  },
  {
   "cell_type": "markdown",
   "metadata": {},
   "source": [
    "#### 后面对数据进行分析时会涉及到年份(publication)、评分(score)、价格(price)、出版社(publisher)、作者(author)、评论数量(numberofreviews)\n",
    "##### 每一个数据分析对数据的要求均不同，所以数据清洗我将在每一次数据分析之前单独进行一次清洗\n",
    "#### 这里我只进行将全部都为空的数据清理掉的操作"
   ]
  },
  {
   "cell_type": "code",
   "execution_count": 6,
   "metadata": {},
   "outputs": [
    {
     "data": {
      "text/plain": [
       "id                 0\n",
       "nid                0\n",
       "title              0\n",
       "author             0\n",
       "publisher          0\n",
       "translators        0\n",
       "publication        0\n",
       "originalname       0\n",
       "framed             0\n",
       "isbn               0\n",
       "pagenumber         0\n",
       "price              0\n",
       "books              0\n",
       "numberofreviews    0\n",
       "score              0\n",
       "dtype: int64"
      ]
     },
     "execution_count": 6,
     "metadata": {},
     "output_type": "execute_result"
    }
   ],
   "source": [
    "data.isnull().sum()"
   ]
  },
  {
   "cell_type": "markdown",
   "metadata": {},
   "source": [
    "上面的结果说明没有一列所有数据全为空的数据"
   ]
  },
  {
   "cell_type": "markdown",
   "metadata": {},
   "source": [
    "### 3. 分析书的数量与年份的关系"
   ]
  },
  {
   "cell_type": "markdown",
   "metadata": {},
   "source": [
    "(1) 【缺失值】判断与清洗"
   ]
  },
  {
   "cell_type": "code",
   "execution_count": 7,
   "metadata": {},
   "outputs": [
    {
     "data": {
      "text/plain": [
       "224635"
      ]
     },
     "execution_count": 7,
     "metadata": {},
     "output_type": "execute_result"
    }
   ],
   "source": [
    "data1 = data[(data['publication']!='') | (data['publication']!=None)]\n",
    "len(data1)"
   ]
  },
  {
   "cell_type": "code",
   "execution_count": 8,
   "metadata": {},
   "outputs": [
    {
     "data": {
      "text/plain": [
       "224635"
      ]
     },
     "execution_count": 8,
     "metadata": {},
     "output_type": "execute_result"
    }
   ],
   "source": [
    "len(data)"
   ]
  },
  {
   "cell_type": "markdown",
   "metadata": {},
   "source": [
    "##### 上面的结果说明：所有数据都有年份这一列的数据，不需要进行数据【缺失值】的清洗"
   ]
  },
  {
   "cell_type": "markdown",
   "metadata": {},
   "source": [
    "（2）数据【异常值】第一次清洗"
   ]
  },
  {
   "cell_type": "code",
   "execution_count": 9,
   "metadata": {},
   "outputs": [
    {
     "data": {
      "text/plain": [
       "218282"
      ]
     },
     "execution_count": 9,
     "metadata": {},
     "output_type": "execute_result"
    }
   ],
   "source": [
    "i = 0\n",
    "new_data = []\n",
    "for year in data1.publication:\n",
    "    year = str(year)\n",
    "    if re.match('^.*?[0-9]{4}.*$', year)!=None:\n",
    "        new_data.append(data1.iloc[i])\n",
    "    i += 1\n",
    "len(new_data)"
   ]
  },
  {
   "cell_type": "code",
   "execution_count": 10,
   "metadata": {},
   "outputs": [
    {
     "data": {
      "text/plain": [
       "218282"
      ]
     },
     "execution_count": 10,
     "metadata": {},
     "output_type": "execute_result"
    }
   ],
   "source": [
    "new_data1 = pd.DataFrame(new_data)\n",
    "len(new_data1)"
   ]
  },
  {
   "cell_type": "code",
   "execution_count": 11,
   "metadata": {},
   "outputs": [
    {
     "data": {
      "text/html": [
       "<div>\n",
       "<style scoped>\n",
       "    .dataframe tbody tr th:only-of-type {\n",
       "        vertical-align: middle;\n",
       "    }\n",
       "\n",
       "    .dataframe tbody tr th {\n",
       "        vertical-align: top;\n",
       "    }\n",
       "\n",
       "    .dataframe thead th {\n",
       "        text-align: right;\n",
       "    }\n",
       "</style>\n",
       "<table border=\"1\" class=\"dataframe\">\n",
       "  <thead>\n",
       "    <tr style=\"text-align: right;\">\n",
       "      <th></th>\n",
       "      <th>id</th>\n",
       "      <th>nid</th>\n",
       "      <th>title</th>\n",
       "      <th>author</th>\n",
       "      <th>publisher</th>\n",
       "      <th>translators</th>\n",
       "      <th>publication</th>\n",
       "      <th>originalname</th>\n",
       "      <th>framed</th>\n",
       "      <th>isbn</th>\n",
       "      <th>pagenumber</th>\n",
       "      <th>price</th>\n",
       "      <th>books</th>\n",
       "      <th>numberofreviews</th>\n",
       "      <th>score</th>\n",
       "    </tr>\n",
       "  </thead>\n",
       "  <tbody>\n",
       "    <tr>\n",
       "      <th>0</th>\n",
       "      <td>2</td>\n",
       "      <td>1584537</td>\n",
       "      <td>中国诗歌源流史</td>\n",
       "      <td>莫林虎</td>\n",
       "      <td>中国社会科学出版社</td>\n",
       "      <td></td>\n",
       "      <td>2002.4</td>\n",
       "      <td></td>\n",
       "      <td></td>\n",
       "      <td>9787500429395</td>\n",
       "      <td></td>\n",
       "      <td>28.0</td>\n",
       "      <td>None</td>\n",
       "      <td>12</td>\n",
       "      <td>7.6</td>\n",
       "    </tr>\n",
       "    <tr>\n",
       "      <th>1</th>\n",
       "      <td>3</td>\n",
       "      <td>1394349</td>\n",
       "      <td>元诗史</td>\n",
       "      <td>杨镰</td>\n",
       "      <td>人民文学出版社</td>\n",
       "      <td></td>\n",
       "      <td>2003</td>\n",
       "      <td></td>\n",
       "      <td>平装</td>\n",
       "      <td>9787020042371</td>\n",
       "      <td>750</td>\n",
       "      <td>42.00</td>\n",
       "      <td>None</td>\n",
       "      <td>16</td>\n",
       "      <td>7.5</td>\n",
       "    </tr>\n",
       "    <tr>\n",
       "      <th>2</th>\n",
       "      <td>4</td>\n",
       "      <td>1203363</td>\n",
       "      <td>中国小说史略</td>\n",
       "      <td>鲁迅</td>\n",
       "      <td>上海古籍出版社</td>\n",
       "      <td></td>\n",
       "      <td>1998-01-01</td>\n",
       "      <td></td>\n",
       "      <td>平装</td>\n",
       "      <td>9787532523337</td>\n",
       "      <td>297</td>\n",
       "      <td>12.90</td>\n",
       "      <td>蓬莱阁丛书</td>\n",
       "      <td>1081</td>\n",
       "      <td>9.1</td>\n",
       "    </tr>\n",
       "    <tr>\n",
       "      <th>3</th>\n",
       "      <td>5</td>\n",
       "      <td>1200352</td>\n",
       "      <td>唐宋词流派史</td>\n",
       "      <td>刘扬忠</td>\n",
       "      <td>福建人民出版社</td>\n",
       "      <td></td>\n",
       "      <td>2007-4</td>\n",
       "      <td></td>\n",
       "      <td></td>\n",
       "      <td>9787211033058</td>\n",
       "      <td>457</td>\n",
       "      <td>30.00元</td>\n",
       "      <td>None</td>\n",
       "      <td></td>\n",
       "      <td></td>\n",
       "    </tr>\n",
       "    <tr>\n",
       "      <th>4</th>\n",
       "      <td>6</td>\n",
       "      <td>1134261</td>\n",
       "      <td>唐宋词史论</td>\n",
       "      <td>王兆鹏</td>\n",
       "      <td>\\n</td>\n",
       "      <td></td>\n",
       "      <td>2000-1</td>\n",
       "      <td></td>\n",
       "      <td></td>\n",
       "      <td>9787020030842</td>\n",
       "      <td>387</td>\n",
       "      <td>18.00元</td>\n",
       "      <td>中国古典文学研究丛书</td>\n",
       "      <td>28</td>\n",
       "      <td>8.5</td>\n",
       "    </tr>\n",
       "  </tbody>\n",
       "</table>\n",
       "</div>"
      ],
      "text/plain": [
       "   id      nid    title author  publisher translators publication  \\\n",
       "0   2  1584537  中国诗歌源流史    莫林虎  中国社会科学出版社                  2002.4   \n",
       "1   3  1394349      元诗史     杨镰    人民文学出版社                    2003   \n",
       "2   4  1203363   中国小说史略     鲁迅    上海古籍出版社              1998-01-01   \n",
       "3   5  1200352   唐宋词流派史    刘扬忠    福建人民出版社                  2007-4   \n",
       "4   6  1134261    唐宋词史论    王兆鹏   \\n                        2000-1   \n",
       "\n",
       "  originalname framed           isbn pagenumber   price       books  \\\n",
       "0                      9787500429395               28.0        None   \n",
       "1                  平装  9787020042371        750   42.00        None   \n",
       "2                  平装  9787532523337        297   12.90       蓬莱阁丛书   \n",
       "3                      9787211033058        457  30.00元        None   \n",
       "4                      9787020030842        387  18.00元  中国古典文学研究丛书   \n",
       "\n",
       "  numberofreviews score  \n",
       "0              12   7.6  \n",
       "1              16   7.5  \n",
       "2            1081   9.1  \n",
       "3                        \n",
       "4              28   8.5  "
      ]
     },
     "execution_count": 11,
     "metadata": {},
     "output_type": "execute_result"
    }
   ],
   "source": [
    "new_data1.head()"
   ]
  },
  {
   "cell_type": "markdown",
   "metadata": {},
   "source": [
    "(3) 统一年份的格式"
   ]
  },
  {
   "cell_type": "code",
   "execution_count": 12,
   "metadata": {},
   "outputs": [
    {
     "name": "stdout",
     "output_type": "stream",
     "text": [
      "218282\n"
     ]
    }
   ],
   "source": [
    "# 下面这一段代码获取书的年份并转为4位数字字符替换原来不同规则的年份，方便后面统计分析\n",
    "publication = []\n",
    "for year in new_data1.publication:\n",
    "    yearstr = str(year)\n",
    "    yearstr = re.search(r'^.*?([0-9]{4}).*$', yearstr).group(1)[:4]\n",
    "    yearstr = int(yearstr)\n",
    "    publication.append(yearstr)\n",
    "print(len(publication))"
   ]
  },
  {
   "cell_type": "markdown",
   "metadata": {},
   "source": [
    "将new_data1中的 publication 替换成统一后的格式"
   ]
  },
  {
   "cell_type": "code",
   "execution_count": 13,
   "metadata": {},
   "outputs": [
    {
     "data": {
      "text/html": [
       "<div>\n",
       "<style scoped>\n",
       "    .dataframe tbody tr th:only-of-type {\n",
       "        vertical-align: middle;\n",
       "    }\n",
       "\n",
       "    .dataframe tbody tr th {\n",
       "        vertical-align: top;\n",
       "    }\n",
       "\n",
       "    .dataframe thead th {\n",
       "        text-align: right;\n",
       "    }\n",
       "</style>\n",
       "<table border=\"1\" class=\"dataframe\">\n",
       "  <thead>\n",
       "    <tr style=\"text-align: right;\">\n",
       "      <th></th>\n",
       "      <th>id</th>\n",
       "      <th>nid</th>\n",
       "      <th>title</th>\n",
       "      <th>author</th>\n",
       "      <th>publisher</th>\n",
       "      <th>translators</th>\n",
       "      <th>publication</th>\n",
       "      <th>originalname</th>\n",
       "      <th>framed</th>\n",
       "      <th>isbn</th>\n",
       "      <th>pagenumber</th>\n",
       "      <th>price</th>\n",
       "      <th>books</th>\n",
       "      <th>numberofreviews</th>\n",
       "      <th>score</th>\n",
       "    </tr>\n",
       "  </thead>\n",
       "  <tbody>\n",
       "    <tr>\n",
       "      <th>0</th>\n",
       "      <td>2</td>\n",
       "      <td>1584537</td>\n",
       "      <td>中国诗歌源流史</td>\n",
       "      <td>莫林虎</td>\n",
       "      <td>中国社会科学出版社</td>\n",
       "      <td></td>\n",
       "      <td>2002</td>\n",
       "      <td></td>\n",
       "      <td></td>\n",
       "      <td>9787500429395</td>\n",
       "      <td></td>\n",
       "      <td>28.0</td>\n",
       "      <td>None</td>\n",
       "      <td>12</td>\n",
       "      <td>7.6</td>\n",
       "    </tr>\n",
       "    <tr>\n",
       "      <th>1</th>\n",
       "      <td>3</td>\n",
       "      <td>1394349</td>\n",
       "      <td>元诗史</td>\n",
       "      <td>杨镰</td>\n",
       "      <td>人民文学出版社</td>\n",
       "      <td></td>\n",
       "      <td>2003</td>\n",
       "      <td></td>\n",
       "      <td>平装</td>\n",
       "      <td>9787020042371</td>\n",
       "      <td>750</td>\n",
       "      <td>42.00</td>\n",
       "      <td>None</td>\n",
       "      <td>16</td>\n",
       "      <td>7.5</td>\n",
       "    </tr>\n",
       "    <tr>\n",
       "      <th>2</th>\n",
       "      <td>4</td>\n",
       "      <td>1203363</td>\n",
       "      <td>中国小说史略</td>\n",
       "      <td>鲁迅</td>\n",
       "      <td>上海古籍出版社</td>\n",
       "      <td></td>\n",
       "      <td>1998</td>\n",
       "      <td></td>\n",
       "      <td>平装</td>\n",
       "      <td>9787532523337</td>\n",
       "      <td>297</td>\n",
       "      <td>12.90</td>\n",
       "      <td>蓬莱阁丛书</td>\n",
       "      <td>1081</td>\n",
       "      <td>9.1</td>\n",
       "    </tr>\n",
       "    <tr>\n",
       "      <th>3</th>\n",
       "      <td>5</td>\n",
       "      <td>1200352</td>\n",
       "      <td>唐宋词流派史</td>\n",
       "      <td>刘扬忠</td>\n",
       "      <td>福建人民出版社</td>\n",
       "      <td></td>\n",
       "      <td>2007</td>\n",
       "      <td></td>\n",
       "      <td></td>\n",
       "      <td>9787211033058</td>\n",
       "      <td>457</td>\n",
       "      <td>30.00元</td>\n",
       "      <td>None</td>\n",
       "      <td></td>\n",
       "      <td></td>\n",
       "    </tr>\n",
       "    <tr>\n",
       "      <th>4</th>\n",
       "      <td>6</td>\n",
       "      <td>1134261</td>\n",
       "      <td>唐宋词史论</td>\n",
       "      <td>王兆鹏</td>\n",
       "      <td>\\n</td>\n",
       "      <td></td>\n",
       "      <td>2000</td>\n",
       "      <td></td>\n",
       "      <td></td>\n",
       "      <td>9787020030842</td>\n",
       "      <td>387</td>\n",
       "      <td>18.00元</td>\n",
       "      <td>中国古典文学研究丛书</td>\n",
       "      <td>28</td>\n",
       "      <td>8.5</td>\n",
       "    </tr>\n",
       "  </tbody>\n",
       "</table>\n",
       "</div>"
      ],
      "text/plain": [
       "   id      nid    title author  publisher translators  publication  \\\n",
       "0   2  1584537  中国诗歌源流史    莫林虎  中国社会科学出版社                     2002   \n",
       "1   3  1394349      元诗史     杨镰    人民文学出版社                     2003   \n",
       "2   4  1203363   中国小说史略     鲁迅    上海古籍出版社                     1998   \n",
       "3   5  1200352   唐宋词流派史    刘扬忠    福建人民出版社                     2007   \n",
       "4   6  1134261    唐宋词史论    王兆鹏   \\n                           2000   \n",
       "\n",
       "  originalname framed           isbn pagenumber   price       books  \\\n",
       "0                      9787500429395               28.0        None   \n",
       "1                  平装  9787020042371        750   42.00        None   \n",
       "2                  平装  9787532523337        297   12.90       蓬莱阁丛书   \n",
       "3                      9787211033058        457  30.00元        None   \n",
       "4                      9787020030842        387  18.00元  中国古典文学研究丛书   \n",
       "\n",
       "  numberofreviews score  \n",
       "0              12   7.6  \n",
       "1              16   7.5  \n",
       "2            1081   9.1  \n",
       "3                        \n",
       "4              28   8.5  "
      ]
     },
     "execution_count": 13,
     "metadata": {},
     "output_type": "execute_result"
    }
   ],
   "source": [
    "new_data1['publication'] = publication\n",
    "new_data1.head()"
   ]
  },
  {
   "cell_type": "markdown",
   "metadata": {},
   "source": [
    "（4）数据【异常值】第二次清洗--对年份进行限制"
   ]
  },
  {
   "cell_type": "code",
   "execution_count": 14,
   "metadata": {},
   "outputs": [
    {
     "data": {
      "image/png": "[encoded data removed]",
      "text/plain": [
       "<Figure size 432x288 with 1 Axes>"
      ]
     },
     "metadata": {},
     "output_type": "display_data"
    }
   ],
   "source": [
    "new_data1[['publication']].boxplot()\n",
    "plt.show()"
   ]
  },
  {
   "cell_type": "markdown",
   "metadata": {},
   "source": [
    "由上面的箱线图我们知道：有部分数据的年份存在问题，我们需要除去这部分数据"
   ]
  },
  {
   "cell_type": "code",
   "execution_count": 15,
   "metadata": {},
   "outputs": [
    {
     "data": {
      "text/plain": [
       "217746"
      ]
     },
     "execution_count": 15,
     "metadata": {},
     "output_type": "execute_result"
    }
   ],
   "source": [
    "data1 = new_data1[(new_data1['publication']<=2018) & (new_data1['publication']>=1920)]\n",
    "len(data1)"
   ]
  },
  {
   "cell_type": "code",
   "execution_count": 16,
   "metadata": {},
   "outputs": [
    {
     "data": {
      "text/html": [
       "<div>\n",
       "<style scoped>\n",
       "    .dataframe tbody tr th:only-of-type {\n",
       "        vertical-align: middle;\n",
       "    }\n",
       "\n",
       "    .dataframe tbody tr th {\n",
       "        vertical-align: top;\n",
       "    }\n",
       "\n",
       "    .dataframe thead th {\n",
       "        text-align: right;\n",
       "    }\n",
       "</style>\n",
       "<table border=\"1\" class=\"dataframe\">\n",
       "  <thead>\n",
       "    <tr style=\"text-align: right;\">\n",
       "      <th></th>\n",
       "      <th>id</th>\n",
       "      <th>nid</th>\n",
       "      <th>title</th>\n",
       "      <th>author</th>\n",
       "      <th>publisher</th>\n",
       "      <th>translators</th>\n",
       "      <th>publication</th>\n",
       "      <th>originalname</th>\n",
       "      <th>framed</th>\n",
       "      <th>isbn</th>\n",
       "      <th>pagenumber</th>\n",
       "      <th>price</th>\n",
       "      <th>books</th>\n",
       "      <th>numberofreviews</th>\n",
       "      <th>score</th>\n",
       "    </tr>\n",
       "  </thead>\n",
       "  <tbody>\n",
       "    <tr>\n",
       "      <th>0</th>\n",
       "      <td>2</td>\n",
       "      <td>1584537</td>\n",
       "      <td>中国诗歌源流史</td>\n",
       "      <td>莫林虎</td>\n",
       "      <td>中国社会科学出版社</td>\n",
       "      <td></td>\n",
       "      <td>2002</td>\n",
       "      <td></td>\n",
       "      <td></td>\n",
       "      <td>9787500429395</td>\n",
       "      <td></td>\n",
       "      <td>28.0</td>\n",
       "      <td>None</td>\n",
       "      <td>12</td>\n",
       "      <td>7.6</td>\n",
       "    </tr>\n",
       "    <tr>\n",
       "      <th>1</th>\n",
       "      <td>3</td>\n",
       "      <td>1394349</td>\n",
       "      <td>元诗史</td>\n",
       "      <td>杨镰</td>\n",
       "      <td>人民文学出版社</td>\n",
       "      <td></td>\n",
       "      <td>2003</td>\n",
       "      <td></td>\n",
       "      <td>平装</td>\n",
       "      <td>9787020042371</td>\n",
       "      <td>750</td>\n",
       "      <td>42.00</td>\n",
       "      <td>None</td>\n",
       "      <td>16</td>\n",
       "      <td>7.5</td>\n",
       "    </tr>\n",
       "    <tr>\n",
       "      <th>2</th>\n",
       "      <td>4</td>\n",
       "      <td>1203363</td>\n",
       "      <td>中国小说史略</td>\n",
       "      <td>鲁迅</td>\n",
       "      <td>上海古籍出版社</td>\n",
       "      <td></td>\n",
       "      <td>1998</td>\n",
       "      <td></td>\n",
       "      <td>平装</td>\n",
       "      <td>9787532523337</td>\n",
       "      <td>297</td>\n",
       "      <td>12.90</td>\n",
       "      <td>蓬莱阁丛书</td>\n",
       "      <td>1081</td>\n",
       "      <td>9.1</td>\n",
       "    </tr>\n",
       "    <tr>\n",
       "      <th>3</th>\n",
       "      <td>5</td>\n",
       "      <td>1200352</td>\n",
       "      <td>唐宋词流派史</td>\n",
       "      <td>刘扬忠</td>\n",
       "      <td>福建人民出版社</td>\n",
       "      <td></td>\n",
       "      <td>2007</td>\n",
       "      <td></td>\n",
       "      <td></td>\n",
       "      <td>9787211033058</td>\n",
       "      <td>457</td>\n",
       "      <td>30.00元</td>\n",
       "      <td>None</td>\n",
       "      <td></td>\n",
       "      <td></td>\n",
       "    </tr>\n",
       "    <tr>\n",
       "      <th>4</th>\n",
       "      <td>6</td>\n",
       "      <td>1134261</td>\n",
       "      <td>唐宋词史论</td>\n",
       "      <td>王兆鹏</td>\n",
       "      <td>\\n</td>\n",
       "      <td></td>\n",
       "      <td>2000</td>\n",
       "      <td></td>\n",
       "      <td></td>\n",
       "      <td>9787020030842</td>\n",
       "      <td>387</td>\n",
       "      <td>18.00元</td>\n",
       "      <td>中国古典文学研究丛书</td>\n",
       "      <td>28</td>\n",
       "      <td>8.5</td>\n",
       "    </tr>\n",
       "  </tbody>\n",
       "</table>\n",
       "</div>"
      ],
      "text/plain": [
       "   id      nid    title author  publisher translators  publication  \\\n",
       "0   2  1584537  中国诗歌源流史    莫林虎  中国社会科学出版社                     2002   \n",
       "1   3  1394349      元诗史     杨镰    人民文学出版社                     2003   \n",
       "2   4  1203363   中国小说史略     鲁迅    上海古籍出版社                     1998   \n",
       "3   5  1200352   唐宋词流派史    刘扬忠    福建人民出版社                     2007   \n",
       "4   6  1134261    唐宋词史论    王兆鹏   \\n                           2000   \n",
       "\n",
       "  originalname framed           isbn pagenumber   price       books  \\\n",
       "0                      9787500429395               28.0        None   \n",
       "1                  平装  9787020042371        750   42.00        None   \n",
       "2                  平装  9787532523337        297   12.90       蓬莱阁丛书   \n",
       "3                      9787211033058        457  30.00元        None   \n",
       "4                      9787020030842        387  18.00元  中国古典文学研究丛书   \n",
       "\n",
       "  numberofreviews score  \n",
       "0              12   7.6  \n",
       "1              16   7.5  \n",
       "2            1081   9.1  \n",
       "3                        \n",
       "4              28   8.5  "
      ]
     },
     "execution_count": 16,
     "metadata": {},
     "output_type": "execute_result"
    }
   ],
   "source": [
    "data1.head()"
   ]
  },
  {
   "cell_type": "markdown",
   "metadata": {},
   "source": [
    "（5）开始分析年份与数量之间的关系"
   ]
  },
  {
   "cell_type": "code",
   "execution_count": 17,
   "metadata": {},
   "outputs": [
    {
     "data": {
      "text/plain": [
       "array([1920, 1921, 1922, 1923, 1924, 1925, 1926, 1927, 1928, 1929, 1930,\n",
       "       1931, 1932, 1933, 1934, 1935, 1936, 1937, 1938, 1939, 1940, 1941,\n",
       "       1942, 1943, 1944, 1945, 1946, 1947, 1948, 1949, 1950, 1951, 1952,\n",
       "       1953, 1954, 1955, 1956, 1957, 1958, 1959, 1960, 1961, 1962, 1963,\n",
       "       1964, 1965, 1966, 1967, 1968, 1969, 1970, 1971, 1972, 1973, 1974,\n",
       "       1975, 1976, 1977, 1978, 1979, 1980, 1981, 1982, 1983, 1984, 1985,\n",
       "       1986, 1987, 1988, 1989, 1990, 1991, 1992, 1993, 1994, 1995, 1996,\n",
       "       1997, 1998, 1999, 2000, 2001, 2002, 2003, 2004, 2005, 2006, 2007,\n",
       "       2008, 2009, 2010, 2011, 2012, 2013, 2014, 2015, 2016, 2017, 2018])"
      ]
     },
     "execution_count": 17,
     "metadata": {},
     "output_type": "execute_result"
    }
   ],
   "source": [
    "x = np.arange(1920, 2019)      # 用来作为所有年份\n",
    "x"
   ]
  },
  {
   "cell_type": "code",
   "execution_count": 18,
   "metadata": {},
   "outputs": [
    {
     "data": {
      "text/plain": [
       "array([0, 0, 0, 0, 0, 0, 0, 0, 0, 0, 0, 0, 0, 0, 0, 0, 0, 0, 0, 0, 0, 0,\n",
       "       0, 0, 0, 0, 0, 0, 0, 0, 0, 0, 0, 0, 0, 0, 0, 0, 0, 0, 0, 0, 0, 0,\n",
       "       0, 0, 0, 0, 0, 0, 0, 0, 0, 0, 0, 0, 0, 0, 0, 0, 0, 0, 0, 0, 0, 0,\n",
       "       0, 0, 0, 0, 0, 0, 0, 0, 0, 0, 0, 0, 0, 0, 0, 0, 0, 0, 0, 0, 0, 0,\n",
       "       0, 0, 0, 0, 0, 0, 0, 0, 0, 0, 0])"
      ]
     },
     "execution_count": 18,
     "metadata": {},
     "output_type": "execute_result"
    }
   ],
   "source": [
    "y = np.zeros(2019-1920, dtype=int)     # 用y来代替每一年书籍的数量，初始值每年都为0\n",
    "y"
   ]
  },
  {
   "cell_type": "code",
   "execution_count": 19,
   "metadata": {},
   "outputs": [
    {
     "data": {
      "text/plain": [
       "99"
      ]
     },
     "execution_count": 19,
     "metadata": {},
     "output_type": "execute_result"
    }
   ],
   "source": [
    "len(x)"
   ]
  },
  {
   "cell_type": "code",
   "execution_count": 20,
   "metadata": {},
   "outputs": [
    {
     "data": {
      "text/plain": [
       "99"
      ]
     },
     "execution_count": 20,
     "metadata": {},
     "output_type": "execute_result"
    }
   ],
   "source": [
    "len(y)"
   ]
  },
  {
   "cell_type": "code",
   "execution_count": 21,
   "metadata": {},
   "outputs": [],
   "source": [
    "for n in data1['publication']:\n",
    "    index = 0\n",
    "    for x_data in x:\n",
    "        if n==x_data:\n",
    "            y[index] += 1\n",
    "        index += 1"
   ]
  },
  {
   "cell_type": "code",
   "execution_count": 22,
   "metadata": {},
   "outputs": [
    {
     "data": {
      "text/plain": [
       "array([    1,     1,     0,     2,     2,     2,     0,     4,     5,\n",
       "           3,     5,     3,     1,     2,     3,     3,     5,     5,\n",
       "           4,     1,     2,     2,     1,     1,     4,     1,     3,\n",
       "           3,     1,    10,    12,     6,    11,    21,    25,    40,\n",
       "          79,   103,   120,   111,    50,    56,   103,    90,    53,\n",
       "          72,    42,    25,    21,    34,   395,    48,    72,   120,\n",
       "          92,   108,   119,   138,   232,   419,   456,   603,   603,\n",
       "         716,   744,   755,   786,   873,   941,   941,   841,  1039,\n",
       "        1211,  1260,  1426,  1533,  2204,  2717,  3520,  3841,  4411,\n",
       "        5174,  6498,  8293, 10541, 12292, 13636, 14525, 14925, 15691,\n",
       "       15635, 15462, 13433, 10658,  8742,  7672,  6666,  3420,   165])"
      ]
     },
     "execution_count": 22,
     "metadata": {},
     "output_type": "execute_result"
    }
   ],
   "source": [
    "y"
   ]
  },
  {
   "cell_type": "code",
   "execution_count": 23,
   "metadata": {},
   "outputs": [
    {
     "data": {
      "image/png": "[encoded data removed]",
      "text/plain": [
       "<Figure size 864x432 with 1 Axes>"
      ]
     },
     "metadata": {},
     "output_type": "display_data"
    }
   ],
   "source": [
    "plt.figure(figsize=(12, 6))\n",
    "plt.plot(x, y)\n",
    "plt.title('year  &  publication number')\n",
    "plt.xlabel('year')\n",
    "plt.ylabel('publication number')\n",
    "plt.show()"
   ]
  },
  {
   "cell_type": "markdown",
   "metadata": {},
   "source": [
    "##### 结论：\n",
    "从上图可知书的数量与年份之间的关系。自1920年到1970年左右书籍基本保持每年固定数量，1970年开始，书籍进入增长期，尤其是2000年到2010年左右的书籍疯狂增长。<br>\n",
    "从2010年开始，书籍发行量开始下降，可能的原因如下：<br>\n",
    "(1) 电子书的普及，导致发行版本的书籍开始减少；<br>\n",
    "(2) 部分书籍豆瓣目前还未收录。"
   ]
  },
  {
   "cell_type": "markdown",
   "metadata": {},
   "source": [
    "### 4. 分析书籍的评分与年代之间是否有某种关系"
   ]
  },
  {
   "cell_type": "markdown",
   "metadata": {},
   "source": [
    "##### 分析：\n",
    "根据年份，获取所有这个年份的书籍，将这些书籍聚集起来，算出他们的平均分，作为这一年份的书籍的评分。<br>\n",
    "根据这种思路，获取从1920年到2018年每一年的评分，最后画出书籍评分与年代的关系图<br>\n",
    "因为涉及到年份，我们可以直接用上一个分析中已经对年份进行过筛选的数据进行拷贝使用。"
   ]
  },
  {
   "cell_type": "markdown",
   "metadata": {},
   "source": [
    "（1）拷贝一份处理过年份的数据"
   ]
  },
  {
   "cell_type": "code",
   "execution_count": 24,
   "metadata": {},
   "outputs": [
    {
     "data": {
      "text/html": [
       "<div>\n",
       "<style scoped>\n",
       "    .dataframe tbody tr th:only-of-type {\n",
       "        vertical-align: middle;\n",
       "    }\n",
       "\n",
       "    .dataframe tbody tr th {\n",
       "        vertical-align: top;\n",
       "    }\n",
       "\n",
       "    .dataframe thead th {\n",
       "        text-align: right;\n",
       "    }\n",
       "</style>\n",
       "<table border=\"1\" class=\"dataframe\">\n",
       "  <thead>\n",
       "    <tr style=\"text-align: right;\">\n",
       "      <th></th>\n",
       "      <th>id</th>\n",
       "      <th>nid</th>\n",
       "      <th>title</th>\n",
       "      <th>author</th>\n",
       "      <th>publisher</th>\n",
       "      <th>translators</th>\n",
       "      <th>publication</th>\n",
       "      <th>originalname</th>\n",
       "      <th>framed</th>\n",
       "      <th>isbn</th>\n",
       "      <th>pagenumber</th>\n",
       "      <th>price</th>\n",
       "      <th>books</th>\n",
       "      <th>numberofreviews</th>\n",
       "      <th>score</th>\n",
       "    </tr>\n",
       "  </thead>\n",
       "  <tbody>\n",
       "    <tr>\n",
       "      <th>0</th>\n",
       "      <td>2</td>\n",
       "      <td>1584537</td>\n",
       "      <td>中国诗歌源流史</td>\n",
       "      <td>莫林虎</td>\n",
       "      <td>中国社会科学出版社</td>\n",
       "      <td></td>\n",
       "      <td>2002</td>\n",
       "      <td></td>\n",
       "      <td></td>\n",
       "      <td>9787500429395</td>\n",
       "      <td></td>\n",
       "      <td>28.0</td>\n",
       "      <td>None</td>\n",
       "      <td>12</td>\n",
       "      <td>7.6</td>\n",
       "    </tr>\n",
       "    <tr>\n",
       "      <th>1</th>\n",
       "      <td>3</td>\n",
       "      <td>1394349</td>\n",
       "      <td>元诗史</td>\n",
       "      <td>杨镰</td>\n",
       "      <td>人民文学出版社</td>\n",
       "      <td></td>\n",
       "      <td>2003</td>\n",
       "      <td></td>\n",
       "      <td>平装</td>\n",
       "      <td>9787020042371</td>\n",
       "      <td>750</td>\n",
       "      <td>42.00</td>\n",
       "      <td>None</td>\n",
       "      <td>16</td>\n",
       "      <td>7.5</td>\n",
       "    </tr>\n",
       "    <tr>\n",
       "      <th>2</th>\n",
       "      <td>4</td>\n",
       "      <td>1203363</td>\n",
       "      <td>中国小说史略</td>\n",
       "      <td>鲁迅</td>\n",
       "      <td>上海古籍出版社</td>\n",
       "      <td></td>\n",
       "      <td>1998</td>\n",
       "      <td></td>\n",
       "      <td>平装</td>\n",
       "      <td>9787532523337</td>\n",
       "      <td>297</td>\n",
       "      <td>12.90</td>\n",
       "      <td>蓬莱阁丛书</td>\n",
       "      <td>1081</td>\n",
       "      <td>9.1</td>\n",
       "    </tr>\n",
       "    <tr>\n",
       "      <th>3</th>\n",
       "      <td>5</td>\n",
       "      <td>1200352</td>\n",
       "      <td>唐宋词流派史</td>\n",
       "      <td>刘扬忠</td>\n",
       "      <td>福建人民出版社</td>\n",
       "      <td></td>\n",
       "      <td>2007</td>\n",
       "      <td></td>\n",
       "      <td></td>\n",
       "      <td>9787211033058</td>\n",
       "      <td>457</td>\n",
       "      <td>30.00元</td>\n",
       "      <td>None</td>\n",
       "      <td></td>\n",
       "      <td></td>\n",
       "    </tr>\n",
       "    <tr>\n",
       "      <th>4</th>\n",
       "      <td>6</td>\n",
       "      <td>1134261</td>\n",
       "      <td>唐宋词史论</td>\n",
       "      <td>王兆鹏</td>\n",
       "      <td>\\n</td>\n",
       "      <td></td>\n",
       "      <td>2000</td>\n",
       "      <td></td>\n",
       "      <td></td>\n",
       "      <td>9787020030842</td>\n",
       "      <td>387</td>\n",
       "      <td>18.00元</td>\n",
       "      <td>中国古典文学研究丛书</td>\n",
       "      <td>28</td>\n",
       "      <td>8.5</td>\n",
       "    </tr>\n",
       "  </tbody>\n",
       "</table>\n",
       "</div>"
      ],
      "text/plain": [
       "   id      nid    title author  publisher translators  publication  \\\n",
       "0   2  1584537  中国诗歌源流史    莫林虎  中国社会科学出版社                     2002   \n",
       "1   3  1394349      元诗史     杨镰    人民文学出版社                     2003   \n",
       "2   4  1203363   中国小说史略     鲁迅    上海古籍出版社                     1998   \n",
       "3   5  1200352   唐宋词流派史    刘扬忠    福建人民出版社                     2007   \n",
       "4   6  1134261    唐宋词史论    王兆鹏   \\n                           2000   \n",
       "\n",
       "  originalname framed           isbn pagenumber   price       books  \\\n",
       "0                      9787500429395               28.0        None   \n",
       "1                  平装  9787020042371        750   42.00        None   \n",
       "2                  平装  9787532523337        297   12.90       蓬莱阁丛书   \n",
       "3                      9787211033058        457  30.00元        None   \n",
       "4                      9787020030842        387  18.00元  中国古典文学研究丛书   \n",
       "\n",
       "  numberofreviews score  \n",
       "0              12   7.6  \n",
       "1              16   7.5  \n",
       "2            1081   9.1  \n",
       "3                        \n",
       "4              28   8.5  "
      ]
     },
     "execution_count": 24,
     "metadata": {},
     "output_type": "execute_result"
    }
   ],
   "source": [
    "data2 = data1.copy()\n",
    "data2.head()"
   ]
  },
  {
   "cell_type": "markdown",
   "metadata": {},
   "source": [
    "（2）数据清洗，处理score评分项缺失和异常值"
   ]
  },
  {
   "cell_type": "code",
   "execution_count": 25,
   "metadata": {},
   "outputs": [
    {
     "data": {
      "text/html": [
       "<div>\n",
       "<style scoped>\n",
       "    .dataframe tbody tr th:only-of-type {\n",
       "        vertical-align: middle;\n",
       "    }\n",
       "\n",
       "    .dataframe tbody tr th {\n",
       "        vertical-align: top;\n",
       "    }\n",
       "\n",
       "    .dataframe thead th {\n",
       "        text-align: right;\n",
       "    }\n",
       "</style>\n",
       "<table border=\"1\" class=\"dataframe\">\n",
       "  <thead>\n",
       "    <tr style=\"text-align: right;\">\n",
       "      <th></th>\n",
       "      <th>id</th>\n",
       "      <th>nid</th>\n",
       "      <th>title</th>\n",
       "      <th>author</th>\n",
       "      <th>publisher</th>\n",
       "      <th>translators</th>\n",
       "      <th>publication</th>\n",
       "      <th>originalname</th>\n",
       "      <th>framed</th>\n",
       "      <th>isbn</th>\n",
       "      <th>pagenumber</th>\n",
       "      <th>price</th>\n",
       "      <th>books</th>\n",
       "      <th>numberofreviews</th>\n",
       "      <th>score</th>\n",
       "    </tr>\n",
       "  </thead>\n",
       "  <tbody>\n",
       "    <tr>\n",
       "      <th>0</th>\n",
       "      <td>2</td>\n",
       "      <td>1584537</td>\n",
       "      <td>中国诗歌源流史</td>\n",
       "      <td>莫林虎</td>\n",
       "      <td>中国社会科学出版社</td>\n",
       "      <td></td>\n",
       "      <td>2002</td>\n",
       "      <td></td>\n",
       "      <td></td>\n",
       "      <td>9787500429395</td>\n",
       "      <td></td>\n",
       "      <td>28.0</td>\n",
       "      <td>None</td>\n",
       "      <td>12</td>\n",
       "      <td>7.6</td>\n",
       "    </tr>\n",
       "    <tr>\n",
       "      <th>1</th>\n",
       "      <td>3</td>\n",
       "      <td>1394349</td>\n",
       "      <td>元诗史</td>\n",
       "      <td>杨镰</td>\n",
       "      <td>人民文学出版社</td>\n",
       "      <td></td>\n",
       "      <td>2003</td>\n",
       "      <td></td>\n",
       "      <td>平装</td>\n",
       "      <td>9787020042371</td>\n",
       "      <td>750</td>\n",
       "      <td>42.00</td>\n",
       "      <td>None</td>\n",
       "      <td>16</td>\n",
       "      <td>7.5</td>\n",
       "    </tr>\n",
       "    <tr>\n",
       "      <th>2</th>\n",
       "      <td>4</td>\n",
       "      <td>1203363</td>\n",
       "      <td>中国小说史略</td>\n",
       "      <td>鲁迅</td>\n",
       "      <td>上海古籍出版社</td>\n",
       "      <td></td>\n",
       "      <td>1998</td>\n",
       "      <td></td>\n",
       "      <td>平装</td>\n",
       "      <td>9787532523337</td>\n",
       "      <td>297</td>\n",
       "      <td>12.90</td>\n",
       "      <td>蓬莱阁丛书</td>\n",
       "      <td>1081</td>\n",
       "      <td>9.1</td>\n",
       "    </tr>\n",
       "    <tr>\n",
       "      <th>4</th>\n",
       "      <td>6</td>\n",
       "      <td>1134261</td>\n",
       "      <td>唐宋词史论</td>\n",
       "      <td>王兆鹏</td>\n",
       "      <td>\\n</td>\n",
       "      <td></td>\n",
       "      <td>2000</td>\n",
       "      <td></td>\n",
       "      <td></td>\n",
       "      <td>9787020030842</td>\n",
       "      <td>387</td>\n",
       "      <td>18.00元</td>\n",
       "      <td>中国古典文学研究丛书</td>\n",
       "      <td>28</td>\n",
       "      <td>8.5</td>\n",
       "    </tr>\n",
       "    <tr>\n",
       "      <th>5</th>\n",
       "      <td>7</td>\n",
       "      <td>1002262</td>\n",
       "      <td>宋元戏曲史</td>\n",
       "      <td>王国维</td>\n",
       "      <td>上海古籍出版社</td>\n",
       "      <td></td>\n",
       "      <td>1998</td>\n",
       "      <td></td>\n",
       "      <td>平装</td>\n",
       "      <td>9787532524884</td>\n",
       "      <td>167</td>\n",
       "      <td>12.00元</td>\n",
       "      <td>蓬莱阁丛书</td>\n",
       "      <td>436</td>\n",
       "      <td>9.0</td>\n",
       "    </tr>\n",
       "  </tbody>\n",
       "</table>\n",
       "</div>"
      ],
      "text/plain": [
       "   id      nid    title author  publisher translators  publication  \\\n",
       "0   2  1584537  中国诗歌源流史    莫林虎  中国社会科学出版社                     2002   \n",
       "1   3  1394349      元诗史     杨镰    人民文学出版社                     2003   \n",
       "2   4  1203363   中国小说史略     鲁迅    上海古籍出版社                     1998   \n",
       "4   6  1134261    唐宋词史论    王兆鹏   \\n                           2000   \n",
       "5   7  1002262    宋元戏曲史    王国维    上海古籍出版社                     1998   \n",
       "\n",
       "  originalname framed           isbn pagenumber   price       books  \\\n",
       "0                      9787500429395               28.0        None   \n",
       "1                  平装  9787020042371        750   42.00        None   \n",
       "2                  平装  9787532523337        297   12.90       蓬莱阁丛书   \n",
       "4                      9787020030842        387  18.00元  中国古典文学研究丛书   \n",
       "5                  平装  9787532524884        167  12.00元       蓬莱阁丛书   \n",
       "\n",
       "  numberofreviews score  \n",
       "0              12   7.6  \n",
       "1              16   7.5  \n",
       "2            1081   9.1  \n",
       "4              28   8.5  \n",
       "5             436   9.0  "
      ]
     },
     "execution_count": 25,
     "metadata": {},
     "output_type": "execute_result"
    }
   ],
   "source": [
    "data2 = data2[(data2['score']!='')]     # 去掉没有评分的数据\n",
    "data2.head()"
   ]
  },
  {
   "cell_type": "code",
   "execution_count": 26,
   "metadata": {},
   "outputs": [
    {
     "data": {
      "text/plain": [
       "149345"
      ]
     },
     "execution_count": 26,
     "metadata": {},
     "output_type": "execute_result"
    }
   ],
   "source": [
    "len(data2)"
   ]
  },
  {
   "cell_type": "code",
   "execution_count": 27,
   "metadata": {},
   "outputs": [
    {
     "data": {
      "text/plain": [
       "149345"
      ]
     },
     "execution_count": 27,
     "metadata": {},
     "output_type": "execute_result"
    }
   ],
   "source": [
    "scores = []\n",
    "for score in data2['score']:\n",
    "    score = float(score)\n",
    "    scores.append(score)\n",
    "data2['score'] = scores\n",
    "len(scores)"
   ]
  },
  {
   "cell_type": "code",
   "execution_count": 28,
   "metadata": {},
   "outputs": [
    {
     "data": {
      "image/png": "[encoded data removed]",
      "text/plain": [
       "<Figure size 432x288 with 1 Axes>"
      ]
     },
     "metadata": {},
     "output_type": "display_data"
    }
   ],
   "source": [
    "data2[['score']].boxplot()\n",
    "plt.show()"
   ]
  },
  {
   "cell_type": "markdown",
   "metadata": {},
   "source": [
    "根据上面的箱线图，有很大一部分评分超出极限值，考虑到数据的准确性，这里就不再删除这部分数据了<br>\n",
    "只对评分判断一下最高分和最低分"
   ]
  },
  {
   "cell_type": "code",
   "execution_count": 29,
   "metadata": {},
   "outputs": [],
   "source": [
    "data2 = data2[(data2['score']>0) & (data2['score']<=10)]"
   ]
  },
  {
   "cell_type": "code",
   "execution_count": 30,
   "metadata": {},
   "outputs": [
    {
     "data": {
      "text/plain": [
       "149345"
      ]
     },
     "execution_count": 30,
     "metadata": {},
     "output_type": "execute_result"
    }
   ],
   "source": [
    "len(data2)"
   ]
  },
  {
   "cell_type": "markdown",
   "metadata": {},
   "source": [
    "与上面相同，说明data2中所有数据都正常，无异常值"
   ]
  },
  {
   "cell_type": "markdown",
   "metadata": {},
   "source": [
    "（3）获取每一年所有书籍评分的平均值"
   ]
  },
  {
   "cell_type": "code",
   "execution_count": 31,
   "metadata": {},
   "outputs": [
    {
     "data": {
      "text/plain": [
       "array([1920, 1921, 1922, 1923, 1924, 1925, 1926, 1927, 1928, 1929, 1930,\n",
       "       1931, 1932, 1933, 1934, 1935, 1936, 1937, 1938, 1939, 1940, 1941,\n",
       "       1942, 1943, 1944, 1945, 1946, 1947, 1948, 1949, 1950, 1951, 1952,\n",
       "       1953, 1954, 1955, 1956, 1957, 1958, 1959, 1960, 1961, 1962, 1963,\n",
       "       1964, 1965, 1966, 1967, 1968, 1969, 1970, 1971, 1972, 1973, 1974,\n",
       "       1975, 1976, 1977, 1978, 1979, 1980, 1981, 1982, 1983, 1984, 1985,\n",
       "       1986, 1987, 1988, 1989, 1990, 1991, 1992, 1993, 1994, 1995, 1996,\n",
       "       1997, 1998, 1999, 2000, 2001, 2002, 2003, 2004, 2005, 2006, 2007,\n",
       "       2008, 2009, 2010, 2011, 2012, 2013, 2014, 2015, 2016, 2017, 2018])"
      ]
     },
     "execution_count": 31,
     "metadata": {},
     "output_type": "execute_result"
    }
   ],
   "source": [
    "x"
   ]
  },
  {
   "cell_type": "code",
   "execution_count": 32,
   "metadata": {},
   "outputs": [
    {
     "data": {
      "text/plain": [
       "array([0., 0., 0., 0., 0., 0., 0., 0., 0., 0., 0., 0., 0., 0., 0., 0., 0.,\n",
       "       0., 0., 0., 0., 0., 0., 0., 0., 0., 0., 0., 0., 0., 0., 0., 0., 0.,\n",
       "       0., 0., 0., 0., 0., 0., 0., 0., 0., 0., 0., 0., 0., 0., 0., 0., 0.,\n",
       "       0., 0., 0., 0., 0., 0., 0., 0., 0., 0., 0., 0., 0., 0., 0., 0., 0.,\n",
       "       0., 0., 0., 0., 0., 0., 0., 0., 0., 0., 0., 0., 0., 0., 0., 0., 0.,\n",
       "       0., 0., 0., 0., 0., 0., 0., 0., 0., 0., 0., 0., 0., 0.])"
      ]
     },
     "execution_count": 32,
     "metadata": {},
     "output_type": "execute_result"
    }
   ],
   "source": [
    "y_score = np.zeros(2019-1920)\n",
    "y_score"
   ]
  },
  {
   "cell_type": "code",
   "execution_count": 33,
   "metadata": {},
   "outputs": [
    {
     "data": {
      "text/plain": [
       "array([0, 0, 0, 0, 0, 0, 0, 0, 0, 0, 0, 0, 0, 0, 0, 0, 0, 0, 0, 0, 0, 0,\n",
       "       0, 0, 0, 0, 0, 0, 0, 0, 0, 0, 0, 0, 0, 0, 0, 0, 0, 0, 0, 0, 0, 0,\n",
       "       0, 0, 0, 0, 0, 0, 0, 0, 0, 0, 0, 0, 0, 0, 0, 0, 0, 0, 0, 0, 0, 0,\n",
       "       0, 0, 0, 0, 0, 0, 0, 0, 0, 0, 0, 0, 0, 0, 0, 0, 0, 0, 0, 0, 0, 0,\n",
       "       0, 0, 0, 0, 0, 0, 0, 0, 0, 0, 0])"
      ]
     },
     "execution_count": 33,
     "metadata": {},
     "output_type": "execute_result"
    }
   ],
   "source": [
    "y_num = np.zeros(2019-1920, dtype=int)\n",
    "y_num"
   ]
  },
  {
   "cell_type": "code",
   "execution_count": 34,
   "metadata": {},
   "outputs": [
    {
     "data": {
      "text/html": [
       "<div>\n",
       "<style scoped>\n",
       "    .dataframe tbody tr th:only-of-type {\n",
       "        vertical-align: middle;\n",
       "    }\n",
       "\n",
       "    .dataframe tbody tr th {\n",
       "        vertical-align: top;\n",
       "    }\n",
       "\n",
       "    .dataframe thead th {\n",
       "        text-align: right;\n",
       "    }\n",
       "</style>\n",
       "<table border=\"1\" class=\"dataframe\">\n",
       "  <thead>\n",
       "    <tr style=\"text-align: right;\">\n",
       "      <th></th>\n",
       "      <th>id</th>\n",
       "      <th>nid</th>\n",
       "      <th>title</th>\n",
       "      <th>author</th>\n",
       "      <th>publisher</th>\n",
       "      <th>translators</th>\n",
       "      <th>publication</th>\n",
       "      <th>originalname</th>\n",
       "      <th>framed</th>\n",
       "      <th>isbn</th>\n",
       "      <th>pagenumber</th>\n",
       "      <th>price</th>\n",
       "      <th>books</th>\n",
       "      <th>numberofreviews</th>\n",
       "      <th>score</th>\n",
       "    </tr>\n",
       "  </thead>\n",
       "  <tbody>\n",
       "    <tr>\n",
       "      <th>0</th>\n",
       "      <td>2</td>\n",
       "      <td>1584537</td>\n",
       "      <td>中国诗歌源流史</td>\n",
       "      <td>莫林虎</td>\n",
       "      <td>中国社会科学出版社</td>\n",
       "      <td></td>\n",
       "      <td>2002</td>\n",
       "      <td></td>\n",
       "      <td></td>\n",
       "      <td>9787500429395</td>\n",
       "      <td></td>\n",
       "      <td>28.0</td>\n",
       "      <td>None</td>\n",
       "      <td>12</td>\n",
       "      <td>7.6</td>\n",
       "    </tr>\n",
       "    <tr>\n",
       "      <th>1</th>\n",
       "      <td>3</td>\n",
       "      <td>1394349</td>\n",
       "      <td>元诗史</td>\n",
       "      <td>杨镰</td>\n",
       "      <td>人民文学出版社</td>\n",
       "      <td></td>\n",
       "      <td>2003</td>\n",
       "      <td></td>\n",
       "      <td>平装</td>\n",
       "      <td>9787020042371</td>\n",
       "      <td>750</td>\n",
       "      <td>42.00</td>\n",
       "      <td>None</td>\n",
       "      <td>16</td>\n",
       "      <td>7.5</td>\n",
       "    </tr>\n",
       "    <tr>\n",
       "      <th>2</th>\n",
       "      <td>4</td>\n",
       "      <td>1203363</td>\n",
       "      <td>中国小说史略</td>\n",
       "      <td>鲁迅</td>\n",
       "      <td>上海古籍出版社</td>\n",
       "      <td></td>\n",
       "      <td>1998</td>\n",
       "      <td></td>\n",
       "      <td>平装</td>\n",
       "      <td>9787532523337</td>\n",
       "      <td>297</td>\n",
       "      <td>12.90</td>\n",
       "      <td>蓬莱阁丛书</td>\n",
       "      <td>1081</td>\n",
       "      <td>9.1</td>\n",
       "    </tr>\n",
       "    <tr>\n",
       "      <th>4</th>\n",
       "      <td>6</td>\n",
       "      <td>1134261</td>\n",
       "      <td>唐宋词史论</td>\n",
       "      <td>王兆鹏</td>\n",
       "      <td>\\n</td>\n",
       "      <td></td>\n",
       "      <td>2000</td>\n",
       "      <td></td>\n",
       "      <td></td>\n",
       "      <td>9787020030842</td>\n",
       "      <td>387</td>\n",
       "      <td>18.00元</td>\n",
       "      <td>中国古典文学研究丛书</td>\n",
       "      <td>28</td>\n",
       "      <td>8.5</td>\n",
       "    </tr>\n",
       "    <tr>\n",
       "      <th>5</th>\n",
       "      <td>7</td>\n",
       "      <td>1002262</td>\n",
       "      <td>宋元戏曲史</td>\n",
       "      <td>王国维</td>\n",
       "      <td>上海古籍出版社</td>\n",
       "      <td></td>\n",
       "      <td>1998</td>\n",
       "      <td></td>\n",
       "      <td>平装</td>\n",
       "      <td>9787532524884</td>\n",
       "      <td>167</td>\n",
       "      <td>12.00元</td>\n",
       "      <td>蓬莱阁丛书</td>\n",
       "      <td>436</td>\n",
       "      <td>9.0</td>\n",
       "    </tr>\n",
       "  </tbody>\n",
       "</table>\n",
       "</div>"
      ],
      "text/plain": [
       "   id      nid    title author  publisher translators  publication  \\\n",
       "0   2  1584537  中国诗歌源流史    莫林虎  中国社会科学出版社                     2002   \n",
       "1   3  1394349      元诗史     杨镰    人民文学出版社                     2003   \n",
       "2   4  1203363   中国小说史略     鲁迅    上海古籍出版社                     1998   \n",
       "4   6  1134261    唐宋词史论    王兆鹏   \\n                           2000   \n",
       "5   7  1002262    宋元戏曲史    王国维    上海古籍出版社                     1998   \n",
       "\n",
       "  originalname framed           isbn pagenumber   price       books  \\\n",
       "0                      9787500429395               28.0        None   \n",
       "1                  平装  9787020042371        750   42.00        None   \n",
       "2                  平装  9787532523337        297   12.90       蓬莱阁丛书   \n",
       "4                      9787020030842        387  18.00元  中国古典文学研究丛书   \n",
       "5                  平装  9787532524884        167  12.00元       蓬莱阁丛书   \n",
       "\n",
       "  numberofreviews  score  \n",
       "0              12    7.6  \n",
       "1              16    7.5  \n",
       "2            1081    9.1  \n",
       "4              28    8.5  \n",
       "5             436    9.0  "
      ]
     },
     "execution_count": 34,
     "metadata": {},
     "output_type": "execute_result"
    }
   ],
   "source": [
    "data2.head()"
   ]
  },
  {
   "cell_type": "code",
   "execution_count": 35,
   "metadata": {},
   "outputs": [],
   "source": [
    "data2.index = range(len(data2))    # 重置index"
   ]
  },
  {
   "cell_type": "code",
   "execution_count": 36,
   "metadata": {},
   "outputs": [
    {
     "data": {
      "text/html": [
       "<div>\n",
       "<style scoped>\n",
       "    .dataframe tbody tr th:only-of-type {\n",
       "        vertical-align: middle;\n",
       "    }\n",
       "\n",
       "    .dataframe tbody tr th {\n",
       "        vertical-align: top;\n",
       "    }\n",
       "\n",
       "    .dataframe thead th {\n",
       "        text-align: right;\n",
       "    }\n",
       "</style>\n",
       "<table border=\"1\" class=\"dataframe\">\n",
       "  <thead>\n",
       "    <tr style=\"text-align: right;\">\n",
       "      <th></th>\n",
       "      <th>id</th>\n",
       "      <th>nid</th>\n",
       "      <th>title</th>\n",
       "      <th>author</th>\n",
       "      <th>publisher</th>\n",
       "      <th>translators</th>\n",
       "      <th>publication</th>\n",
       "      <th>originalname</th>\n",
       "      <th>framed</th>\n",
       "      <th>isbn</th>\n",
       "      <th>pagenumber</th>\n",
       "      <th>price</th>\n",
       "      <th>books</th>\n",
       "      <th>numberofreviews</th>\n",
       "      <th>score</th>\n",
       "    </tr>\n",
       "  </thead>\n",
       "  <tbody>\n",
       "    <tr>\n",
       "      <th>0</th>\n",
       "      <td>2</td>\n",
       "      <td>1584537</td>\n",
       "      <td>中国诗歌源流史</td>\n",
       "      <td>莫林虎</td>\n",
       "      <td>中国社会科学出版社</td>\n",
       "      <td></td>\n",
       "      <td>2002</td>\n",
       "      <td></td>\n",
       "      <td></td>\n",
       "      <td>9787500429395</td>\n",
       "      <td></td>\n",
       "      <td>28.0</td>\n",
       "      <td>None</td>\n",
       "      <td>12</td>\n",
       "      <td>7.6</td>\n",
       "    </tr>\n",
       "    <tr>\n",
       "      <th>1</th>\n",
       "      <td>3</td>\n",
       "      <td>1394349</td>\n",
       "      <td>元诗史</td>\n",
       "      <td>杨镰</td>\n",
       "      <td>人民文学出版社</td>\n",
       "      <td></td>\n",
       "      <td>2003</td>\n",
       "      <td></td>\n",
       "      <td>平装</td>\n",
       "      <td>9787020042371</td>\n",
       "      <td>750</td>\n",
       "      <td>42.00</td>\n",
       "      <td>None</td>\n",
       "      <td>16</td>\n",
       "      <td>7.5</td>\n",
       "    </tr>\n",
       "    <tr>\n",
       "      <th>2</th>\n",
       "      <td>4</td>\n",
       "      <td>1203363</td>\n",
       "      <td>中国小说史略</td>\n",
       "      <td>鲁迅</td>\n",
       "      <td>上海古籍出版社</td>\n",
       "      <td></td>\n",
       "      <td>1998</td>\n",
       "      <td></td>\n",
       "      <td>平装</td>\n",
       "      <td>9787532523337</td>\n",
       "      <td>297</td>\n",
       "      <td>12.90</td>\n",
       "      <td>蓬莱阁丛书</td>\n",
       "      <td>1081</td>\n",
       "      <td>9.1</td>\n",
       "    </tr>\n",
       "    <tr>\n",
       "      <th>3</th>\n",
       "      <td>6</td>\n",
       "      <td>1134261</td>\n",
       "      <td>唐宋词史论</td>\n",
       "      <td>王兆鹏</td>\n",
       "      <td>\\n</td>\n",
       "      <td></td>\n",
       "      <td>2000</td>\n",
       "      <td></td>\n",
       "      <td></td>\n",
       "      <td>9787020030842</td>\n",
       "      <td>387</td>\n",
       "      <td>18.00元</td>\n",
       "      <td>中国古典文学研究丛书</td>\n",
       "      <td>28</td>\n",
       "      <td>8.5</td>\n",
       "    </tr>\n",
       "    <tr>\n",
       "      <th>4</th>\n",
       "      <td>7</td>\n",
       "      <td>1002262</td>\n",
       "      <td>宋元戏曲史</td>\n",
       "      <td>王国维</td>\n",
       "      <td>上海古籍出版社</td>\n",
       "      <td></td>\n",
       "      <td>1998</td>\n",
       "      <td></td>\n",
       "      <td>平装</td>\n",
       "      <td>9787532524884</td>\n",
       "      <td>167</td>\n",
       "      <td>12.00元</td>\n",
       "      <td>蓬莱阁丛书</td>\n",
       "      <td>436</td>\n",
       "      <td>9.0</td>\n",
       "    </tr>\n",
       "  </tbody>\n",
       "</table>\n",
       "</div>"
      ],
      "text/plain": [
       "   id      nid    title author  publisher translators  publication  \\\n",
       "0   2  1584537  中国诗歌源流史    莫林虎  中国社会科学出版社                     2002   \n",
       "1   3  1394349      元诗史     杨镰    人民文学出版社                     2003   \n",
       "2   4  1203363   中国小说史略     鲁迅    上海古籍出版社                     1998   \n",
       "3   6  1134261    唐宋词史论    王兆鹏   \\n                           2000   \n",
       "4   7  1002262    宋元戏曲史    王国维    上海古籍出版社                     1998   \n",
       "\n",
       "  originalname framed           isbn pagenumber   price       books  \\\n",
       "0                      9787500429395               28.0        None   \n",
       "1                  平装  9787020042371        750   42.00        None   \n",
       "2                  平装  9787532523337        297   12.90       蓬莱阁丛书   \n",
       "3                      9787020030842        387  18.00元  中国古典文学研究丛书   \n",
       "4                  平装  9787532524884        167  12.00元       蓬莱阁丛书   \n",
       "\n",
       "  numberofreviews  score  \n",
       "0              12    7.6  \n",
       "1              16    7.5  \n",
       "2            1081    9.1  \n",
       "3              28    8.5  \n",
       "4             436    9.0  "
      ]
     },
     "execution_count": 36,
     "metadata": {},
     "output_type": "execute_result"
    }
   ],
   "source": [
    "data2.head()"
   ]
  },
  {
   "cell_type": "code",
   "execution_count": 37,
   "metadata": {},
   "outputs": [
    {
     "name": "stdout",
     "output_type": "stream",
     "text": [
      "2002\n",
      "CPU times: user 8.76 ms, sys: 3.37 ms, total: 12.1 ms\n",
      "Wall time: 10.8 ms\n"
     ]
    }
   ],
   "source": [
    "%%time\n",
    "publication2 = data2['publication']\n",
    "for m in range(len(data2)):\n",
    "    print(publication2[m])\n",
    "    break"
   ]
  },
  {
   "cell_type": "code",
   "execution_count": 38,
   "metadata": {},
   "outputs": [
    {
     "name": "stdout",
     "output_type": "stream",
     "text": [
      "149345\n",
      "149345\n"
     ]
    }
   ],
   "source": [
    "publication2 = data2['publication']\n",
    "score2 = data2['score']\n",
    "print(len(publication2))\n",
    "print(len(score2))"
   ]
  },
  {
   "cell_type": "code",
   "execution_count": 39,
   "metadata": {},
   "outputs": [
    {
     "name": "stdout",
     "output_type": "stream",
     "text": [
      "CPU times: user 2min 40s, sys: 270 ms, total: 2min 41s\n",
      "Wall time: 2min 41s\n"
     ]
    }
   ],
   "source": [
    "%%time\n",
    "for m in range(len(data2)):\n",
    "    index = 0\n",
    "    for x_data in x:\n",
    "        if publication2[m] == x_data:\n",
    "            y_score[index] += score2[m]\n",
    "            y_num[index] += 1\n",
    "        index += 1"
   ]
  },
  {
   "cell_type": "code",
   "execution_count": 40,
   "metadata": {},
   "outputs": [
    {
     "data": {
      "text/plain": [
       "array([7.80000e+00, 0.00000e+00, 0.00000e+00, 0.00000e+00, 0.00000e+00,\n",
       "       0.00000e+00, 0.00000e+00, 0.00000e+00, 9.00000e+00, 1.43000e+01,\n",
       "       9.10000e+00, 7.60000e+00, 0.00000e+00, 7.80000e+00, 7.40000e+00,\n",
       "       0.00000e+00, 8.00000e+00, 1.62000e+01, 1.63000e+01, 0.00000e+00,\n",
       "       8.70000e+00, 8.10000e+00, 0.00000e+00, 7.70000e+00, 8.00000e+00,\n",
       "       8.70000e+00, 0.00000e+00, 0.00000e+00, 0.00000e+00, 3.53000e+01,\n",
       "       2.31000e+01, 2.68000e+01, 3.43000e+01, 5.23000e+01, 9.85000e+01,\n",
       "       1.15000e+02, 3.44900e+02, 3.39600e+02, 6.08200e+02, 4.54200e+02,\n",
       "       2.26800e+02, 2.32800e+02, 4.85500e+02, 4.30900e+02, 1.89200e+02,\n",
       "       1.90900e+02, 1.00900e+02, 7.50000e+01, 5.41000e+01, 1.17700e+02,\n",
       "       1.42730e+03, 2.21900e+02, 2.36800e+02, 5.20900e+02, 3.68900e+02,\n",
       "       3.84800e+02, 4.52500e+02, 4.54800e+02, 1.19630e+03, 2.37170e+03,\n",
       "       2.49630e+03, 3.23960e+03, 2.78980e+03, 3.31770e+03, 3.44910e+03,\n",
       "       3.63210e+03, 3.60170e+03, 4.09330e+03, 3.98470e+03, 3.77870e+03,\n",
       "       3.58340e+03, 4.70930e+03, 5.31700e+03, 5.40020e+03, 6.95880e+03,\n",
       "       7.15500e+03, 1.08517e+04, 1.40069e+04, 1.83621e+04, 1.97160e+04,\n",
       "       2.26611e+04, 2.69689e+04, 3.38759e+04, 4.42087e+04, 5.73027e+04,\n",
       "       6.85967e+04, 7.65062e+04, 8.16782e+04, 8.38112e+04, 8.81180e+04,\n",
       "       8.66012e+04, 8.23673e+04, 7.13474e+04, 5.92437e+04, 4.83572e+04,\n",
       "       4.24944e+04, 3.79445e+04, 2.08721e+04, 9.77500e+02])"
      ]
     },
     "execution_count": 40,
     "metadata": {},
     "output_type": "execute_result"
    }
   ],
   "source": [
    "y_score"
   ]
  },
  {
   "cell_type": "code",
   "execution_count": 41,
   "metadata": {},
   "outputs": [
    {
     "data": {
      "text/plain": [
       "array([    1,     0,     0,     0,     0,     0,     0,     0,     1,\n",
       "           2,     1,     1,     0,     1,     1,     0,     1,     2,\n",
       "           2,     0,     1,     1,     0,     1,     1,     1,     0,\n",
       "           0,     0,     4,     3,     3,     4,     6,    12,    14,\n",
       "          41,    39,    73,    54,    27,    27,    57,    51,    23,\n",
       "          23,    12,     9,     6,    14,   188,    26,    30,    63,\n",
       "          45,    48,    54,    56,   140,   278,   295,   389,   331,\n",
       "         398,   411,   439,   433,   498,   492,   461,   432,   566,\n",
       "         646,   658,   842,   878,  1336,  1707,  2259,  2428,  2813,\n",
       "        3372,  4235,  5586,  7263,  8735,  9766, 10438, 10707, 11248,\n",
       "       11084, 10608,  9197,  7624,  6251,  5475,  4830,  2647,   119])"
      ]
     },
     "execution_count": 41,
     "metadata": {},
     "output_type": "execute_result"
    }
   ],
   "source": [
    "y_num"
   ]
  },
  {
   "cell_type": "markdown",
   "metadata": {},
   "source": [
    "因为除数不能为0，所以我将个数为0的全置为1，对求平均值不影响"
   ]
  },
  {
   "cell_type": "code",
   "execution_count": 42,
   "metadata": {},
   "outputs": [
    {
     "data": {
      "text/plain": [
       "array([    1,     1,     1,     1,     1,     1,     1,     1,     1,\n",
       "           2,     1,     1,     1,     1,     1,     1,     1,     2,\n",
       "           2,     1,     1,     1,     1,     1,     1,     1,     1,\n",
       "           1,     1,     4,     3,     3,     4,     6,    12,    14,\n",
       "          41,    39,    73,    54,    27,    27,    57,    51,    23,\n",
       "          23,    12,     9,     6,    14,   188,    26,    30,    63,\n",
       "          45,    48,    54,    56,   140,   278,   295,   389,   331,\n",
       "         398,   411,   439,   433,   498,   492,   461,   432,   566,\n",
       "         646,   658,   842,   878,  1336,  1707,  2259,  2428,  2813,\n",
       "        3372,  4235,  5586,  7263,  8735,  9766, 10438, 10707, 11248,\n",
       "       11084, 10608,  9197,  7624,  6251,  5475,  4830,  2647,   119])"
      ]
     },
     "execution_count": 42,
     "metadata": {},
     "output_type": "execute_result"
    }
   ],
   "source": [
    "index = 0\n",
    "for i in y_num:\n",
    "    if i==0:\n",
    "        y_num[index] = 1\n",
    "    index += 1\n",
    "y_num"
   ]
  },
  {
   "cell_type": "code",
   "execution_count": 43,
   "metadata": {},
   "outputs": [
    {
     "data": {
      "text/plain": [
       "array([7.8       , 0.        , 0.        , 0.        , 0.        ,\n",
       "       0.        , 0.        , 0.        , 9.        , 7.15      ,\n",
       "       9.1       , 7.6       , 0.        , 7.8       , 7.4       ,\n",
       "       0.        , 8.        , 8.1       , 8.15      , 0.        ,\n",
       "       8.7       , 8.1       , 0.        , 7.7       , 8.        ,\n",
       "       8.7       , 0.        , 0.        , 0.        , 8.825     ,\n",
       "       7.7       , 8.93333333, 8.575     , 8.71666667, 8.20833333,\n",
       "       8.21428571, 8.41219512, 8.70769231, 8.33150685, 8.41111111,\n",
       "       8.4       , 8.62222222, 8.51754386, 8.44901961, 8.22608696,\n",
       "       8.3       , 8.40833333, 8.33333333, 9.01666667, 8.40714286,\n",
       "       7.59202128, 8.53461538, 7.89333333, 8.26825397, 8.19777778,\n",
       "       8.01666667, 8.37962963, 8.12142857, 8.545     , 8.53129496,\n",
       "       8.4620339 , 8.32802057, 8.42839879, 8.33592965, 8.3919708 ,\n",
       "       8.27357631, 8.31801386, 8.21947791, 8.09898374, 8.1967462 ,\n",
       "       8.29490741, 8.32031802, 8.23065015, 8.20699088, 8.26460808,\n",
       "       8.14920273, 8.12252994, 8.20556532, 8.12841965, 8.12026359,\n",
       "       8.05584785, 7.99789442, 7.99903188, 7.9141962 , 7.88967369,\n",
       "       7.85308529, 7.83393406, 7.82508143, 7.8277015 , 7.83410384,\n",
       "       7.81317214, 7.76463989, 7.75768185, 7.77068468, 7.73591425,\n",
       "       7.76153425, 7.85600414, 7.88519078, 8.21428571])"
      ]
     },
     "execution_count": 43,
     "metadata": {},
     "output_type": "execute_result"
    }
   ],
   "source": [
    "y2 = y_score/y_num\n",
    "y2"
   ]
  },
  {
   "cell_type": "markdown",
   "metadata": {},
   "source": [
    "（4）画图"
   ]
  },
  {
   "cell_type": "code",
   "execution_count": 44,
   "metadata": {},
   "outputs": [
    {
     "data": {
      "image/png": "[encoded data removed]",
      "text/plain": [
       "<Figure size 432x288 with 1 Axes>"
      ]
     },
     "metadata": {},
     "output_type": "display_data"
    }
   ],
   "source": [
    "plt.plot(x, y2)\n",
    "plt.show()"
   ]
  },
  {
   "cell_type": "markdown",
   "metadata": {},
   "source": [
    "由于1950年之前很多年没有评分，都为0，导致数据不稳定，下面我们从1950年开始进行数据分析"
   ]
  },
  {
   "cell_type": "code",
   "execution_count": 45,
   "metadata": {},
   "outputs": [
    {
     "data": {
      "image/png": "[encoded data removed]",
      "text/plain": [
       "<Figure size 432x288 with 1 Axes>"
      ]
     },
     "metadata": {},
     "output_type": "display_data"
    }
   ],
   "source": [
    "plt.plot(x[-70:], y2[-70:], label='realistic')\n",
    "plt.plot(x[-70:], np.full(70, 7.5), label='7.5')\n",
    "plt.plot(x[-70:], np.full(70, 8.5), label='8.5')\n",
    "plt.plot(x[-70:], np.full(70, 9.5), label='9.5')\n",
    "plt.legend()\n",
    "plt.show()"
   ]
  },
  {
   "cell_type": "markdown",
   "metadata": {},
   "source": [
    "##### 结论：\n",
    "从上图可以看出<br>\n",
    "（1）2000年之前出版的书籍评分相对较高一点。可能是因为2000年后书籍泛滥，导致书籍内容的质量不高，所以评分相对要低一些；<br>\n",
    "（2）从1980年开始，后期的书籍评分几乎一直在降低，可能是书籍内容质量降低导致；<br>\n",
    "（3）大概从2015年开始，书籍的评分有所上升，可能是电子书籍增多，纸质书更加注重内容的质量了，所以评分有所提高。<br>"
   ]
  },
  {
   "cell_type": "markdown",
   "metadata": {},
   "source": [
    "### 5. 书籍的价格⼀般都是在什么范围"
   ]
  },
  {
   "cell_type": "code",
   "execution_count": 46,
   "metadata": {},
   "outputs": [
    {
     "data": {
      "text/html": [
       "<div>\n",
       "<style scoped>\n",
       "    .dataframe tbody tr th:only-of-type {\n",
       "        vertical-align: middle;\n",
       "    }\n",
       "\n",
       "    .dataframe tbody tr th {\n",
       "        vertical-align: top;\n",
       "    }\n",
       "\n",
       "    .dataframe thead th {\n",
       "        text-align: right;\n",
       "    }\n",
       "</style>\n",
       "<table border=\"1\" class=\"dataframe\">\n",
       "  <thead>\n",
       "    <tr style=\"text-align: right;\">\n",
       "      <th></th>\n",
       "      <th>id</th>\n",
       "      <th>nid</th>\n",
       "      <th>title</th>\n",
       "      <th>author</th>\n",
       "      <th>publisher</th>\n",
       "      <th>translators</th>\n",
       "      <th>publication</th>\n",
       "      <th>originalname</th>\n",
       "      <th>framed</th>\n",
       "      <th>isbn</th>\n",
       "      <th>pagenumber</th>\n",
       "      <th>price</th>\n",
       "      <th>books</th>\n",
       "      <th>numberofreviews</th>\n",
       "      <th>score</th>\n",
       "    </tr>\n",
       "  </thead>\n",
       "  <tbody>\n",
       "    <tr>\n",
       "      <th>0</th>\n",
       "      <td>2</td>\n",
       "      <td>1584537</td>\n",
       "      <td>中国诗歌源流史</td>\n",
       "      <td>莫林虎</td>\n",
       "      <td>中国社会科学出版社</td>\n",
       "      <td></td>\n",
       "      <td>2002.4</td>\n",
       "      <td></td>\n",
       "      <td></td>\n",
       "      <td>9787500429395</td>\n",
       "      <td></td>\n",
       "      <td>28.0</td>\n",
       "      <td>None</td>\n",
       "      <td>12</td>\n",
       "      <td>7.6</td>\n",
       "    </tr>\n",
       "    <tr>\n",
       "      <th>1</th>\n",
       "      <td>3</td>\n",
       "      <td>1394349</td>\n",
       "      <td>元诗史</td>\n",
       "      <td>杨镰</td>\n",
       "      <td>人民文学出版社</td>\n",
       "      <td></td>\n",
       "      <td>2003</td>\n",
       "      <td></td>\n",
       "      <td>平装</td>\n",
       "      <td>9787020042371</td>\n",
       "      <td>750</td>\n",
       "      <td>42.00</td>\n",
       "      <td>None</td>\n",
       "      <td>16</td>\n",
       "      <td>7.5</td>\n",
       "    </tr>\n",
       "    <tr>\n",
       "      <th>2</th>\n",
       "      <td>4</td>\n",
       "      <td>1203363</td>\n",
       "      <td>中国小说史略</td>\n",
       "      <td>鲁迅</td>\n",
       "      <td>上海古籍出版社</td>\n",
       "      <td></td>\n",
       "      <td>1998-01-01</td>\n",
       "      <td></td>\n",
       "      <td>平装</td>\n",
       "      <td>9787532523337</td>\n",
       "      <td>297</td>\n",
       "      <td>12.90</td>\n",
       "      <td>蓬莱阁丛书</td>\n",
       "      <td>1081</td>\n",
       "      <td>9.1</td>\n",
       "    </tr>\n",
       "    <tr>\n",
       "      <th>3</th>\n",
       "      <td>5</td>\n",
       "      <td>1200352</td>\n",
       "      <td>唐宋词流派史</td>\n",
       "      <td>刘扬忠</td>\n",
       "      <td>福建人民出版社</td>\n",
       "      <td></td>\n",
       "      <td>2007-4</td>\n",
       "      <td></td>\n",
       "      <td></td>\n",
       "      <td>9787211033058</td>\n",
       "      <td>457</td>\n",
       "      <td>30.00元</td>\n",
       "      <td>None</td>\n",
       "      <td></td>\n",
       "      <td></td>\n",
       "    </tr>\n",
       "    <tr>\n",
       "      <th>4</th>\n",
       "      <td>6</td>\n",
       "      <td>1134261</td>\n",
       "      <td>唐宋词史论</td>\n",
       "      <td>王兆鹏</td>\n",
       "      <td>\\n</td>\n",
       "      <td></td>\n",
       "      <td>2000-1</td>\n",
       "      <td></td>\n",
       "      <td></td>\n",
       "      <td>9787020030842</td>\n",
       "      <td>387</td>\n",
       "      <td>18.00元</td>\n",
       "      <td>中国古典文学研究丛书</td>\n",
       "      <td>28</td>\n",
       "      <td>8.5</td>\n",
       "    </tr>\n",
       "  </tbody>\n",
       "</table>\n",
       "</div>"
      ],
      "text/plain": [
       "   id      nid    title author  publisher translators publication  \\\n",
       "0   2  1584537  中国诗歌源流史    莫林虎  中国社会科学出版社                  2002.4   \n",
       "1   3  1394349      元诗史     杨镰    人民文学出版社                    2003   \n",
       "2   4  1203363   中国小说史略     鲁迅    上海古籍出版社              1998-01-01   \n",
       "3   5  1200352   唐宋词流派史    刘扬忠    福建人民出版社                  2007-4   \n",
       "4   6  1134261    唐宋词史论    王兆鹏   \\n                        2000-1   \n",
       "\n",
       "  originalname framed           isbn pagenumber   price       books  \\\n",
       "0                      9787500429395               28.0        None   \n",
       "1                  平装  9787020042371        750   42.00        None   \n",
       "2                  平装  9787532523337        297   12.90       蓬莱阁丛书   \n",
       "3                      9787211033058        457  30.00元        None   \n",
       "4                      9787020030842        387  18.00元  中国古典文学研究丛书   \n",
       "\n",
       "  numberofreviews score  \n",
       "0              12   7.6  \n",
       "1              16   7.5  \n",
       "2            1081   9.1  \n",
       "3                        \n",
       "4              28   8.5  "
      ]
     },
     "execution_count": 46,
     "metadata": {},
     "output_type": "execute_result"
    }
   ],
   "source": [
    "data.head()"
   ]
  },
  {
   "cell_type": "markdown",
   "metadata": {},
   "source": [
    "（1）对价格这一列的数据进行清洗"
   ]
  },
  {
   "cell_type": "code",
   "execution_count": 47,
   "metadata": {},
   "outputs": [],
   "source": [
    "data3 = data.copy()"
   ]
  },
  {
   "cell_type": "markdown",
   "metadata": {},
   "source": [
    "先取出价格为空的数据"
   ]
  },
  {
   "cell_type": "code",
   "execution_count": 48,
   "metadata": {},
   "outputs": [
    {
     "data": {
      "text/plain": [
       "0"
      ]
     },
     "execution_count": 48,
     "metadata": {},
     "output_type": "execute_result"
    }
   ],
   "source": [
    "data3['price'].isnull().sum()"
   ]
  },
  {
   "cell_type": "code",
   "execution_count": 49,
   "metadata": {},
   "outputs": [
    {
     "data": {
      "text/plain": [
       "11079"
      ]
     },
     "execution_count": 49,
     "metadata": {},
     "output_type": "execute_result"
    }
   ],
   "source": [
    "(data3['price']=='').sum()"
   ]
  },
  {
   "cell_type": "code",
   "execution_count": 50,
   "metadata": {},
   "outputs": [
    {
     "data": {
      "text/plain": [
       "213556"
      ]
     },
     "execution_count": 50,
     "metadata": {},
     "output_type": "execute_result"
    }
   ],
   "source": [
    "data3 = data3[(data3['price']!='')]\n",
    "len(data3)"
   ]
  },
  {
   "cell_type": "code",
   "execution_count": 51,
   "metadata": {},
   "outputs": [
    {
     "data": {
      "text/html": [
       "<div>\n",
       "<style scoped>\n",
       "    .dataframe tbody tr th:only-of-type {\n",
       "        vertical-align: middle;\n",
       "    }\n",
       "\n",
       "    .dataframe tbody tr th {\n",
       "        vertical-align: top;\n",
       "    }\n",
       "\n",
       "    .dataframe thead th {\n",
       "        text-align: right;\n",
       "    }\n",
       "</style>\n",
       "<table border=\"1\" class=\"dataframe\">\n",
       "  <thead>\n",
       "    <tr style=\"text-align: right;\">\n",
       "      <th></th>\n",
       "      <th>id</th>\n",
       "      <th>nid</th>\n",
       "      <th>title</th>\n",
       "      <th>author</th>\n",
       "      <th>publisher</th>\n",
       "      <th>translators</th>\n",
       "      <th>publication</th>\n",
       "      <th>originalname</th>\n",
       "      <th>framed</th>\n",
       "      <th>isbn</th>\n",
       "      <th>pagenumber</th>\n",
       "      <th>price</th>\n",
       "      <th>books</th>\n",
       "      <th>numberofreviews</th>\n",
       "      <th>score</th>\n",
       "    </tr>\n",
       "  </thead>\n",
       "  <tbody>\n",
       "    <tr>\n",
       "      <th>0</th>\n",
       "      <td>2</td>\n",
       "      <td>1584537</td>\n",
       "      <td>中国诗歌源流史</td>\n",
       "      <td>莫林虎</td>\n",
       "      <td>中国社会科学出版社</td>\n",
       "      <td></td>\n",
       "      <td>2002.4</td>\n",
       "      <td></td>\n",
       "      <td></td>\n",
       "      <td>9787500429395</td>\n",
       "      <td></td>\n",
       "      <td>28.0</td>\n",
       "      <td>None</td>\n",
       "      <td>12</td>\n",
       "      <td>7.6</td>\n",
       "    </tr>\n",
       "    <tr>\n",
       "      <th>1</th>\n",
       "      <td>3</td>\n",
       "      <td>1394349</td>\n",
       "      <td>元诗史</td>\n",
       "      <td>杨镰</td>\n",
       "      <td>人民文学出版社</td>\n",
       "      <td></td>\n",
       "      <td>2003</td>\n",
       "      <td></td>\n",
       "      <td>平装</td>\n",
       "      <td>9787020042371</td>\n",
       "      <td>750</td>\n",
       "      <td>42.00</td>\n",
       "      <td>None</td>\n",
       "      <td>16</td>\n",
       "      <td>7.5</td>\n",
       "    </tr>\n",
       "    <tr>\n",
       "      <th>2</th>\n",
       "      <td>4</td>\n",
       "      <td>1203363</td>\n",
       "      <td>中国小说史略</td>\n",
       "      <td>鲁迅</td>\n",
       "      <td>上海古籍出版社</td>\n",
       "      <td></td>\n",
       "      <td>1998-01-01</td>\n",
       "      <td></td>\n",
       "      <td>平装</td>\n",
       "      <td>9787532523337</td>\n",
       "      <td>297</td>\n",
       "      <td>12.90</td>\n",
       "      <td>蓬莱阁丛书</td>\n",
       "      <td>1081</td>\n",
       "      <td>9.1</td>\n",
       "    </tr>\n",
       "    <tr>\n",
       "      <th>3</th>\n",
       "      <td>5</td>\n",
       "      <td>1200352</td>\n",
       "      <td>唐宋词流派史</td>\n",
       "      <td>刘扬忠</td>\n",
       "      <td>福建人民出版社</td>\n",
       "      <td></td>\n",
       "      <td>2007-4</td>\n",
       "      <td></td>\n",
       "      <td></td>\n",
       "      <td>9787211033058</td>\n",
       "      <td>457</td>\n",
       "      <td>30.00元</td>\n",
       "      <td>None</td>\n",
       "      <td></td>\n",
       "      <td></td>\n",
       "    </tr>\n",
       "    <tr>\n",
       "      <th>4</th>\n",
       "      <td>6</td>\n",
       "      <td>1134261</td>\n",
       "      <td>唐宋词史论</td>\n",
       "      <td>王兆鹏</td>\n",
       "      <td>\\n</td>\n",
       "      <td></td>\n",
       "      <td>2000-1</td>\n",
       "      <td></td>\n",
       "      <td></td>\n",
       "      <td>9787020030842</td>\n",
       "      <td>387</td>\n",
       "      <td>18.00元</td>\n",
       "      <td>中国古典文学研究丛书</td>\n",
       "      <td>28</td>\n",
       "      <td>8.5</td>\n",
       "    </tr>\n",
       "  </tbody>\n",
       "</table>\n",
       "</div>"
      ],
      "text/plain": [
       "   id      nid    title author  publisher translators publication  \\\n",
       "0   2  1584537  中国诗歌源流史    莫林虎  中国社会科学出版社                  2002.4   \n",
       "1   3  1394349      元诗史     杨镰    人民文学出版社                    2003   \n",
       "2   4  1203363   中国小说史略     鲁迅    上海古籍出版社              1998-01-01   \n",
       "3   5  1200352   唐宋词流派史    刘扬忠    福建人民出版社                  2007-4   \n",
       "4   6  1134261    唐宋词史论    王兆鹏   \\n                        2000-1   \n",
       "\n",
       "  originalname framed           isbn pagenumber   price       books  \\\n",
       "0                      9787500429395               28.0        None   \n",
       "1                  平装  9787020042371        750   42.00        None   \n",
       "2                  平装  9787532523337        297   12.90       蓬莱阁丛书   \n",
       "3                      9787211033058        457  30.00元        None   \n",
       "4                      9787020030842        387  18.00元  中国古典文学研究丛书   \n",
       "\n",
       "  numberofreviews score  \n",
       "0              12   7.6  \n",
       "1              16   7.5  \n",
       "2            1081   9.1  \n",
       "3                        \n",
       "4              28   8.5  "
      ]
     },
     "execution_count": 51,
     "metadata": {},
     "output_type": "execute_result"
    }
   ],
   "source": [
    "data3.head()"
   ]
  },
  {
   "cell_type": "markdown",
   "metadata": {},
   "source": [
    "去除掉价格列表示不规范导致无法处理的数据"
   ]
  },
  {
   "cell_type": "code",
   "execution_count": 52,
   "metadata": {},
   "outputs": [
    {
     "data": {
      "text/plain": [
       "213433"
      ]
     },
     "execution_count": 52,
     "metadata": {},
     "output_type": "execute_result"
    }
   ],
   "source": [
    "i = 0\n",
    "new_data3 = []\n",
    "for price in data3['price']:\n",
    "    price = str(price)\n",
    "    if re.match(r'.*?[0-9]+\\.{0,1}[0-9]*.*?', price) != None:\n",
    "        new_data3.append(data3.iloc[i])\n",
    "#     else:\n",
    "#         print(price)\n",
    "    i += 1\n",
    "len(new_data3)"
   ]
  },
  {
   "cell_type": "code",
   "execution_count": 53,
   "metadata": {},
   "outputs": [
    {
     "data": {
      "text/plain": [
       "213433"
      ]
     },
     "execution_count": 53,
     "metadata": {},
     "output_type": "execute_result"
    }
   ],
   "source": [
    "new_data3 = pd.DataFrame(new_data3)\n",
    "len(new_data3)"
   ]
  },
  {
   "cell_type": "markdown",
   "metadata": {},
   "source": [
    "（2）统一价格这一列的格式"
   ]
  },
  {
   "cell_type": "code",
   "execution_count": 54,
   "metadata": {},
   "outputs": [
    {
     "data": {
      "text/plain": [
       "213433"
      ]
     },
     "execution_count": 54,
     "metadata": {},
     "output_type": "execute_result"
    }
   ],
   "source": [
    "# 下面这一段代码获取书的年份并转为4位数字字符替换原来不同规则的年份，方便后面统计分析\n",
    "new_prices = []\n",
    "for price in new_data3.price:\n",
    "    pricestr = str(price)\n",
    "    pricestr = re.search(r'^.*?([0-9]+\\.{0,1}[0-9]*).*$', pricestr).group(1)\n",
    "    try:\n",
    "        pricestr = float(pricestr)\n",
    "    except:\n",
    "        print(pricestr)\n",
    "    new_prices.append(pricestr)\n",
    "len(new_prices)"
   ]
  },
  {
   "cell_type": "code",
   "execution_count": 55,
   "metadata": {},
   "outputs": [],
   "source": [
    "new_data3['price'] = new_prices"
   ]
  },
  {
   "cell_type": "code",
   "execution_count": 56,
   "metadata": {},
   "outputs": [
    {
     "data": {
      "text/html": [
       "<div>\n",
       "<style scoped>\n",
       "    .dataframe tbody tr th:only-of-type {\n",
       "        vertical-align: middle;\n",
       "    }\n",
       "\n",
       "    .dataframe tbody tr th {\n",
       "        vertical-align: top;\n",
       "    }\n",
       "\n",
       "    .dataframe thead th {\n",
       "        text-align: right;\n",
       "    }\n",
       "</style>\n",
       "<table border=\"1\" class=\"dataframe\">\n",
       "  <thead>\n",
       "    <tr style=\"text-align: right;\">\n",
       "      <th></th>\n",
       "      <th>id</th>\n",
       "      <th>nid</th>\n",
       "      <th>title</th>\n",
       "      <th>author</th>\n",
       "      <th>publisher</th>\n",
       "      <th>translators</th>\n",
       "      <th>publication</th>\n",
       "      <th>originalname</th>\n",
       "      <th>framed</th>\n",
       "      <th>isbn</th>\n",
       "      <th>pagenumber</th>\n",
       "      <th>price</th>\n",
       "      <th>books</th>\n",
       "      <th>numberofreviews</th>\n",
       "      <th>score</th>\n",
       "    </tr>\n",
       "  </thead>\n",
       "  <tbody>\n",
       "    <tr>\n",
       "      <th>224629</th>\n",
       "      <td>419806</td>\n",
       "      <td>1926747</td>\n",
       "      <td>德语速成</td>\n",
       "      <td>翟永庚</td>\n",
       "      <td>译林出版社</td>\n",
       "      <td></td>\n",
       "      <td>2006-11</td>\n",
       "      <td></td>\n",
       "      <td>简裝本</td>\n",
       "      <td>9787806577660</td>\n",
       "      <td>612</td>\n",
       "      <td>36.0</td>\n",
       "      <td>None</td>\n",
       "      <td>24</td>\n",
       "      <td>8.0</td>\n",
       "    </tr>\n",
       "    <tr>\n",
       "      <th>224630</th>\n",
       "      <td>419807</td>\n",
       "      <td>3869737</td>\n",
       "      <td>瑞典语三百句</td>\n",
       "      <td>王梦达|（瑞）Lars|Bergman</td>\n",
       "      <td>北京大学出版社</td>\n",
       "      <td></td>\n",
       "      <td>2009-6-1</td>\n",
       "      <td></td>\n",
       "      <td>平装</td>\n",
       "      <td>9787301152140</td>\n",
       "      <td>250 页</td>\n",
       "      <td>25.0</td>\n",
       "      <td>None</td>\n",
       "      <td>24</td>\n",
       "      <td>8.2</td>\n",
       "    </tr>\n",
       "    <tr>\n",
       "      <th>224631</th>\n",
       "      <td>419810</td>\n",
       "      <td>4250737</td>\n",
       "      <td>大爭之世 卷四：大盜本色</td>\n",
       "      <td></td>\n",
       "      <td>高寶</td>\n",
       "      <td></td>\n",
       "      <td>2010年01月20日</td>\n",
       "      <td></td>\n",
       "      <td>平裝</td>\n",
       "      <td>9789861854120</td>\n",
       "      <td>304</td>\n",
       "      <td>260.0</td>\n",
       "      <td>大爭之世</td>\n",
       "      <td>55</td>\n",
       "      <td>7.3</td>\n",
       "    </tr>\n",
       "    <tr>\n",
       "      <th>224632</th>\n",
       "      <td>419814</td>\n",
       "      <td>11534920</td>\n",
       "      <td>三国机密（下）</td>\n",
       "      <td>马伯庸</td>\n",
       "      <td>江苏人民出版社</td>\n",
       "      <td></td>\n",
       "      <td>2012-8</td>\n",
       "      <td></td>\n",
       "      <td>平装</td>\n",
       "      <td>9787214086341</td>\n",
       "      <td>367</td>\n",
       "      <td>36.0</td>\n",
       "      <td>三国机密</td>\n",
       "      <td>3585</td>\n",
       "      <td>7.9</td>\n",
       "    </tr>\n",
       "    <tr>\n",
       "      <th>224634</th>\n",
       "      <td>419816</td>\n",
       "      <td>25734399</td>\n",
       "      <td>锦衣夜行5·逍遥游</td>\n",
       "      <td>月关</td>\n",
       "      <td>湖北少年儿童出版社</td>\n",
       "      <td></td>\n",
       "      <td>2013-7</td>\n",
       "      <td></td>\n",
       "      <td>平装</td>\n",
       "      <td>9787535390264</td>\n",
       "      <td>289</td>\n",
       "      <td>25.0</td>\n",
       "      <td>锦衣夜行</td>\n",
       "      <td>38</td>\n",
       "      <td>7.9</td>\n",
       "    </tr>\n",
       "  </tbody>\n",
       "</table>\n",
       "</div>"
      ],
      "text/plain": [
       "            id       nid         title               author  publisher  \\\n",
       "224629  419806   1926747          德语速成                  翟永庚      译林出版社   \n",
       "224630  419807   3869737        瑞典语三百句  王梦达|（瑞）Lars|Bergman    北京大学出版社   \n",
       "224631  419810   4250737  大爭之世 卷四：大盜本色                              高寶   \n",
       "224632  419814  11534920       三国机密（下）                  马伯庸    江苏人民出版社   \n",
       "224634  419816  25734399     锦衣夜行5·逍遥游                   月关  湖北少年儿童出版社   \n",
       "\n",
       "       translators  publication originalname framed           isbn pagenumber  \\\n",
       "224629                  2006-11                 简裝本  9787806577660        612   \n",
       "224630                 2009-6-1                  平装  9787301152140      250 页   \n",
       "224631              2010年01月20日                  平裝  9789861854120        304   \n",
       "224632                   2012-8                  平装  9787214086341        367   \n",
       "224634                   2013-7                  平装  9787535390264        289   \n",
       "\n",
       "        price books numberofreviews score  \n",
       "224629   36.0  None              24   8.0  \n",
       "224630   25.0  None              24   8.2  \n",
       "224631  260.0  大爭之世              55   7.3  \n",
       "224632   36.0  三国机密            3585   7.9  \n",
       "224634   25.0  锦衣夜行              38   7.9  "
      ]
     },
     "execution_count": 56,
     "metadata": {},
     "output_type": "execute_result"
    }
   ],
   "source": [
    "new_data3.tail()"
   ]
  },
  {
   "cell_type": "markdown",
   "metadata": {},
   "source": [
    "（3）对价格数据异常值进行判断和处理"
   ]
  },
  {
   "cell_type": "code",
   "execution_count": 57,
   "metadata": {},
   "outputs": [
    {
     "data": {
      "image/png": "[encoded data removed]",
      "text/plain": [
       "<Figure size 1080x648 with 1 Axes>"
      ]
     },
     "metadata": {},
     "output_type": "display_data"
    }
   ],
   "source": [
    "plt.figure(figsize=(15,9))\n",
    "new_data3[['price']].boxplot()\n",
    "plt.show()"
   ]
  },
  {
   "cell_type": "code",
   "execution_count": 58,
   "metadata": {},
   "outputs": [],
   "source": [
    "prices = new_data3['price']"
   ]
  },
  {
   "cell_type": "code",
   "execution_count": 59,
   "metadata": {},
   "outputs": [
    {
     "data": {
      "text/plain": [
       "60.0"
      ]
     },
     "execution_count": 59,
     "metadata": {},
     "output_type": "execute_result"
    }
   ],
   "source": [
    "q_upper = prices.quantile(0.75)\n",
    "q_upper"
   ]
  },
  {
   "cell_type": "code",
   "execution_count": 60,
   "metadata": {},
   "outputs": [
    {
     "data": {
      "text/plain": [
       "22.0"
      ]
     },
     "execution_count": 60,
     "metadata": {},
     "output_type": "execute_result"
    }
   ],
   "source": [
    "q_lower = prices.quantile(0.25)\n",
    "q_lower"
   ]
  },
  {
   "cell_type": "code",
   "execution_count": 61,
   "metadata": {},
   "outputs": [
    {
     "data": {
      "text/plain": [
       "38.0"
      ]
     },
     "execution_count": 61,
     "metadata": {},
     "output_type": "execute_result"
    }
   ],
   "source": [
    "val = q_upper - q_lower\n",
    "val"
   ]
  },
  {
   "cell_type": "code",
   "execution_count": 62,
   "metadata": {},
   "outputs": [],
   "source": [
    "k = 1.5"
   ]
  },
  {
   "cell_type": "code",
   "execution_count": 63,
   "metadata": {},
   "outputs": [
    {
     "data": {
      "text/plain": [
       "182138"
      ]
     },
     "execution_count": 63,
     "metadata": {},
     "output_type": "execute_result"
    }
   ],
   "source": [
    "new_data3 = new_data3[(new_data3['price'] < q_upper + k * val) & (new_data3['price'] > q_lower - k * val )]\n",
    "len(new_data3)"
   ]
  },
  {
   "cell_type": "code",
   "execution_count": 64,
   "metadata": {},
   "outputs": [],
   "source": [
    "prices = new_data3['price']"
   ]
  },
  {
   "cell_type": "code",
   "execution_count": 65,
   "metadata": {},
   "outputs": [
    {
     "data": {
      "text/plain": [
       "(array([16706., 39913., 57503., 27461., 15836.,  9464.,  4798.,  4312.,\n",
       "         4627.,  1518.]),\n",
       " array([  0.   ,  11.695,  23.39 ,  35.085,  46.78 ,  58.475,  70.17 ,\n",
       "         81.865,  93.56 , 105.255, 116.95 ]),\n",
       " <a list of 10 Patch objects>)"
      ]
     },
     "execution_count": 65,
     "metadata": {},
     "output_type": "execute_result"
    },
    {
     "data": {
      "image/png": "[encoded data removed]",
      "text/plain": [
       "<Figure size 432x288 with 1 Axes>"
      ]
     },
     "metadata": {},
     "output_type": "display_data"
    }
   ],
   "source": [
    "plt.hist(prices, color='c', rwidth=0.8)"
   ]
  },
  {
   "cell_type": "code",
   "execution_count": 66,
   "metadata": {},
   "outputs": [
    {
     "data": {
      "text/plain": [
       "12"
      ]
     },
     "execution_count": 66,
     "metadata": {},
     "output_type": "execute_result"
    }
   ],
   "source": [
    "import math\n",
    "bins = math.ceil((prices.max() - prices.min())/10)\n",
    "bins"
   ]
  },
  {
   "cell_type": "code",
   "execution_count": 67,
   "metadata": {},
   "outputs": [
    {
     "data": {
      "image/png": "[encoded data removed]",
      "text/plain": [
       "<Figure size 432x288 with 1 Axes>"
      ]
     },
     "metadata": {},
     "output_type": "display_data"
    }
   ],
   "source": [
    "res = plt.hist(prices, color='c', rwidth=0.8, range=(0, 10*bins), bins=bins)\n",
    "plt.show()"
   ]
  },
  {
   "cell_type": "code",
   "execution_count": 68,
   "metadata": {},
   "outputs": [
    {
     "data": {
      "text/plain": [
       "(array([13971., 28549., 52399., 37361., 17833.,  9392.,  6999.,  4097.,\n",
       "         4339.,  4267.,  1825.,  1106.]),\n",
       " array([  0.,  10.,  20.,  30.,  40.,  50.,  60.,  70.,  80.,  90., 100.,\n",
       "        110., 120.]),\n",
       " <a list of 12 Patch objects>)"
      ]
     },
     "execution_count": 68,
     "metadata": {},
     "output_type": "execute_result"
    }
   ],
   "source": [
    "res"
   ]
  },
  {
   "cell_type": "markdown",
   "metadata": {},
   "source": [
    "##### 结论：从上面的图和数据可知：大部分书的价格在0-60之间，其中20-30最多。"
   ]
  },
  {
   "cell_type": "markdown",
   "metadata": {},
   "source": [
    "## 6、出版的书籍最多的前20个出版社"
   ]
  },
  {
   "cell_type": "code",
   "execution_count": 69,
   "metadata": {},
   "outputs": [],
   "source": [
    "data4 = data.copy()"
   ]
  },
  {
   "cell_type": "code",
   "execution_count": 70,
   "metadata": {},
   "outputs": [
    {
     "data": {
      "text/html": [
       "<div>\n",
       "<style scoped>\n",
       "    .dataframe tbody tr th:only-of-type {\n",
       "        vertical-align: middle;\n",
       "    }\n",
       "\n",
       "    .dataframe tbody tr th {\n",
       "        vertical-align: top;\n",
       "    }\n",
       "\n",
       "    .dataframe thead th {\n",
       "        text-align: right;\n",
       "    }\n",
       "</style>\n",
       "<table border=\"1\" class=\"dataframe\">\n",
       "  <thead>\n",
       "    <tr style=\"text-align: right;\">\n",
       "      <th></th>\n",
       "      <th>id</th>\n",
       "      <th>nid</th>\n",
       "      <th>title</th>\n",
       "      <th>author</th>\n",
       "      <th>publisher</th>\n",
       "      <th>translators</th>\n",
       "      <th>publication</th>\n",
       "      <th>originalname</th>\n",
       "      <th>framed</th>\n",
       "      <th>isbn</th>\n",
       "      <th>pagenumber</th>\n",
       "      <th>price</th>\n",
       "      <th>books</th>\n",
       "      <th>numberofreviews</th>\n",
       "      <th>score</th>\n",
       "    </tr>\n",
       "  </thead>\n",
       "  <tbody>\n",
       "    <tr>\n",
       "      <th>0</th>\n",
       "      <td>2</td>\n",
       "      <td>1584537</td>\n",
       "      <td>中国诗歌源流史</td>\n",
       "      <td>莫林虎</td>\n",
       "      <td>中国社会科学出版社</td>\n",
       "      <td></td>\n",
       "      <td>2002.4</td>\n",
       "      <td></td>\n",
       "      <td></td>\n",
       "      <td>9787500429395</td>\n",
       "      <td></td>\n",
       "      <td>28.0</td>\n",
       "      <td>None</td>\n",
       "      <td>12</td>\n",
       "      <td>7.6</td>\n",
       "    </tr>\n",
       "    <tr>\n",
       "      <th>1</th>\n",
       "      <td>3</td>\n",
       "      <td>1394349</td>\n",
       "      <td>元诗史</td>\n",
       "      <td>杨镰</td>\n",
       "      <td>人民文学出版社</td>\n",
       "      <td></td>\n",
       "      <td>2003</td>\n",
       "      <td></td>\n",
       "      <td>平装</td>\n",
       "      <td>9787020042371</td>\n",
       "      <td>750</td>\n",
       "      <td>42.00</td>\n",
       "      <td>None</td>\n",
       "      <td>16</td>\n",
       "      <td>7.5</td>\n",
       "    </tr>\n",
       "    <tr>\n",
       "      <th>2</th>\n",
       "      <td>4</td>\n",
       "      <td>1203363</td>\n",
       "      <td>中国小说史略</td>\n",
       "      <td>鲁迅</td>\n",
       "      <td>上海古籍出版社</td>\n",
       "      <td></td>\n",
       "      <td>1998-01-01</td>\n",
       "      <td></td>\n",
       "      <td>平装</td>\n",
       "      <td>9787532523337</td>\n",
       "      <td>297</td>\n",
       "      <td>12.90</td>\n",
       "      <td>蓬莱阁丛书</td>\n",
       "      <td>1081</td>\n",
       "      <td>9.1</td>\n",
       "    </tr>\n",
       "    <tr>\n",
       "      <th>3</th>\n",
       "      <td>5</td>\n",
       "      <td>1200352</td>\n",
       "      <td>唐宋词流派史</td>\n",
       "      <td>刘扬忠</td>\n",
       "      <td>福建人民出版社</td>\n",
       "      <td></td>\n",
       "      <td>2007-4</td>\n",
       "      <td></td>\n",
       "      <td></td>\n",
       "      <td>9787211033058</td>\n",
       "      <td>457</td>\n",
       "      <td>30.00元</td>\n",
       "      <td>None</td>\n",
       "      <td></td>\n",
       "      <td></td>\n",
       "    </tr>\n",
       "    <tr>\n",
       "      <th>4</th>\n",
       "      <td>6</td>\n",
       "      <td>1134261</td>\n",
       "      <td>唐宋词史论</td>\n",
       "      <td>王兆鹏</td>\n",
       "      <td>\\n</td>\n",
       "      <td></td>\n",
       "      <td>2000-1</td>\n",
       "      <td></td>\n",
       "      <td></td>\n",
       "      <td>9787020030842</td>\n",
       "      <td>387</td>\n",
       "      <td>18.00元</td>\n",
       "      <td>中国古典文学研究丛书</td>\n",
       "      <td>28</td>\n",
       "      <td>8.5</td>\n",
       "    </tr>\n",
       "  </tbody>\n",
       "</table>\n",
       "</div>"
      ],
      "text/plain": [
       "   id      nid    title author  publisher translators publication  \\\n",
       "0   2  1584537  中国诗歌源流史    莫林虎  中国社会科学出版社                  2002.4   \n",
       "1   3  1394349      元诗史     杨镰    人民文学出版社                    2003   \n",
       "2   4  1203363   中国小说史略     鲁迅    上海古籍出版社              1998-01-01   \n",
       "3   5  1200352   唐宋词流派史    刘扬忠    福建人民出版社                  2007-4   \n",
       "4   6  1134261    唐宋词史论    王兆鹏   \\n                        2000-1   \n",
       "\n",
       "  originalname framed           isbn pagenumber   price       books  \\\n",
       "0                      9787500429395               28.0        None   \n",
       "1                  平装  9787020042371        750   42.00        None   \n",
       "2                  平装  9787532523337        297   12.90       蓬莱阁丛书   \n",
       "3                      9787211033058        457  30.00元        None   \n",
       "4                      9787020030842        387  18.00元  中国古典文学研究丛书   \n",
       "\n",
       "  numberofreviews score  \n",
       "0              12   7.6  \n",
       "1              16   7.5  \n",
       "2            1081   9.1  \n",
       "3                        \n",
       "4              28   8.5  "
      ]
     },
     "execution_count": 70,
     "metadata": {},
     "output_type": "execute_result"
    }
   ],
   "source": [
    "data4.head()"
   ]
  },
  {
   "cell_type": "code",
   "execution_count": 71,
   "metadata": {},
   "outputs": [
    {
     "data": {
      "text/plain": [
       "0"
      ]
     },
     "execution_count": 71,
     "metadata": {},
     "output_type": "execute_result"
    }
   ],
   "source": [
    "data4['publisher'].isnull().sum()"
   ]
  },
  {
   "cell_type": "code",
   "execution_count": 72,
   "metadata": {},
   "outputs": [
    {
     "data": {
      "text/plain": [
       "16593"
      ]
     },
     "execution_count": 72,
     "metadata": {},
     "output_type": "execute_result"
    }
   ],
   "source": [
    "(data4['publisher'] == '').sum()"
   ]
  },
  {
   "cell_type": "code",
   "execution_count": 73,
   "metadata": {},
   "outputs": [
    {
     "data": {
      "text/plain": [
       "208042"
      ]
     },
     "execution_count": 73,
     "metadata": {},
     "output_type": "execute_result"
    }
   ],
   "source": [
    "data4 = data4[data4['publisher'] != '']\n",
    "len(data4)"
   ]
  },
  {
   "cell_type": "code",
   "execution_count": 74,
   "metadata": {},
   "outputs": [],
   "source": [
    "publisher_num = data4.drop_duplicates(['publisher'])    # 筛选出版社不重复的一组数据"
   ]
  },
  {
   "cell_type": "code",
   "execution_count": 75,
   "metadata": {},
   "outputs": [
    {
     "data": {
      "text/html": [
       "<div>\n",
       "<style scoped>\n",
       "    .dataframe tbody tr th:only-of-type {\n",
       "        vertical-align: middle;\n",
       "    }\n",
       "\n",
       "    .dataframe tbody tr th {\n",
       "        vertical-align: top;\n",
       "    }\n",
       "\n",
       "    .dataframe thead th {\n",
       "        text-align: right;\n",
       "    }\n",
       "</style>\n",
       "<table border=\"1\" class=\"dataframe\">\n",
       "  <thead>\n",
       "    <tr style=\"text-align: right;\">\n",
       "      <th></th>\n",
       "      <th>id</th>\n",
       "      <th>nid</th>\n",
       "      <th>title</th>\n",
       "      <th>author</th>\n",
       "      <th>publisher</th>\n",
       "      <th>translators</th>\n",
       "      <th>publication</th>\n",
       "      <th>originalname</th>\n",
       "      <th>framed</th>\n",
       "      <th>isbn</th>\n",
       "      <th>pagenumber</th>\n",
       "      <th>price</th>\n",
       "      <th>books</th>\n",
       "      <th>numberofreviews</th>\n",
       "      <th>score</th>\n",
       "    </tr>\n",
       "  </thead>\n",
       "  <tbody>\n",
       "    <tr>\n",
       "      <th>224578</th>\n",
       "      <td>419611</td>\n",
       "      <td>1904607</td>\n",
       "      <td>匿龙密语 1</td>\n",
       "      <td>小云</td>\n",
       "      <td>冬日社</td>\n",
       "      <td></td>\n",
       "      <td>2005</td>\n",
       "      <td></td>\n",
       "      <td></td>\n",
       "      <td>9789889940003</td>\n",
       "      <td></td>\n",
       "      <td>HK 30</td>\n",
       "      <td>None</td>\n",
       "      <td>59</td>\n",
       "      <td>9.4</td>\n",
       "    </tr>\n",
       "    <tr>\n",
       "      <th>224598</th>\n",
       "      <td>419663</td>\n",
       "      <td>3890046</td>\n",
       "      <td>水神的新娘 1</td>\n",
       "      <td>尹美庚|윤미경</td>\n",
       "      <td>서울 문화사</td>\n",
       "      <td></td>\n",
       "      <td>2006-6-2</td>\n",
       "      <td>하백의 신부 1</td>\n",
       "      <td></td>\n",
       "      <td>9788953272491</td>\n",
       "      <td></td>\n",
       "      <td></td>\n",
       "      <td>None</td>\n",
       "      <td>165</td>\n",
       "      <td>7.3</td>\n",
       "    </tr>\n",
       "    <tr>\n",
       "      <th>224606</th>\n",
       "      <td>419686</td>\n",
       "      <td>21319773</td>\n",
       "      <td>禁じられた戯び</td>\n",
       "      <td>山藍紫姫子|蘭丸</td>\n",
       "      <td>花丸文庫black</td>\n",
       "      <td></td>\n",
       "      <td>2013-3</td>\n",
       "      <td></td>\n",
       "      <td></td>\n",
       "      <td>9784592851011</td>\n",
       "      <td></td>\n",
       "      <td>690</td>\n",
       "      <td>None</td>\n",
       "      <td>39</td>\n",
       "      <td>8.6</td>\n",
       "    </tr>\n",
       "    <tr>\n",
       "      <th>224617</th>\n",
       "      <td>419743</td>\n",
       "      <td>2075618</td>\n",
       "      <td>身體·性別·階級</td>\n",
       "      <td>劉苑如</td>\n",
       "      <td>中國文哲研究所</td>\n",
       "      <td></td>\n",
       "      <td>2002-12-31</td>\n",
       "      <td></td>\n",
       "      <td>25開  1冊</td>\n",
       "      <td>9789576719288</td>\n",
       "      <td>241</td>\n",
       "      <td>NT$320元</td>\n",
       "      <td>None</td>\n",
       "      <td></td>\n",
       "      <td></td>\n",
       "    </tr>\n",
       "    <tr>\n",
       "      <th>224627</th>\n",
       "      <td>419801</td>\n",
       "      <td>26919515</td>\n",
       "      <td>Rivstart A1+A2 Textbok</td>\n",
       "      <td>Paula Levy Scherrer|Karl Lindemalm</td>\n",
       "      <td>Natur&amp;Kultur</td>\n",
       "      <td></td>\n",
       "      <td>2014</td>\n",
       "      <td></td>\n",
       "      <td>Paperback</td>\n",
       "      <td>9789127434202</td>\n",
       "      <td>240</td>\n",
       "      <td></td>\n",
       "      <td>None</td>\n",
       "      <td></td>\n",
       "      <td></td>\n",
       "    </tr>\n",
       "  </tbody>\n",
       "</table>\n",
       "</div>"
      ],
      "text/plain": [
       "            id       nid                   title  \\\n",
       "224578  419611   1904607                  匿龙密语 1   \n",
       "224598  419663   3890046                 水神的新娘 1   \n",
       "224606  419686  21319773                 禁じられた戯び   \n",
       "224617  419743   2075618                身體·性別·階級   \n",
       "224627  419801  26919515  Rivstart A1+A2 Textbok   \n",
       "\n",
       "                                    author     publisher translators  \\\n",
       "224578                                  小云           冬日社               \n",
       "224598                             尹美庚|윤미경        서울 문화사               \n",
       "224606                            山藍紫姫子|蘭丸     花丸文庫black               \n",
       "224617                                 劉苑如       中國文哲研究所               \n",
       "224627  Paula Levy Scherrer|Karl Lindemalm  Natur&Kultur               \n",
       "\n",
       "       publication originalname     framed           isbn pagenumber    price  \\\n",
       "224578        2005                          9789889940003               HK 30   \n",
       "224598    2006-6-2     하백의 신부 1             9788953272491                       \n",
       "224606      2013-3                          9784592851011                 690   \n",
       "224617  2002-12-31                 25開  1冊  9789576719288        241  NT$320元   \n",
       "224627        2014               Paperback  9789127434202        240            \n",
       "\n",
       "       books numberofreviews score  \n",
       "224578  None              59   9.4  \n",
       "224598  None             165   7.3  \n",
       "224606  None              39   8.6  \n",
       "224617  None                        \n",
       "224627  None                        "
      ]
     },
     "execution_count": 75,
     "metadata": {},
     "output_type": "execute_result"
    }
   ],
   "source": [
    "publisher_num.tail()"
   ]
  },
  {
   "cell_type": "code",
   "execution_count": 76,
   "metadata": {},
   "outputs": [],
   "source": [
    "publisher_num.index = np.arange(len(publisher_num)) # 重置目录"
   ]
  },
  {
   "cell_type": "code",
   "execution_count": 77,
   "metadata": {},
   "outputs": [
    {
     "data": {
      "text/html": [
       "<div>\n",
       "<style scoped>\n",
       "    .dataframe tbody tr th:only-of-type {\n",
       "        vertical-align: middle;\n",
       "    }\n",
       "\n",
       "    .dataframe tbody tr th {\n",
       "        vertical-align: top;\n",
       "    }\n",
       "\n",
       "    .dataframe thead th {\n",
       "        text-align: right;\n",
       "    }\n",
       "</style>\n",
       "<table border=\"1\" class=\"dataframe\">\n",
       "  <thead>\n",
       "    <tr style=\"text-align: right;\">\n",
       "      <th></th>\n",
       "      <th>id</th>\n",
       "      <th>nid</th>\n",
       "      <th>title</th>\n",
       "      <th>author</th>\n",
       "      <th>publisher</th>\n",
       "      <th>translators</th>\n",
       "      <th>publication</th>\n",
       "      <th>originalname</th>\n",
       "      <th>framed</th>\n",
       "      <th>isbn</th>\n",
       "      <th>pagenumber</th>\n",
       "      <th>price</th>\n",
       "      <th>books</th>\n",
       "      <th>numberofreviews</th>\n",
       "      <th>score</th>\n",
       "    </tr>\n",
       "  </thead>\n",
       "  <tbody>\n",
       "    <tr>\n",
       "      <th>13538</th>\n",
       "      <td>419611</td>\n",
       "      <td>1904607</td>\n",
       "      <td>匿龙密语 1</td>\n",
       "      <td>小云</td>\n",
       "      <td>冬日社</td>\n",
       "      <td></td>\n",
       "      <td>2005</td>\n",
       "      <td></td>\n",
       "      <td></td>\n",
       "      <td>9789889940003</td>\n",
       "      <td></td>\n",
       "      <td>HK 30</td>\n",
       "      <td>None</td>\n",
       "      <td>59</td>\n",
       "      <td>9.4</td>\n",
       "    </tr>\n",
       "    <tr>\n",
       "      <th>13539</th>\n",
       "      <td>419663</td>\n",
       "      <td>3890046</td>\n",
       "      <td>水神的新娘 1</td>\n",
       "      <td>尹美庚|윤미경</td>\n",
       "      <td>서울 문화사</td>\n",
       "      <td></td>\n",
       "      <td>2006-6-2</td>\n",
       "      <td>하백의 신부 1</td>\n",
       "      <td></td>\n",
       "      <td>9788953272491</td>\n",
       "      <td></td>\n",
       "      <td></td>\n",
       "      <td>None</td>\n",
       "      <td>165</td>\n",
       "      <td>7.3</td>\n",
       "    </tr>\n",
       "    <tr>\n",
       "      <th>13540</th>\n",
       "      <td>419686</td>\n",
       "      <td>21319773</td>\n",
       "      <td>禁じられた戯び</td>\n",
       "      <td>山藍紫姫子|蘭丸</td>\n",
       "      <td>花丸文庫black</td>\n",
       "      <td></td>\n",
       "      <td>2013-3</td>\n",
       "      <td></td>\n",
       "      <td></td>\n",
       "      <td>9784592851011</td>\n",
       "      <td></td>\n",
       "      <td>690</td>\n",
       "      <td>None</td>\n",
       "      <td>39</td>\n",
       "      <td>8.6</td>\n",
       "    </tr>\n",
       "    <tr>\n",
       "      <th>13541</th>\n",
       "      <td>419743</td>\n",
       "      <td>2075618</td>\n",
       "      <td>身體·性別·階級</td>\n",
       "      <td>劉苑如</td>\n",
       "      <td>中國文哲研究所</td>\n",
       "      <td></td>\n",
       "      <td>2002-12-31</td>\n",
       "      <td></td>\n",
       "      <td>25開  1冊</td>\n",
       "      <td>9789576719288</td>\n",
       "      <td>241</td>\n",
       "      <td>NT$320元</td>\n",
       "      <td>None</td>\n",
       "      <td></td>\n",
       "      <td></td>\n",
       "    </tr>\n",
       "    <tr>\n",
       "      <th>13542</th>\n",
       "      <td>419801</td>\n",
       "      <td>26919515</td>\n",
       "      <td>Rivstart A1+A2 Textbok</td>\n",
       "      <td>Paula Levy Scherrer|Karl Lindemalm</td>\n",
       "      <td>Natur&amp;Kultur</td>\n",
       "      <td></td>\n",
       "      <td>2014</td>\n",
       "      <td></td>\n",
       "      <td>Paperback</td>\n",
       "      <td>9789127434202</td>\n",
       "      <td>240</td>\n",
       "      <td></td>\n",
       "      <td>None</td>\n",
       "      <td></td>\n",
       "      <td></td>\n",
       "    </tr>\n",
       "  </tbody>\n",
       "</table>\n",
       "</div>"
      ],
      "text/plain": [
       "           id       nid                   title  \\\n",
       "13538  419611   1904607                  匿龙密语 1   \n",
       "13539  419663   3890046                 水神的新娘 1   \n",
       "13540  419686  21319773                 禁じられた戯び   \n",
       "13541  419743   2075618                身體·性別·階級   \n",
       "13542  419801  26919515  Rivstart A1+A2 Textbok   \n",
       "\n",
       "                                   author     publisher translators  \\\n",
       "13538                                  小云           冬日社               \n",
       "13539                             尹美庚|윤미경        서울 문화사               \n",
       "13540                            山藍紫姫子|蘭丸     花丸文庫black               \n",
       "13541                                 劉苑如       中國文哲研究所               \n",
       "13542  Paula Levy Scherrer|Karl Lindemalm  Natur&Kultur               \n",
       "\n",
       "      publication originalname     framed           isbn pagenumber    price  \\\n",
       "13538        2005                          9789889940003               HK 30   \n",
       "13539    2006-6-2     하백의 신부 1             9788953272491                       \n",
       "13540      2013-3                          9784592851011                 690   \n",
       "13541  2002-12-31                 25開  1冊  9789576719288        241  NT$320元   \n",
       "13542        2014               Paperback  9789127434202        240            \n",
       "\n",
       "      books numberofreviews score  \n",
       "13538  None              59   9.4  \n",
       "13539  None             165   7.3  \n",
       "13540  None              39   8.6  \n",
       "13541  None                        \n",
       "13542  None                        "
      ]
     },
     "execution_count": 77,
     "metadata": {},
     "output_type": "execute_result"
    }
   ],
   "source": [
    "publisher_num.tail()"
   ]
  },
  {
   "cell_type": "code",
   "execution_count": 78,
   "metadata": {},
   "outputs": [],
   "source": [
    "publishers = publisher_num['publisher']    # 获取到所有出版社的一个列表"
   ]
  },
  {
   "cell_type": "code",
   "execution_count": 79,
   "metadata": {},
   "outputs": [
    {
     "data": {
      "text/plain": [
       "pandas.core.series.Series"
      ]
     },
     "execution_count": 79,
     "metadata": {},
     "output_type": "execute_result"
    }
   ],
   "source": [
    "type(publishers)"
   ]
  },
  {
   "cell_type": "code",
   "execution_count": 80,
   "metadata": {},
   "outputs": [
    {
     "data": {
      "text/plain": [
       "'中国社会科学出版社'"
      ]
     },
     "execution_count": 80,
     "metadata": {},
     "output_type": "execute_result"
    }
   ],
   "source": [
    "publishers[0]"
   ]
  },
  {
   "cell_type": "code",
   "execution_count": 81,
   "metadata": {},
   "outputs": [
    {
     "data": {
      "text/plain": [
       "array([0, 0, 0, ..., 0, 0, 0])"
      ]
     },
     "execution_count": 81,
     "metadata": {},
     "output_type": "execute_result"
    }
   ],
   "source": [
    "num_of_publishers = np.zeros(len(publishers), dtype=int)\n",
    "num_of_publishers"
   ]
  },
  {
   "cell_type": "code",
   "execution_count": 82,
   "metadata": {},
   "outputs": [
    {
     "name": "stdout",
     "output_type": "stream",
     "text": [
      "CPU times: user 11min 4s, sys: 1.83 s, total: 11min 6s\n",
      "Wall time: 11min 10s\n"
     ]
    }
   ],
   "source": [
    "%%time\n",
    "for one in data4['publisher']:\n",
    "    index = 0\n",
    "    for publisher in publishers:\n",
    "        if one == publisher:\n",
    "            num_of_publishers[index] += 1 \n",
    "        index += 1"
   ]
  },
  {
   "cell_type": "code",
   "execution_count": 83,
   "metadata": {},
   "outputs": [
    {
     "data": {
      "text/plain": [
       "array([1490, 3233, 1717, ...,    1,    1,    1])"
      ]
     },
     "execution_count": 83,
     "metadata": {},
     "output_type": "execute_result"
    }
   ],
   "source": [
    "num_of_publishers"
   ]
  },
  {
   "cell_type": "code",
   "execution_count": 88,
   "metadata": {},
   "outputs": [],
   "source": [
    "nums = num_of_publishers.copy()"
   ]
  },
  {
   "cell_type": "code",
   "execution_count": 94,
   "metadata": {},
   "outputs": [
    {
     "data": {
      "text/plain": [
       "array([1490, 3233, 1717, ...,    1,    1,    1])"
      ]
     },
     "execution_count": 94,
     "metadata": {},
     "output_type": "execute_result"
    }
   ],
   "source": [
    "nums"
   ]
  },
  {
   "cell_type": "code",
   "execution_count": 97,
   "metadata": {},
   "outputs": [
    {
     "data": {
      "text/plain": [
       "[1490, 3233, 1717, 174, 736]"
      ]
     },
     "execution_count": 97,
     "metadata": {},
     "output_type": "execute_result"
    }
   ],
   "source": [
    "list_nums = list(nums)   # 将nparray转为list，方便后面选取最大的20个数的索引下标\n",
    "list_nums[:5]"
   ]
  },
  {
   "cell_type": "code",
   "execution_count": null,
   "metadata": {},
   "outputs": [],
   "source": [
    "下面通过使用 heapq 找出最大的20个数的索引下标"
   ]
  },
  {
   "cell_type": "code",
   "execution_count": 111,
   "metadata": {},
   "outputs": [],
   "source": [
    "import heapq\n",
    "# 最大的20个数的索引\n",
    "max_num_index_list = map(list_nums.index, heapq.nlargest(20, list_nums))\n",
    "max_num_index_list = list(max_num_index_list)"
   ]
  },
  {
   "cell_type": "code",
   "execution_count": 115,
   "metadata": {},
   "outputs": [
    {
     "name": "stdout",
     "output_type": "stream",
     "text": [
      "[1, 112, 22, 12, 81, 110, 1090, 36, 101, 19, 24, 203, 104, 38, 2, 51, 151, 56, 0, 141]\n"
     ]
    }
   ],
   "source": [
    "print(max_num_index_list)"
   ]
  },
  {
   "cell_type": "markdown",
   "metadata": {},
   "source": [
    "首先，根据排序后前20的索引获取排前20的所有出版社"
   ]
  },
  {
   "cell_type": "code",
   "execution_count": 119,
   "metadata": {},
   "outputs": [
    {
     "name": "stdout",
     "output_type": "stream",
     "text": [
      "['人民文学出版社', '北京大学出版社', '商务印书馆', '中华书局', '中信出版社', '上海译文出版社', '東立', '中国人民大学出版社', '上海人民出版社', '机械工业出版社', '广西师范大学出版社', '译林出版社', '人民邮电出版社', '生活·读书·新知三联书店', '上海古籍出版社', '新星出版社', '清华大学出版社', '电子工业出版社', '中国社会科学出版社', '社会科学文献出版社']\n"
     ]
    }
   ],
   "source": [
    "publishers_list =[]\n",
    "for i in max_num_index_list:\n",
    "    publishers_list.append(publishers[i])\n",
    "print(publishers_list)"
   ]
  },
  {
   "cell_type": "markdown",
   "metadata": {},
   "source": [
    "然后，根据排序后前20的索引获取排前20的所有出版社的出版书籍量"
   ]
  },
  {
   "cell_type": "code",
   "execution_count": 120,
   "metadata": {},
   "outputs": [
    {
     "name": "stdout",
     "output_type": "stream",
     "text": [
      "[3233, 3214, 2904, 2749, 2522, 2514, 2321, 2212, 2211, 2174, 1983, 1849, 1813, 1758, 1717, 1663, 1643, 1599, 1490, 1248]\n"
     ]
    }
   ],
   "source": [
    "publish_num_list =[]\n",
    "for i in max_num_index_list:\n",
    "    publish_num_list.append(num_of_publishers[i])\n",
    "print(publish_num_list)"
   ]
  },
  {
   "cell_type": "markdown",
   "metadata": {},
   "source": [
    "开始画图"
   ]
  },
  {
   "cell_type": "code",
   "execution_count": 137,
   "metadata": {},
   "outputs": [
    {
     "name": "stderr",
     "output_type": "stream",
     "text": [
      "/Library/Frameworks/Python.framework/Versions/3.7/lib/python3.7/site-packages/matplotlib/font_manager.py:1328: UserWarning: findfont: Font family ['HiraginoSansGB-W3', 'PingFangSC-Regular', 'Microsoft YaHei', 'SimHei'] not found. Falling back to DejaVu Sans\n",
      "  (prop.get_family(), self.defaultFamily[fontext]))\n"
     ]
    },
    {
     "data": {
      "image/png": "[encoded data removed]",
      "text/plain": [
       "<Figure size 1080x648 with 1 Axes>"
      ]
     },
     "metadata": {},
     "output_type": "display_data"
    }
   ],
   "source": [
    "# plt.rc('font', **{'family' : 'HiraginoSansGB-W3, PingFangSC-Regular, Microsoft YaHei, SimHe'})\n",
    "plt.figure(figsize=(15, 9))\n",
    "plt.bar(publishers_list, publish_num_list, facecolor='#9999ff', edgecolor='white')\n",
    "for x, y in zip(publishers_list, publish_num_list):\n",
    "    # ha: horizontal alignment\n",
    "    # va: vertical alignment\n",
    "    plt.text(x, y, '%d' % y, ha='center', va='bottom')\n",
    "plt.show()"
   ]
  },
  {
   "cell_type": "markdown",
   "metadata": {},
   "source": [
    "由于Mac系统的原因，设置后也不能正常显示中文，所以下面我将20个出版社依次排出👇"
   ]
  },
  {
   "cell_type": "code",
   "execution_count": 133,
   "metadata": {},
   "outputs": [
    {
     "data": {
      "text/plain": [
       "['人民文学出版社',\n",
       " '北京大学出版社',\n",
       " '商务印书馆',\n",
       " '中华书局',\n",
       " '中信出版社',\n",
       " '上海译文出版社',\n",
       " '東立',\n",
       " '中国人民大学出版社',\n",
       " '上海人民出版社',\n",
       " '机械工业出版社',\n",
       " '广西师范大学出版社',\n",
       " '译林出版社',\n",
       " '人民邮电出版社',\n",
       " '生活·读书·新知三联书店',\n",
       " '上海古籍出版社',\n",
       " '新星出版社',\n",
       " '清华大学出版社',\n",
       " '电子工业出版社',\n",
       " '中国社会科学出版社',\n",
       " '社会科学文献出版社']"
      ]
     },
     "execution_count": 133,
     "metadata": {},
     "output_type": "execute_result"
    }
   ],
   "source": [
    "publishers_list"
   ]
  },
  {
   "cell_type": "markdown",
   "metadata": {},
   "source": [
    "## 7. 书籍评分比较高的出版社"
   ]
  },
  {
   "cell_type": "markdown",
   "metadata": {},
   "source": [
    "##### 分析\n",
    "这个分析涉及评分和出版社，出版社可以直接使用上一个分析中得到的所有不重复出版社的20个数据<br>\n",
    "评分可以和 4 中的一样，采用求加权平均评分的方式。<br>\n",
    "评分这里一列的数据可以直接使用 4 中的已经清洗过评分后的 data2 的数据。"
   ]
  },
  {
   "cell_type": "code",
   "execution_count": 144,
   "metadata": {},
   "outputs": [
    {
     "data": {
      "text/plain": [
       "149345"
      ]
     },
     "execution_count": 144,
     "metadata": {},
     "output_type": "execute_result"
    }
   ],
   "source": [
    "data5 = data2.copy()\n",
    "len(data5)"
   ]
  },
  {
   "cell_type": "code",
   "execution_count": 141,
   "metadata": {},
   "outputs": [
    {
     "data": {
      "text/plain": [
       "13543"
      ]
     },
     "execution_count": 141,
     "metadata": {},
     "output_type": "execute_result"
    }
   ],
   "source": [
    "len(publishers)    # 所有不重复的出版社"
   ]
  },
  {
   "cell_type": "markdown",
   "metadata": {},
   "source": [
    "到这里，我们获取到了所有有评分的总数据、所有出版社的名称<br>\n",
    "下一步，我们将统计每一个出版社的平均评分"
   ]
  },
  {
   "cell_type": "code",
   "execution_count": 168,
   "metadata": {},
   "outputs": [
    {
     "data": {
      "text/plain": [
       "array([0., 0., 0., 0., 0., 0., 0., 0., 0., 0., 0., 0., 0., 0., 0., 0., 0.,\n",
       "       0., 0., 0.])"
      ]
     },
     "execution_count": 168,
     "metadata": {},
     "output_type": "execute_result"
    }
   ],
   "source": [
    "y_score5 = np.zeros(len(publishers_list))\n",
    "y_score5"
   ]
  },
  {
   "cell_type": "code",
   "execution_count": 169,
   "metadata": {},
   "outputs": [
    {
     "data": {
      "text/plain": [
       "array([0, 0, 0, 0, 0, 0, 0, 0, 0, 0, 0, 0, 0, 0, 0, 0, 0, 0, 0, 0])"
      ]
     },
     "execution_count": 169,
     "metadata": {},
     "output_type": "execute_result"
    }
   ],
   "source": [
    "y_num5 = np.zeros(len(publishers_list), dtype=int)\n",
    "y_num5"
   ]
  },
  {
   "cell_type": "code",
   "execution_count": 170,
   "metadata": {},
   "outputs": [
    {
     "name": "stdout",
     "output_type": "stream",
     "text": [
      "149345\n",
      "149345\n"
     ]
    }
   ],
   "source": [
    "publishers5 = data5['publisher']  # 所有数据中的出版社列\n",
    "score5 = data5['score']     # 所有数据中的评分列\n",
    "print(len(publishers5))\n",
    "print(len(score5))"
   ]
  },
  {
   "cell_type": "code",
   "execution_count": 171,
   "metadata": {},
   "outputs": [
    {
     "name": "stdout",
     "output_type": "stream",
     "text": [
      "CPU times: user 31.3 s, sys: 51.8 ms, total: 31.4 s\n",
      "Wall time: 31.5 s\n"
     ]
    }
   ],
   "source": [
    "%%time\n",
    "for m in range(len(score5)):\n",
    "    index = 0\n",
    "    for x in publishers_list:\n",
    "        if publishers5[m] == x:\n",
    "            y_score5[index] += score5[m]\n",
    "            y_num5[index] += 1\n",
    "        index += 1"
   ]
  },
  {
   "cell_type": "code",
   "execution_count": 173,
   "metadata": {},
   "outputs": [
    {
     "data": {
      "text/plain": [
       "array([23572.4, 19307.5, 16789.4, 17193.8, 17977.4, 18708.5, 13580.1,\n",
       "       13497.2, 14339.2, 11704.8, 14206. , 14025.7, 11288.9, 13243.9,\n",
       "        9666.3, 12373.5,  7992.1,  8554.5,  6350.7,  5614.3])"
      ]
     },
     "execution_count": 173,
     "metadata": {},
     "output_type": "execute_result"
    }
   ],
   "source": [
    "y_score5"
   ]
  },
  {
   "cell_type": "code",
   "execution_count": 174,
   "metadata": {},
   "outputs": [
    {
     "data": {
      "text/plain": [
       "array([2911, 2434, 2067, 2081, 2369, 2298, 1594, 1729, 1806, 1529, 1806,\n",
       "       1741, 1442, 1637, 1154, 1622, 1033, 1134,  806,  727])"
      ]
     },
     "execution_count": 174,
     "metadata": {},
     "output_type": "execute_result"
    }
   ],
   "source": [
    "y_num5"
   ]
  },
  {
   "cell_type": "markdown",
   "metadata": {},
   "source": [
    "因为除数不能为0，所以我将个数为0的全置为1，对求平均值不影响"
   ]
  },
  {
   "cell_type": "code",
   "execution_count": 175,
   "metadata": {},
   "outputs": [
    {
     "data": {
      "text/plain": [
       "array([2911, 2434, 2067, 2081, 2369, 2298, 1594, 1729, 1806, 1529, 1806,\n",
       "       1741, 1442, 1637, 1154, 1622, 1033, 1134,  806,  727])"
      ]
     },
     "execution_count": 175,
     "metadata": {},
     "output_type": "execute_result"
    }
   ],
   "source": [
    "index = 0\n",
    "for i in y_num5:\n",
    "    if i==0:\n",
    "        y_num5[index] = 1\n",
    "    index += 1\n",
    "y_num5"
   ]
  },
  {
   "cell_type": "markdown",
   "metadata": {},
   "source": [
    "求取每一个出版社的平均分"
   ]
  },
  {
   "cell_type": "code",
   "execution_count": 176,
   "metadata": {},
   "outputs": [
    {
     "data": {
      "text/plain": [
       "array([8.09769839, 7.93241578, 8.12259313, 8.26227775, 7.58860279,\n",
       "       8.14120975, 8.51951066, 7.80636206, 7.93975637, 7.65519948,\n",
       "       7.86600221, 8.05611717, 7.82864078, 8.0903482 , 8.37634315,\n",
       "       7.62854501, 7.73678606, 7.54365079, 7.8792804 , 7.72255846])"
      ]
     },
     "execution_count": 176,
     "metadata": {},
     "output_type": "execute_result"
    }
   ],
   "source": [
    "y5 = y_score5/y_num5\n",
    "y5"
   ]
  },
  {
   "cell_type": "code",
   "execution_count": 182,
   "metadata": {},
   "outputs": [
    {
     "data": {
      "text/plain": [
       "[6, 14, 3, 5, 2, 0, 13, 11, 8, 1, 18, 10, 12, 7, 16, 19, 9, 15, 4, 17]"
      ]
     },
     "execution_count": 182,
     "metadata": {},
     "output_type": "execute_result"
    }
   ],
   "source": [
    "y5_list = list(y5)   # 将nparray转为list，方便后面选取最大的20个数的索引下标\n",
    "import heapq\n",
    "# 最大的20个数的索引\n",
    "y5_list_index = map(y5_list.index, heapq.nlargest(20, y5_list))\n",
    "y5_list_index = list(y5_list_index)\n",
    "y5_list_index"
   ]
  },
  {
   "cell_type": "code",
   "execution_count": 184,
   "metadata": {},
   "outputs": [
    {
     "name": "stdout",
     "output_type": "stream",
     "text": [
      "['人民文学出版社', '北京大学出版社', '商务印书馆', '中华书局', '中信出版社', '上海译文出版社', '東立', '中国人民大学出版社', '上海人民出版社', '机械工业出版社', '广西师范大学出版社', '译林出版社', '人民邮电出版社', '生活·读书·新知三联书店', '上海古籍出版社', '新星出版社', '清华大学出版社', '电子工业出版社', '中国社会科学出版社', '社会科学文献出版社']\n"
     ]
    }
   ],
   "source": [
    "print(publishers_list)"
   ]
  },
  {
   "cell_type": "markdown",
   "metadata": {},
   "source": [
    "首先，根据排序后前20的索引获取排前20的所有出版社"
   ]
  },
  {
   "cell_type": "code",
   "execution_count": 185,
   "metadata": {},
   "outputs": [
    {
     "name": "stdout",
     "output_type": "stream",
     "text": [
      "['東立', '上海古籍出版社', '中华书局', '上海译文出版社', '商务印书馆', '人民文学出版社', '生活·读书·新知三联书店', '译林出版社', '上海人民出版社', '北京大学出版社', '中国社会科学出版社', '广西师范大学出版社', '人民邮电出版社', '中国人民大学出版社', '清华大学出版社', '社会科学文献出版社', '机械工业出版社', '新星出版社', '中信出版社', '电子工业出版社']\n"
     ]
    }
   ],
   "source": [
    "new_publishers_list =[]\n",
    "for i in y5_list_index:\n",
    "    new_publishers_list.append(publishers_list[i])\n",
    "print(new_publishers_list)"
   ]
  },
  {
   "cell_type": "markdown",
   "metadata": {},
   "source": [
    "然后，根据排序后前20的索引获取排前20的所有出版社的出版书籍量"
   ]
  },
  {
   "cell_type": "code",
   "execution_count": 187,
   "metadata": {},
   "outputs": [
    {
     "name": "stdout",
     "output_type": "stream",
     "text": [
      "[8.519510664993696, 8.376343154246106, 8.262277751081205, 8.141209747606602, 8.122593130140281, 8.097698385434532, 8.090348197923024, 8.056117174037892, 7.939756367663341, 7.932415776499564, 7.879280397022335, 7.866002214839434, 7.828640776699034, 7.80636205899363, 7.736786060019366, 7.7225584594222845, 7.655199476782215, 7.6285450061652345, 7.588602785985649, 7.5436507936507935]\n"
     ]
    }
   ],
   "source": [
    "new_y5 =[]\n",
    "for i in y5_list_index:\n",
    "    new_y5.append(y5[i])\n",
    "print(new_y5)"
   ]
  },
  {
   "cell_type": "code",
   "execution_count": 188,
   "metadata": {},
   "outputs": [
    {
     "name": "stderr",
     "output_type": "stream",
     "text": [
      "/Library/Frameworks/Python.framework/Versions/3.7/lib/python3.7/site-packages/matplotlib/font_manager.py:1328: UserWarning: findfont: Font family ['HiraginoSansGB-W3', 'PingFangSC-Regular', 'Microsoft YaHei', 'SimHei'] not found. Falling back to DejaVu Sans\n",
      "  (prop.get_family(), self.defaultFamily[fontext]))\n"
     ]
    },
    {
     "data": {
      "image/png": "[encoded data removed]",
      "text/plain": [
       "<Figure size 1080x648 with 1 Axes>"
      ]
     },
     "metadata": {},
     "output_type": "display_data"
    }
   ],
   "source": [
    "# plt.rc('font', **{'family' : 'HiraginoSansGB-W3, PingFangSC-Regular, Microsoft YaHei, SimHe'})\n",
    "plt.figure(figsize=(15, 9))\n",
    "plt.bar(new_publishers_list, new_y5, facecolor='#9999ff', edgecolor='white')\n",
    "for x, y in zip(new_publishers_list, new_y5):\n",
    "    # ha: horizontal alignment\n",
    "    # va: vertical alignment\n",
    "    plt.text(x, y, '%.2f' % y, ha='center', va='bottom')\n",
    "plt.show()"
   ]
  },
  {
   "cell_type": "markdown",
   "metadata": {},
   "source": [
    "由于Mac系统的原因，设置后也不能正常显示中文，所以下面我将20个出版社依次排出👇"
   ]
  },
  {
   "cell_type": "code",
   "execution_count": 190,
   "metadata": {},
   "outputs": [
    {
     "data": {
      "text/plain": [
       "['東立',\n",
       " '上海古籍出版社',\n",
       " '中华书局',\n",
       " '上海译文出版社',\n",
       " '商务印书馆',\n",
       " '人民文学出版社',\n",
       " '生活·读书·新知三联书店',\n",
       " '译林出版社',\n",
       " '上海人民出版社',\n",
       " '北京大学出版社',\n",
       " '中国社会科学出版社',\n",
       " '广西师范大学出版社',\n",
       " '人民邮电出版社',\n",
       " '中国人民大学出版社',\n",
       " '清华大学出版社',\n",
       " '社会科学文献出版社',\n",
       " '机械工业出版社',\n",
       " '新星出版社',\n",
       " '中信出版社',\n",
       " '电子工业出版社']"
      ]
     },
     "execution_count": 190,
     "metadata": {},
     "output_type": "execute_result"
    }
   ],
   "source": [
    "new_publishers_list"
   ]
  }
 ],
 "metadata": {
  "kernelspec": {
   "display_name": "Python 3",
   "language": "python",
   "name": "python3"
  },
  "language_info": {
   "codemirror_mode": {
    "name": "ipython",
    "version": 3
   },
   "file_extension": ".py",
   "mimetype": "text/x-python",
   "name": "python",
   "nbconvert_exporter": "python",
   "pygments_lexer": "ipython3",
   "version": "3.7.0"
  }
 },
 "nbformat": 4,
 "nbformat_minor": 2
}
