{
 "cells": [
  {
   "cell_type": "markdown",
   "metadata": {},
   "source": [
    "# <center>服务器日志数据分析</center>"
   ]
  },
  {
   "cell_type": "code",
   "execution_count": 1,
   "metadata": {},
   "outputs": [],
   "source": [
    "import pandas as pd\n",
    "import numpy as np\n",
    "import matplotlib.pyplot as plt\n",
    "from datetime import datetime"
   ]
  },
  {
   "cell_type": "markdown",
   "metadata": {},
   "source": [
    "## 1、将数据导⼊入pandas中，加上列列名"
   ]
  },
  {
   "cell_type": "code",
   "execution_count": 2,
   "metadata": {},
   "outputs": [
    {
     "data": {
      "text/html": [
       "<div>\n",
       "<style scoped>\n",
       "    .dataframe tbody tr th:only-of-type {\n",
       "        vertical-align: middle;\n",
       "    }\n",
       "\n",
       "    .dataframe tbody tr th {\n",
       "        vertical-align: top;\n",
       "    }\n",
       "\n",
       "    .dataframe thead th {\n",
       "        text-align: right;\n",
       "    }\n",
       "</style>\n",
       "<table border=\"1\" class=\"dataframe\">\n",
       "  <thead>\n",
       "    <tr style=\"text-align: right;\">\n",
       "      <th></th>\n",
       "      <th>id</th>\n",
       "      <th>api</th>\n",
       "      <th>count</th>\n",
       "      <th>res_time_sum</th>\n",
       "      <th>res_time_min</th>\n",
       "      <th>res_time_max</th>\n",
       "      <th>res_time_avg</th>\n",
       "      <th>interval</th>\n",
       "      <th>created_at</th>\n",
       "    </tr>\n",
       "  </thead>\n",
       "  <tbody>\n",
       "    <tr>\n",
       "      <th>0</th>\n",
       "      <td>162542</td>\n",
       "      <td>/front-api/bill/create</td>\n",
       "      <td>8</td>\n",
       "      <td>1057.31</td>\n",
       "      <td>88.75</td>\n",
       "      <td>177.72</td>\n",
       "      <td>132.0</td>\n",
       "      <td>60</td>\n",
       "      <td>2017-11-01 00:00:07</td>\n",
       "    </tr>\n",
       "    <tr>\n",
       "      <th>1</th>\n",
       "      <td>162644</td>\n",
       "      <td>/front-api/bill/create</td>\n",
       "      <td>5</td>\n",
       "      <td>749.12</td>\n",
       "      <td>103.79</td>\n",
       "      <td>240.38</td>\n",
       "      <td>149.0</td>\n",
       "      <td>60</td>\n",
       "      <td>2017-11-01 00:01:07</td>\n",
       "    </tr>\n",
       "    <tr>\n",
       "      <th>2</th>\n",
       "      <td>162742</td>\n",
       "      <td>/front-api/bill/create</td>\n",
       "      <td>5</td>\n",
       "      <td>845.84</td>\n",
       "      <td>136.31</td>\n",
       "      <td>225.73</td>\n",
       "      <td>169.0</td>\n",
       "      <td>60</td>\n",
       "      <td>2017-11-01 00:02:07</td>\n",
       "    </tr>\n",
       "    <tr>\n",
       "      <th>3</th>\n",
       "      <td>162808</td>\n",
       "      <td>/front-api/bill/create</td>\n",
       "      <td>9</td>\n",
       "      <td>1305.52</td>\n",
       "      <td>90.12</td>\n",
       "      <td>196.61</td>\n",
       "      <td>145.0</td>\n",
       "      <td>60</td>\n",
       "      <td>2017-11-01 00:03:07</td>\n",
       "    </tr>\n",
       "    <tr>\n",
       "      <th>4</th>\n",
       "      <td>162943</td>\n",
       "      <td>/front-api/bill/create</td>\n",
       "      <td>3</td>\n",
       "      <td>568.89</td>\n",
       "      <td>138.45</td>\n",
       "      <td>232.02</td>\n",
       "      <td>189.0</td>\n",
       "      <td>60</td>\n",
       "      <td>2017-11-01 00:04:07</td>\n",
       "    </tr>\n",
       "  </tbody>\n",
       "</table>\n",
       "</div>"
      ],
      "text/plain": [
       "       id                     api  count  res_time_sum  res_time_min  \\\n",
       "0  162542  /front-api/bill/create      8       1057.31         88.75   \n",
       "1  162644  /front-api/bill/create      5        749.12        103.79   \n",
       "2  162742  /front-api/bill/create      5        845.84        136.31   \n",
       "3  162808  /front-api/bill/create      9       1305.52         90.12   \n",
       "4  162943  /front-api/bill/create      3        568.89        138.45   \n",
       "\n",
       "   res_time_max  res_time_avg  interval           created_at  \n",
       "0        177.72         132.0        60  2017-11-01 00:00:07  \n",
       "1        240.38         149.0        60  2017-11-01 00:01:07  \n",
       "2        225.73         169.0        60  2017-11-01 00:02:07  \n",
       "3        196.61         145.0        60  2017-11-01 00:03:07  \n",
       "4        232.02         189.0        60  2017-11-01 00:04:07  "
      ]
     },
     "execution_count": 2,
     "metadata": {},
     "output_type": "execute_result"
    }
   ],
   "source": [
    "data = pd.read_table('log.txt', header=None, names=['id', 'api', 'count', 'res_time_sum', 'res_time_min', 'res_time_max', 'res_time_avg', 'interval', 'created_at'])\n",
    "data.head()"
   ]
  },
  {
   "cell_type": "markdown",
   "metadata": {},
   "source": [
    "## 2、检测是否有重复值"
   ]
  },
  {
   "cell_type": "code",
   "execution_count": 3,
   "metadata": {},
   "outputs": [
    {
     "data": {
      "text/plain": [
       "0"
      ]
     },
     "execution_count": 3,
     "metadata": {},
     "output_type": "execute_result"
    }
   ],
   "source": [
    "data.duplicated().sum()"
   ]
  },
  {
   "cell_type": "markdown",
   "metadata": {},
   "source": [
    "#### 结论：无重复值"
   ]
  },
  {
   "cell_type": "markdown",
   "metadata": {},
   "source": [
    "## 3、检测是否有异常值"
   ]
  },
  {
   "cell_type": "code",
   "execution_count": 4,
   "metadata": {},
   "outputs": [
    {
     "data": {
      "text/html": [
       "<div>\n",
       "<style scoped>\n",
       "    .dataframe tbody tr th:only-of-type {\n",
       "        vertical-align: middle;\n",
       "    }\n",
       "\n",
       "    .dataframe tbody tr th {\n",
       "        vertical-align: top;\n",
       "    }\n",
       "\n",
       "    .dataframe thead th {\n",
       "        text-align: right;\n",
       "    }\n",
       "</style>\n",
       "<table border=\"1\" class=\"dataframe\">\n",
       "  <thead>\n",
       "    <tr style=\"text-align: right;\">\n",
       "      <th></th>\n",
       "      <th>id</th>\n",
       "      <th>count</th>\n",
       "      <th>res_time_sum</th>\n",
       "      <th>res_time_min</th>\n",
       "      <th>res_time_max</th>\n",
       "      <th>res_time_avg</th>\n",
       "      <th>interval</th>\n",
       "    </tr>\n",
       "  </thead>\n",
       "  <tbody>\n",
       "    <tr>\n",
       "      <th>count</th>\n",
       "      <td>1.794960e+05</td>\n",
       "      <td>179496.000000</td>\n",
       "      <td>179496.000000</td>\n",
       "      <td>179496.000000</td>\n",
       "      <td>179496.000000</td>\n",
       "      <td>179496.000000</td>\n",
       "      <td>179496.0</td>\n",
       "    </tr>\n",
       "    <tr>\n",
       "      <th>mean</th>\n",
       "      <td>6.866490e+06</td>\n",
       "      <td>7.175909</td>\n",
       "      <td>1393.177370</td>\n",
       "      <td>108.419620</td>\n",
       "      <td>359.880351</td>\n",
       "      <td>187.812208</td>\n",
       "      <td>60.0</td>\n",
       "    </tr>\n",
       "    <tr>\n",
       "      <th>std</th>\n",
       "      <td>3.686579e+06</td>\n",
       "      <td>4.325160</td>\n",
       "      <td>1499.485881</td>\n",
       "      <td>79.640559</td>\n",
       "      <td>638.919769</td>\n",
       "      <td>224.464813</td>\n",
       "      <td>0.0</td>\n",
       "    </tr>\n",
       "    <tr>\n",
       "      <th>min</th>\n",
       "      <td>1.625420e+05</td>\n",
       "      <td>1.000000</td>\n",
       "      <td>36.550000</td>\n",
       "      <td>3.210000</td>\n",
       "      <td>36.550000</td>\n",
       "      <td>36.000000</td>\n",
       "      <td>60.0</td>\n",
       "    </tr>\n",
       "    <tr>\n",
       "      <th>25%</th>\n",
       "      <td>3.825183e+06</td>\n",
       "      <td>4.000000</td>\n",
       "      <td>607.707500</td>\n",
       "      <td>83.410000</td>\n",
       "      <td>198.280000</td>\n",
       "      <td>144.000000</td>\n",
       "      <td>60.0</td>\n",
       "    </tr>\n",
       "    <tr>\n",
       "      <th>50%</th>\n",
       "      <td>6.811432e+06</td>\n",
       "      <td>7.000000</td>\n",
       "      <td>1154.905000</td>\n",
       "      <td>97.120000</td>\n",
       "      <td>256.090000</td>\n",
       "      <td>167.000000</td>\n",
       "      <td>60.0</td>\n",
       "    </tr>\n",
       "    <tr>\n",
       "      <th>75%</th>\n",
       "      <td>9.981397e+06</td>\n",
       "      <td>10.000000</td>\n",
       "      <td>1834.117500</td>\n",
       "      <td>116.990000</td>\n",
       "      <td>374.410000</td>\n",
       "      <td>202.000000</td>\n",
       "      <td>60.0</td>\n",
       "    </tr>\n",
       "    <tr>\n",
       "      <th>max</th>\n",
       "      <td>1.343909e+07</td>\n",
       "      <td>31.000000</td>\n",
       "      <td>142650.550000</td>\n",
       "      <td>18896.640000</td>\n",
       "      <td>142468.270000</td>\n",
       "      <td>71325.000000</td>\n",
       "      <td>60.0</td>\n",
       "    </tr>\n",
       "  </tbody>\n",
       "</table>\n",
       "</div>"
      ],
      "text/plain": [
       "                 id          count   res_time_sum   res_time_min  \\\n",
       "count  1.794960e+05  179496.000000  179496.000000  179496.000000   \n",
       "mean   6.866490e+06       7.175909    1393.177370     108.419620   \n",
       "std    3.686579e+06       4.325160    1499.485881      79.640559   \n",
       "min    1.625420e+05       1.000000      36.550000       3.210000   \n",
       "25%    3.825183e+06       4.000000     607.707500      83.410000   \n",
       "50%    6.811432e+06       7.000000    1154.905000      97.120000   \n",
       "75%    9.981397e+06      10.000000    1834.117500     116.990000   \n",
       "max    1.343909e+07      31.000000  142650.550000   18896.640000   \n",
       "\n",
       "        res_time_max   res_time_avg  interval  \n",
       "count  179496.000000  179496.000000  179496.0  \n",
       "mean      359.880351     187.812208      60.0  \n",
       "std       638.919769     224.464813       0.0  \n",
       "min        36.550000      36.000000      60.0  \n",
       "25%       198.280000     144.000000      60.0  \n",
       "50%       256.090000     167.000000      60.0  \n",
       "75%       374.410000     202.000000      60.0  \n",
       "max    142468.270000   71325.000000      60.0  "
      ]
     },
     "execution_count": 4,
     "metadata": {},
     "output_type": "execute_result"
    }
   ],
   "source": [
    "data.describe()"
   ]
  },
  {
   "cell_type": "code",
   "execution_count": 5,
   "metadata": {},
   "outputs": [
    {
     "data": {
      "image/png": "[encoded data removed]",
      "text/plain": [
       "<Figure size 1440x864 with 1 Axes>"
      ]
     },
     "metadata": {},
     "output_type": "display_data"
    }
   ],
   "source": [
    "plt.figure(figsize=(20, 12))\n",
    "data[['res_time_sum', 'res_time_min', 'res_time_max', 'res_time_avg']].boxplot()\n",
    "plt.show()"
   ]
  },
  {
   "cell_type": "markdown",
   "metadata": {},
   "source": [
    "#### 结论：从上面表格和箱线图来看，res_time_sum、res_time_min、res_time_max、res_time_avg这四个存在异常值"
   ]
  },
  {
   "cell_type": "markdown",
   "metadata": {},
   "source": [
    "## 4、分析api和interval这两列的数据是否对分析有用，如果⽆⽤，说明为什么要将这两列丢弃"
   ]
  },
  {
   "cell_type": "code",
   "execution_count": 6,
   "metadata": {},
   "outputs": [
    {
     "data": {
      "text/plain": [
       "0"
      ]
     },
     "execution_count": 6,
     "metadata": {},
     "output_type": "execute_result"
    }
   ],
   "source": [
    "len(data[data['api']!='/front-api/bill/create'])"
   ]
  },
  {
   "cell_type": "markdown",
   "metadata": {},
   "source": [
    "表明所有数据的 api 都是 /front-api/bill/create "
   ]
  },
  {
   "cell_type": "code",
   "execution_count": 7,
   "metadata": {},
   "outputs": [
    {
     "data": {
      "text/plain": [
       "0"
      ]
     },
     "execution_count": 7,
     "metadata": {},
     "output_type": "execute_result"
    }
   ],
   "source": [
    "len(data[data['interval']!=60])"
   ]
  },
  {
   "cell_type": "markdown",
   "metadata": {},
   "source": [
    "表明所有数据的 interval 都是 60"
   ]
  },
  {
   "cell_type": "markdown",
   "metadata": {},
   "source": [
    "#### 结论：因为整个数据集中这两列的数据都相同，且和其他列无关联，所以无用，可以丢弃。"
   ]
  },
  {
   "cell_type": "markdown",
   "metadata": {},
   "source": [
    "## 5. 使用created_at这⼀列的数据作为时间索引"
   ]
  },
  {
   "cell_type": "code",
   "execution_count": 8,
   "metadata": {},
   "outputs": [],
   "source": [
    "# 这里不能使用set_index，使用set_index后index是str对象，而不是timestamp，后面画图时无法显示x轴的标注\n",
    "s = pd.to_datetime(data.created_at) \n",
    "s.head()\n",
    "data.index = s"
   ]
  },
  {
   "cell_type": "markdown",
   "metadata": {},
   "source": [
    "#### 上面这一步至关重要！！！"
   ]
  },
  {
   "cell_type": "code",
   "execution_count": 9,
   "metadata": {},
   "outputs": [
    {
     "data": {
      "text/html": [
       "<div>\n",
       "<style scoped>\n",
       "    .dataframe tbody tr th:only-of-type {\n",
       "        vertical-align: middle;\n",
       "    }\n",
       "\n",
       "    .dataframe tbody tr th {\n",
       "        vertical-align: top;\n",
       "    }\n",
       "\n",
       "    .dataframe thead th {\n",
       "        text-align: right;\n",
       "    }\n",
       "</style>\n",
       "<table border=\"1\" class=\"dataframe\">\n",
       "  <thead>\n",
       "    <tr style=\"text-align: right;\">\n",
       "      <th></th>\n",
       "      <th>id</th>\n",
       "      <th>api</th>\n",
       "      <th>count</th>\n",
       "      <th>res_time_sum</th>\n",
       "      <th>res_time_min</th>\n",
       "      <th>res_time_max</th>\n",
       "      <th>res_time_avg</th>\n",
       "      <th>interval</th>\n",
       "      <th>created_at</th>\n",
       "    </tr>\n",
       "    <tr>\n",
       "      <th>created_at</th>\n",
       "      <th></th>\n",
       "      <th></th>\n",
       "      <th></th>\n",
       "      <th></th>\n",
       "      <th></th>\n",
       "      <th></th>\n",
       "      <th></th>\n",
       "      <th></th>\n",
       "      <th></th>\n",
       "    </tr>\n",
       "  </thead>\n",
       "  <tbody>\n",
       "    <tr>\n",
       "      <th>2017-11-01 00:00:07</th>\n",
       "      <td>162542</td>\n",
       "      <td>/front-api/bill/create</td>\n",
       "      <td>8</td>\n",
       "      <td>1057.31</td>\n",
       "      <td>88.75</td>\n",
       "      <td>177.72</td>\n",
       "      <td>132.0</td>\n",
       "      <td>60</td>\n",
       "      <td>2017-11-01 00:00:07</td>\n",
       "    </tr>\n",
       "    <tr>\n",
       "      <th>2017-11-01 00:01:07</th>\n",
       "      <td>162644</td>\n",
       "      <td>/front-api/bill/create</td>\n",
       "      <td>5</td>\n",
       "      <td>749.12</td>\n",
       "      <td>103.79</td>\n",
       "      <td>240.38</td>\n",
       "      <td>149.0</td>\n",
       "      <td>60</td>\n",
       "      <td>2017-11-01 00:01:07</td>\n",
       "    </tr>\n",
       "    <tr>\n",
       "      <th>2017-11-01 00:02:07</th>\n",
       "      <td>162742</td>\n",
       "      <td>/front-api/bill/create</td>\n",
       "      <td>5</td>\n",
       "      <td>845.84</td>\n",
       "      <td>136.31</td>\n",
       "      <td>225.73</td>\n",
       "      <td>169.0</td>\n",
       "      <td>60</td>\n",
       "      <td>2017-11-01 00:02:07</td>\n",
       "    </tr>\n",
       "    <tr>\n",
       "      <th>2017-11-01 00:03:07</th>\n",
       "      <td>162808</td>\n",
       "      <td>/front-api/bill/create</td>\n",
       "      <td>9</td>\n",
       "      <td>1305.52</td>\n",
       "      <td>90.12</td>\n",
       "      <td>196.61</td>\n",
       "      <td>145.0</td>\n",
       "      <td>60</td>\n",
       "      <td>2017-11-01 00:03:07</td>\n",
       "    </tr>\n",
       "    <tr>\n",
       "      <th>2017-11-01 00:04:07</th>\n",
       "      <td>162943</td>\n",
       "      <td>/front-api/bill/create</td>\n",
       "      <td>3</td>\n",
       "      <td>568.89</td>\n",
       "      <td>138.45</td>\n",
       "      <td>232.02</td>\n",
       "      <td>189.0</td>\n",
       "      <td>60</td>\n",
       "      <td>2017-11-01 00:04:07</td>\n",
       "    </tr>\n",
       "  </tbody>\n",
       "</table>\n",
       "</div>"
      ],
      "text/plain": [
       "                         id                     api  count  res_time_sum  \\\n",
       "created_at                                                                 \n",
       "2017-11-01 00:00:07  162542  /front-api/bill/create      8       1057.31   \n",
       "2017-11-01 00:01:07  162644  /front-api/bill/create      5        749.12   \n",
       "2017-11-01 00:02:07  162742  /front-api/bill/create      5        845.84   \n",
       "2017-11-01 00:03:07  162808  /front-api/bill/create      9       1305.52   \n",
       "2017-11-01 00:04:07  162943  /front-api/bill/create      3        568.89   \n",
       "\n",
       "                     res_time_min  res_time_max  res_time_avg  interval  \\\n",
       "created_at                                                                \n",
       "2017-11-01 00:00:07         88.75        177.72         132.0        60   \n",
       "2017-11-01 00:01:07        103.79        240.38         149.0        60   \n",
       "2017-11-01 00:02:07        136.31        225.73         169.0        60   \n",
       "2017-11-01 00:03:07         90.12        196.61         145.0        60   \n",
       "2017-11-01 00:04:07        138.45        232.02         189.0        60   \n",
       "\n",
       "                              created_at  \n",
       "created_at                                \n",
       "2017-11-01 00:00:07  2017-11-01 00:00:07  \n",
       "2017-11-01 00:01:07  2017-11-01 00:01:07  \n",
       "2017-11-01 00:02:07  2017-11-01 00:02:07  \n",
       "2017-11-01 00:03:07  2017-11-01 00:03:07  \n",
       "2017-11-01 00:04:07  2017-11-01 00:04:07  "
      ]
     },
     "execution_count": 9,
     "metadata": {},
     "output_type": "execute_result"
    }
   ],
   "source": [
    "data.head()"
   ]
  },
  {
   "cell_type": "code",
   "execution_count": 10,
   "metadata": {},
   "outputs": [
    {
     "data": {
      "text/html": [
       "<div>\n",
       "<style scoped>\n",
       "    .dataframe tbody tr th:only-of-type {\n",
       "        vertical-align: middle;\n",
       "    }\n",
       "\n",
       "    .dataframe tbody tr th {\n",
       "        vertical-align: top;\n",
       "    }\n",
       "\n",
       "    .dataframe thead th {\n",
       "        text-align: right;\n",
       "    }\n",
       "</style>\n",
       "<table border=\"1\" class=\"dataframe\">\n",
       "  <thead>\n",
       "    <tr style=\"text-align: right;\">\n",
       "      <th></th>\n",
       "      <th>id</th>\n",
       "      <th>api</th>\n",
       "      <th>count</th>\n",
       "      <th>res_time_sum</th>\n",
       "      <th>res_time_min</th>\n",
       "      <th>res_time_max</th>\n",
       "      <th>res_time_avg</th>\n",
       "      <th>interval</th>\n",
       "      <th>created_at</th>\n",
       "    </tr>\n",
       "    <tr>\n",
       "      <th>created_at</th>\n",
       "      <th></th>\n",
       "      <th></th>\n",
       "      <th></th>\n",
       "      <th></th>\n",
       "      <th></th>\n",
       "      <th></th>\n",
       "      <th></th>\n",
       "      <th></th>\n",
       "      <th></th>\n",
       "    </tr>\n",
       "  </thead>\n",
       "  <tbody>\n",
       "    <tr>\n",
       "      <th>2018-05-30 23:06:21</th>\n",
       "      <td>13438800</td>\n",
       "      <td>/front-api/bill/create</td>\n",
       "      <td>11</td>\n",
       "      <td>2783.48</td>\n",
       "      <td>99.24</td>\n",
       "      <td>489.90</td>\n",
       "      <td>253.0</td>\n",
       "      <td>60</td>\n",
       "      <td>2018-05-30 23:06:21</td>\n",
       "    </tr>\n",
       "    <tr>\n",
       "      <th>2018-05-30 23:07:21</th>\n",
       "      <td>13438866</td>\n",
       "      <td>/front-api/bill/create</td>\n",
       "      <td>10</td>\n",
       "      <td>1951.10</td>\n",
       "      <td>85.37</td>\n",
       "      <td>529.51</td>\n",
       "      <td>195.0</td>\n",
       "      <td>60</td>\n",
       "      <td>2018-05-30 23:07:21</td>\n",
       "    </tr>\n",
       "    <tr>\n",
       "      <th>2018-05-30 23:08:21</th>\n",
       "      <td>13438917</td>\n",
       "      <td>/front-api/bill/create</td>\n",
       "      <td>3</td>\n",
       "      <td>494.17</td>\n",
       "      <td>103.95</td>\n",
       "      <td>211.47</td>\n",
       "      <td>164.0</td>\n",
       "      <td>60</td>\n",
       "      <td>2018-05-30 23:08:21</td>\n",
       "    </tr>\n",
       "    <tr>\n",
       "      <th>2018-05-30 23:09:21</th>\n",
       "      <td>13438981</td>\n",
       "      <td>/front-api/bill/create</td>\n",
       "      <td>9</td>\n",
       "      <td>1798.28</td>\n",
       "      <td>101.11</td>\n",
       "      <td>433.30</td>\n",
       "      <td>199.0</td>\n",
       "      <td>60</td>\n",
       "      <td>2018-05-30 23:09:21</td>\n",
       "    </tr>\n",
       "    <tr>\n",
       "      <th>2018-05-30 23:10:21</th>\n",
       "      <td>13439086</td>\n",
       "      <td>/front-api/bill/create</td>\n",
       "      <td>6</td>\n",
       "      <td>1017.97</td>\n",
       "      <td>74.45</td>\n",
       "      <td>298.97</td>\n",
       "      <td>169.0</td>\n",
       "      <td>60</td>\n",
       "      <td>2018-05-30 23:10:21</td>\n",
       "    </tr>\n",
       "  </tbody>\n",
       "</table>\n",
       "</div>"
      ],
      "text/plain": [
       "                           id                     api  count  res_time_sum  \\\n",
       "created_at                                                                   \n",
       "2018-05-30 23:06:21  13438800  /front-api/bill/create     11       2783.48   \n",
       "2018-05-30 23:07:21  13438866  /front-api/bill/create     10       1951.10   \n",
       "2018-05-30 23:08:21  13438917  /front-api/bill/create      3        494.17   \n",
       "2018-05-30 23:09:21  13438981  /front-api/bill/create      9       1798.28   \n",
       "2018-05-30 23:10:21  13439086  /front-api/bill/create      6       1017.97   \n",
       "\n",
       "                     res_time_min  res_time_max  res_time_avg  interval  \\\n",
       "created_at                                                                \n",
       "2018-05-30 23:06:21         99.24        489.90         253.0        60   \n",
       "2018-05-30 23:07:21         85.37        529.51         195.0        60   \n",
       "2018-05-30 23:08:21        103.95        211.47         164.0        60   \n",
       "2018-05-30 23:09:21        101.11        433.30         199.0        60   \n",
       "2018-05-30 23:10:21         74.45        298.97         169.0        60   \n",
       "\n",
       "                              created_at  \n",
       "created_at                                \n",
       "2018-05-30 23:06:21  2018-05-30 23:06:21  \n",
       "2018-05-30 23:07:21  2018-05-30 23:07:21  \n",
       "2018-05-30 23:08:21  2018-05-30 23:08:21  \n",
       "2018-05-30 23:09:21  2018-05-30 23:09:21  \n",
       "2018-05-30 23:10:21  2018-05-30 23:10:21  "
      ]
     },
     "execution_count": 10,
     "metadata": {},
     "output_type": "execute_result"
    }
   ],
   "source": [
    "data.tail()"
   ]
  },
  {
   "cell_type": "markdown",
   "metadata": {},
   "source": [
    "## 6. 分析api调用次数情况"
   ]
  },
  {
   "cell_type": "code",
   "execution_count": 11,
   "metadata": {},
   "outputs": [
    {
     "data": {
      "text/html": [
       "<div>\n",
       "<style scoped>\n",
       "    .dataframe tbody tr th:only-of-type {\n",
       "        vertical-align: middle;\n",
       "    }\n",
       "\n",
       "    .dataframe tbody tr th {\n",
       "        vertical-align: top;\n",
       "    }\n",
       "\n",
       "    .dataframe thead th {\n",
       "        text-align: right;\n",
       "    }\n",
       "</style>\n",
       "<table border=\"1\" class=\"dataframe\">\n",
       "  <thead>\n",
       "    <tr style=\"text-align: right;\">\n",
       "      <th></th>\n",
       "      <th>id</th>\n",
       "      <th>api</th>\n",
       "      <th>count</th>\n",
       "      <th>res_time_sum</th>\n",
       "      <th>res_time_min</th>\n",
       "      <th>res_time_max</th>\n",
       "      <th>res_time_avg</th>\n",
       "      <th>interval</th>\n",
       "      <th>created_at</th>\n",
       "    </tr>\n",
       "    <tr>\n",
       "      <th>created_at</th>\n",
       "      <th></th>\n",
       "      <th></th>\n",
       "      <th></th>\n",
       "      <th></th>\n",
       "      <th></th>\n",
       "      <th></th>\n",
       "      <th></th>\n",
       "      <th></th>\n",
       "      <th></th>\n",
       "    </tr>\n",
       "  </thead>\n",
       "  <tbody>\n",
       "    <tr>\n",
       "      <th>2018-05-20 00:00:10</th>\n",
       "      <td>12686322</td>\n",
       "      <td>/front-api/bill/create</td>\n",
       "      <td>5</td>\n",
       "      <td>1136.77</td>\n",
       "      <td>150.77</td>\n",
       "      <td>400.61</td>\n",
       "      <td>227.0</td>\n",
       "      <td>60</td>\n",
       "      <td>2018-05-20 00:00:10</td>\n",
       "    </tr>\n",
       "    <tr>\n",
       "      <th>2018-05-20 00:01:10</th>\n",
       "      <td>12686411</td>\n",
       "      <td>/front-api/bill/create</td>\n",
       "      <td>3</td>\n",
       "      <td>553.82</td>\n",
       "      <td>165.71</td>\n",
       "      <td>219.99</td>\n",
       "      <td>184.0</td>\n",
       "      <td>60</td>\n",
       "      <td>2018-05-20 00:01:10</td>\n",
       "    </tr>\n",
       "    <tr>\n",
       "      <th>2018-05-20 00:02:10</th>\n",
       "      <td>12686488</td>\n",
       "      <td>/front-api/bill/create</td>\n",
       "      <td>3</td>\n",
       "      <td>559.27</td>\n",
       "      <td>139.82</td>\n",
       "      <td>259.43</td>\n",
       "      <td>186.0</td>\n",
       "      <td>60</td>\n",
       "      <td>2018-05-20 00:02:10</td>\n",
       "    </tr>\n",
       "    <tr>\n",
       "      <th>2018-05-20 00:03:10</th>\n",
       "      <td>12686558</td>\n",
       "      <td>/front-api/bill/create</td>\n",
       "      <td>5</td>\n",
       "      <td>947.08</td>\n",
       "      <td>119.61</td>\n",
       "      <td>269.42</td>\n",
       "      <td>189.0</td>\n",
       "      <td>60</td>\n",
       "      <td>2018-05-20 00:03:10</td>\n",
       "    </tr>\n",
       "    <tr>\n",
       "      <th>2018-05-20 00:04:10</th>\n",
       "      <td>12686635</td>\n",
       "      <td>/front-api/bill/create</td>\n",
       "      <td>6</td>\n",
       "      <td>1081.21</td>\n",
       "      <td>138.63</td>\n",
       "      <td>241.77</td>\n",
       "      <td>180.0</td>\n",
       "      <td>60</td>\n",
       "      <td>2018-05-20 00:04:10</td>\n",
       "    </tr>\n",
       "  </tbody>\n",
       "</table>\n",
       "</div>"
      ],
      "text/plain": [
       "                           id                     api  count  res_time_sum  \\\n",
       "created_at                                                                   \n",
       "2018-05-20 00:00:10  12686322  /front-api/bill/create      5       1136.77   \n",
       "2018-05-20 00:01:10  12686411  /front-api/bill/create      3        553.82   \n",
       "2018-05-20 00:02:10  12686488  /front-api/bill/create      3        559.27   \n",
       "2018-05-20 00:03:10  12686558  /front-api/bill/create      5        947.08   \n",
       "2018-05-20 00:04:10  12686635  /front-api/bill/create      6       1081.21   \n",
       "\n",
       "                     res_time_min  res_time_max  res_time_avg  interval  \\\n",
       "created_at                                                                \n",
       "2018-05-20 00:00:10        150.77        400.61         227.0        60   \n",
       "2018-05-20 00:01:10        165.71        219.99         184.0        60   \n",
       "2018-05-20 00:02:10        139.82        259.43         186.0        60   \n",
       "2018-05-20 00:03:10        119.61        269.42         189.0        60   \n",
       "2018-05-20 00:04:10        138.63        241.77         180.0        60   \n",
       "\n",
       "                              created_at  \n",
       "created_at                                \n",
       "2018-05-20 00:00:10  2018-05-20 00:00:10  \n",
       "2018-05-20 00:01:10  2018-05-20 00:01:10  \n",
       "2018-05-20 00:02:10  2018-05-20 00:02:10  \n",
       "2018-05-20 00:03:10  2018-05-20 00:03:10  \n",
       "2018-05-20 00:04:10  2018-05-20 00:04:10  "
      ]
     },
     "execution_count": 11,
     "metadata": {},
     "output_type": "execute_result"
    }
   ],
   "source": [
    "df = data['2018-05-20 00:00:00' : '2018-05-20 23:59:59']   # 取2018-05-29一天的数据\n",
    "df.head()"
   ]
  },
  {
   "cell_type": "code",
   "execution_count": 12,
   "metadata": {},
   "outputs": [
    {
     "data": {
      "text/html": [
       "<div>\n",
       "<style scoped>\n",
       "    .dataframe tbody tr th:only-of-type {\n",
       "        vertical-align: middle;\n",
       "    }\n",
       "\n",
       "    .dataframe tbody tr th {\n",
       "        vertical-align: top;\n",
       "    }\n",
       "\n",
       "    .dataframe thead th {\n",
       "        text-align: right;\n",
       "    }\n",
       "</style>\n",
       "<table border=\"1\" class=\"dataframe\">\n",
       "  <thead>\n",
       "    <tr style=\"text-align: right;\">\n",
       "      <th></th>\n",
       "      <th>id</th>\n",
       "      <th>api</th>\n",
       "      <th>count</th>\n",
       "      <th>res_time_sum</th>\n",
       "      <th>res_time_min</th>\n",
       "      <th>res_time_max</th>\n",
       "      <th>res_time_avg</th>\n",
       "      <th>interval</th>\n",
       "      <th>created_at</th>\n",
       "    </tr>\n",
       "    <tr>\n",
       "      <th>created_at</th>\n",
       "      <th></th>\n",
       "      <th></th>\n",
       "      <th></th>\n",
       "      <th></th>\n",
       "      <th></th>\n",
       "      <th></th>\n",
       "      <th></th>\n",
       "      <th></th>\n",
       "      <th></th>\n",
       "    </tr>\n",
       "  </thead>\n",
       "  <tbody>\n",
       "    <tr>\n",
       "      <th>2018-05-20 23:55:11</th>\n",
       "      <td>12755831</td>\n",
       "      <td>/front-api/bill/create</td>\n",
       "      <td>5</td>\n",
       "      <td>1249.44</td>\n",
       "      <td>141.59</td>\n",
       "      <td>346.02</td>\n",
       "      <td>249.0</td>\n",
       "      <td>60</td>\n",
       "      <td>2018-05-20 23:55:11</td>\n",
       "    </tr>\n",
       "    <tr>\n",
       "      <th>2018-05-20 23:56:11</th>\n",
       "      <td>12755902</td>\n",
       "      <td>/front-api/bill/create</td>\n",
       "      <td>5</td>\n",
       "      <td>855.73</td>\n",
       "      <td>120.08</td>\n",
       "      <td>194.33</td>\n",
       "      <td>171.0</td>\n",
       "      <td>60</td>\n",
       "      <td>2018-05-20 23:56:11</td>\n",
       "    </tr>\n",
       "    <tr>\n",
       "      <th>2018-05-20 23:57:11</th>\n",
       "      <td>12755949</td>\n",
       "      <td>/front-api/bill/create</td>\n",
       "      <td>6</td>\n",
       "      <td>1227.75</td>\n",
       "      <td>74.60</td>\n",
       "      <td>312.44</td>\n",
       "      <td>204.0</td>\n",
       "      <td>60</td>\n",
       "      <td>2018-05-20 23:57:11</td>\n",
       "    </tr>\n",
       "    <tr>\n",
       "      <th>2018-05-20 23:58:11</th>\n",
       "      <td>12756051</td>\n",
       "      <td>/front-api/bill/create</td>\n",
       "      <td>5</td>\n",
       "      <td>678.46</td>\n",
       "      <td>86.67</td>\n",
       "      <td>218.59</td>\n",
       "      <td>135.0</td>\n",
       "      <td>60</td>\n",
       "      <td>2018-05-20 23:58:11</td>\n",
       "    </tr>\n",
       "    <tr>\n",
       "      <th>2018-05-20 23:59:11</th>\n",
       "      <td>12756118</td>\n",
       "      <td>/front-api/bill/create</td>\n",
       "      <td>6</td>\n",
       "      <td>1284.77</td>\n",
       "      <td>101.39</td>\n",
       "      <td>347.52</td>\n",
       "      <td>214.0</td>\n",
       "      <td>60</td>\n",
       "      <td>2018-05-20 23:59:11</td>\n",
       "    </tr>\n",
       "  </tbody>\n",
       "</table>\n",
       "</div>"
      ],
      "text/plain": [
       "                           id                     api  count  res_time_sum  \\\n",
       "created_at                                                                   \n",
       "2018-05-20 23:55:11  12755831  /front-api/bill/create      5       1249.44   \n",
       "2018-05-20 23:56:11  12755902  /front-api/bill/create      5        855.73   \n",
       "2018-05-20 23:57:11  12755949  /front-api/bill/create      6       1227.75   \n",
       "2018-05-20 23:58:11  12756051  /front-api/bill/create      5        678.46   \n",
       "2018-05-20 23:59:11  12756118  /front-api/bill/create      6       1284.77   \n",
       "\n",
       "                     res_time_min  res_time_max  res_time_avg  interval  \\\n",
       "created_at                                                                \n",
       "2018-05-20 23:55:11        141.59        346.02         249.0        60   \n",
       "2018-05-20 23:56:11        120.08        194.33         171.0        60   \n",
       "2018-05-20 23:57:11         74.60        312.44         204.0        60   \n",
       "2018-05-20 23:58:11         86.67        218.59         135.0        60   \n",
       "2018-05-20 23:59:11        101.39        347.52         214.0        60   \n",
       "\n",
       "                              created_at  \n",
       "created_at                                \n",
       "2018-05-20 23:55:11  2018-05-20 23:55:11  \n",
       "2018-05-20 23:56:11  2018-05-20 23:56:11  \n",
       "2018-05-20 23:57:11  2018-05-20 23:57:11  \n",
       "2018-05-20 23:58:11  2018-05-20 23:58:11  \n",
       "2018-05-20 23:59:11  2018-05-20 23:59:11  "
      ]
     },
     "execution_count": 12,
     "metadata": {},
     "output_type": "execute_result"
    }
   ],
   "source": [
    "df.tail()"
   ]
  },
  {
   "cell_type": "code",
   "execution_count": 13,
   "metadata": {},
   "outputs": [
    {
     "data": {
      "text/plain": [
       "Timestamp('2018-05-20 00:00:10')"
      ]
     },
     "execution_count": 13,
     "metadata": {},
     "output_type": "execute_result"
    }
   ],
   "source": [
    "df.index[0]"
   ]
  },
  {
   "cell_type": "code",
   "execution_count": 14,
   "metadata": {},
   "outputs": [
    {
     "data": {
      "image/png": "[encoded data removed]",
      "text/plain": [
       "<Figure size 1080x648 with 1 Axes>"
      ]
     },
     "metadata": {},
     "output_type": "display_data"
    }
   ],
   "source": [
    "plt.figure(figsize=(15, 9))\n",
    "df['count'].plot() \n",
    "plt.show()"
   ]
  },
  {
   "cell_type": "markdown",
   "metadata": {},
   "source": [
    "#### 结论：根据上图分析，从凌晨2点到11点访问少，业务高峰在现下午2点到5点、晚上8点到10点"
   ]
  },
  {
   "cell_type": "markdown",
   "metadata": {},
   "source": [
    "## 7、分析⼀天中api响应时间"
   ]
  },
  {
   "cell_type": "markdown",
   "metadata": {},
   "source": [
    "下面这个不知道为什么 plt.figure(figsize=(15, 9)) 设置无效"
   ]
  },
  {
   "cell_type": "code",
   "execution_count": 15,
   "metadata": {},
   "outputs": [
    {
     "data": {
      "text/plain": [
       "<Figure size 1080x648 with 0 Axes>"
      ]
     },
     "metadata": {},
     "output_type": "display_data"
    },
    {
     "data": {
      "image/png": "[encoded data removed]",
      "text/plain": [
       "<Figure size 432x288 with 1 Axes>"
      ]
     },
     "metadata": {},
     "output_type": "display_data"
    }
   ],
   "source": [
    "plt.figure(figsize=(15, 9))           \n",
    "df2 = df[::10]  # 每隔十分钟取一次数据\n",
    "df2[[ 'res_time_min', 'res_time_max','res_time_avg']].plot() \n",
    "plt.show()"
   ]
  },
  {
   "cell_type": "markdown",
   "metadata": {},
   "source": [
    "#### 结论：在业务⾼峰时间段，最大响应时间和平均响应时间都有所上升"
   ]
  },
  {
   "cell_type": "markdown",
   "metadata": {},
   "source": [
    "## 8. 分析连续的几天数据"
   ]
  },
  {
   "cell_type": "code",
   "execution_count": 16,
   "metadata": {},
   "outputs": [
    {
     "data": {
      "text/html": [
       "<div>\n",
       "<style scoped>\n",
       "    .dataframe tbody tr th:only-of-type {\n",
       "        vertical-align: middle;\n",
       "    }\n",
       "\n",
       "    .dataframe tbody tr th {\n",
       "        vertical-align: top;\n",
       "    }\n",
       "\n",
       "    .dataframe thead th {\n",
       "        text-align: right;\n",
       "    }\n",
       "</style>\n",
       "<table border=\"1\" class=\"dataframe\">\n",
       "  <thead>\n",
       "    <tr style=\"text-align: right;\">\n",
       "      <th></th>\n",
       "      <th>id</th>\n",
       "      <th>api</th>\n",
       "      <th>count</th>\n",
       "      <th>res_time_sum</th>\n",
       "      <th>res_time_min</th>\n",
       "      <th>res_time_max</th>\n",
       "      <th>res_time_avg</th>\n",
       "      <th>interval</th>\n",
       "      <th>created_at</th>\n",
       "    </tr>\n",
       "    <tr>\n",
       "      <th>created_at</th>\n",
       "      <th></th>\n",
       "      <th></th>\n",
       "      <th></th>\n",
       "      <th></th>\n",
       "      <th></th>\n",
       "      <th></th>\n",
       "      <th></th>\n",
       "      <th></th>\n",
       "      <th></th>\n",
       "    </tr>\n",
       "  </thead>\n",
       "  <tbody>\n",
       "    <tr>\n",
       "      <th>2018-05-12 00:00:01</th>\n",
       "      <td>12143170</td>\n",
       "      <td>/front-api/bill/create</td>\n",
       "      <td>13</td>\n",
       "      <td>3340.61</td>\n",
       "      <td>61.82</td>\n",
       "      <td>758.07</td>\n",
       "      <td>256.0</td>\n",
       "      <td>60</td>\n",
       "      <td>2018-05-12 00:00:01</td>\n",
       "    </tr>\n",
       "    <tr>\n",
       "      <th>2018-05-12 00:01:01</th>\n",
       "      <td>12143256</td>\n",
       "      <td>/front-api/bill/create</td>\n",
       "      <td>6</td>\n",
       "      <td>1287.80</td>\n",
       "      <td>124.29</td>\n",
       "      <td>344.26</td>\n",
       "      <td>214.0</td>\n",
       "      <td>60</td>\n",
       "      <td>2018-05-12 00:01:01</td>\n",
       "    </tr>\n",
       "    <tr>\n",
       "      <th>2018-05-12 00:02:01</th>\n",
       "      <td>12143360</td>\n",
       "      <td>/front-api/bill/create</td>\n",
       "      <td>4</td>\n",
       "      <td>941.29</td>\n",
       "      <td>112.89</td>\n",
       "      <td>367.51</td>\n",
       "      <td>235.0</td>\n",
       "      <td>60</td>\n",
       "      <td>2018-05-12 00:02:01</td>\n",
       "    </tr>\n",
       "    <tr>\n",
       "      <th>2018-05-12 00:03:01</th>\n",
       "      <td>12143431</td>\n",
       "      <td>/front-api/bill/create</td>\n",
       "      <td>5</td>\n",
       "      <td>1075.60</td>\n",
       "      <td>95.55</td>\n",
       "      <td>389.41</td>\n",
       "      <td>215.0</td>\n",
       "      <td>60</td>\n",
       "      <td>2018-05-12 00:03:01</td>\n",
       "    </tr>\n",
       "    <tr>\n",
       "      <th>2018-05-12 00:04:01</th>\n",
       "      <td>12143511</td>\n",
       "      <td>/front-api/bill/create</td>\n",
       "      <td>4</td>\n",
       "      <td>1164.78</td>\n",
       "      <td>134.69</td>\n",
       "      <td>605.19</td>\n",
       "      <td>291.0</td>\n",
       "      <td>60</td>\n",
       "      <td>2018-05-12 00:04:01</td>\n",
       "    </tr>\n",
       "  </tbody>\n",
       "</table>\n",
       "</div>"
      ],
      "text/plain": [
       "                           id                     api  count  res_time_sum  \\\n",
       "created_at                                                                   \n",
       "2018-05-12 00:00:01  12143170  /front-api/bill/create     13       3340.61   \n",
       "2018-05-12 00:01:01  12143256  /front-api/bill/create      6       1287.80   \n",
       "2018-05-12 00:02:01  12143360  /front-api/bill/create      4        941.29   \n",
       "2018-05-12 00:03:01  12143431  /front-api/bill/create      5       1075.60   \n",
       "2018-05-12 00:04:01  12143511  /front-api/bill/create      4       1164.78   \n",
       "\n",
       "                     res_time_min  res_time_max  res_time_avg  interval  \\\n",
       "created_at                                                                \n",
       "2018-05-12 00:00:01         61.82        758.07         256.0        60   \n",
       "2018-05-12 00:01:01        124.29        344.26         214.0        60   \n",
       "2018-05-12 00:02:01        112.89        367.51         235.0        60   \n",
       "2018-05-12 00:03:01         95.55        389.41         215.0        60   \n",
       "2018-05-12 00:04:01        134.69        605.19         291.0        60   \n",
       "\n",
       "                              created_at  \n",
       "created_at                                \n",
       "2018-05-12 00:00:01  2018-05-12 00:00:01  \n",
       "2018-05-12 00:01:01  2018-05-12 00:01:01  \n",
       "2018-05-12 00:02:01  2018-05-12 00:02:01  \n",
       "2018-05-12 00:03:01  2018-05-12 00:03:01  \n",
       "2018-05-12 00:04:01  2018-05-12 00:04:01  "
      ]
     },
     "execution_count": 16,
     "metadata": {},
     "output_type": "execute_result"
    }
   ],
   "source": [
    "df3 = data['2018-05-12' : '2018-05-20']   # 取2018-05-29一天的数据，且每隔10分钟取一次数据\n",
    "df3.head()"
   ]
  },
  {
   "cell_type": "code",
   "execution_count": 17,
   "metadata": {},
   "outputs": [
    {
     "data": {
      "image/png": "[encoded data removed]",
      "text/plain": [
       "<Figure size 1080x648 with 1 Axes>"
      ]
     },
     "metadata": {},
     "output_type": "display_data"
    }
   ],
   "source": [
    "plt.figure(figsize=(15,9))\n",
    "df3['count'].plot()\n",
    "plt.show()"
   ]
  },
  {
   "cell_type": "markdown",
   "metadata": {},
   "source": [
    "#### 结论：每天的业务高峰时段都比较相似"
   ]
  },
  {
   "cell_type": "markdown",
   "metadata": {},
   "source": [
    "## 9. 分析周末访问量是否有增加"
   ]
  },
  {
   "cell_type": "code",
   "execution_count": 18,
   "metadata": {},
   "outputs": [
    {
     "data": {
      "text/plain": [
       "'2018-05-20 00:00:10'"
      ]
     },
     "execution_count": 18,
     "metadata": {},
     "output_type": "execute_result"
    }
   ],
   "source": [
    "time = df.index[0].strftime('%Y-%m-%d %H:%M:%S')\n",
    "time"
   ]
  },
  {
   "cell_type": "code",
   "execution_count": 19,
   "metadata": {},
   "outputs": [
    {
     "data": {
      "text/plain": [
       "Timestamp('2018-05-20 00:00:10')"
      ]
     },
     "execution_count": 19,
     "metadata": {},
     "output_type": "execute_result"
    }
   ],
   "source": [
    "df.index[0]"
   ]
  },
  {
   "cell_type": "code",
   "execution_count": 20,
   "metadata": {},
   "outputs": [
    {
     "data": {
      "text/html": [
       "<div>\n",
       "<style scoped>\n",
       "    .dataframe tbody tr th:only-of-type {\n",
       "        vertical-align: middle;\n",
       "    }\n",
       "\n",
       "    .dataframe tbody tr th {\n",
       "        vertical-align: top;\n",
       "    }\n",
       "\n",
       "    .dataframe thead th {\n",
       "        text-align: right;\n",
       "    }\n",
       "</style>\n",
       "<table border=\"1\" class=\"dataframe\">\n",
       "  <thead>\n",
       "    <tr style=\"text-align: right;\">\n",
       "      <th></th>\n",
       "      <th>id</th>\n",
       "      <th>api</th>\n",
       "      <th>count</th>\n",
       "      <th>res_time_sum</th>\n",
       "      <th>res_time_min</th>\n",
       "      <th>res_time_max</th>\n",
       "      <th>res_time_avg</th>\n",
       "      <th>interval</th>\n",
       "      <th>created_at</th>\n",
       "    </tr>\n",
       "    <tr>\n",
       "      <th>created_at</th>\n",
       "      <th></th>\n",
       "      <th></th>\n",
       "      <th></th>\n",
       "      <th></th>\n",
       "      <th></th>\n",
       "      <th></th>\n",
       "      <th></th>\n",
       "      <th></th>\n",
       "      <th></th>\n",
       "    </tr>\n",
       "  </thead>\n",
       "  <tbody>\n",
       "    <tr>\n",
       "      <th>2018-05-20 00:00:10</th>\n",
       "      <td>12686322</td>\n",
       "      <td>/front-api/bill/create</td>\n",
       "      <td>5</td>\n",
       "      <td>1136.77</td>\n",
       "      <td>150.77</td>\n",
       "      <td>400.61</td>\n",
       "      <td>227.0</td>\n",
       "      <td>60</td>\n",
       "      <td>2018-05-20 00:00:10</td>\n",
       "    </tr>\n",
       "    <tr>\n",
       "      <th>2018-05-20 00:30:10</th>\n",
       "      <td>12688476</td>\n",
       "      <td>/front-api/bill/create</td>\n",
       "      <td>4</td>\n",
       "      <td>665.14</td>\n",
       "      <td>123.40</td>\n",
       "      <td>244.76</td>\n",
       "      <td>166.0</td>\n",
       "      <td>60</td>\n",
       "      <td>2018-05-20 00:30:10</td>\n",
       "    </tr>\n",
       "    <tr>\n",
       "      <th>2018-05-20 01:04:10</th>\n",
       "      <td>12690617</td>\n",
       "      <td>/front-api/bill/create</td>\n",
       "      <td>3</td>\n",
       "      <td>649.72</td>\n",
       "      <td>106.73</td>\n",
       "      <td>339.61</td>\n",
       "      <td>216.0</td>\n",
       "      <td>60</td>\n",
       "      <td>2018-05-20 01:04:10</td>\n",
       "    </tr>\n",
       "    <tr>\n",
       "      <th>2018-05-20 01:58:10</th>\n",
       "      <td>12693151</td>\n",
       "      <td>/front-api/bill/create</td>\n",
       "      <td>1</td>\n",
       "      <td>212.45</td>\n",
       "      <td>212.45</td>\n",
       "      <td>212.45</td>\n",
       "      <td>212.0</td>\n",
       "      <td>60</td>\n",
       "      <td>2018-05-20 01:58:10</td>\n",
       "    </tr>\n",
       "    <tr>\n",
       "      <th>2018-05-20 10:51:11</th>\n",
       "      <td>12699445</td>\n",
       "      <td>/front-api/bill/create</td>\n",
       "      <td>1</td>\n",
       "      <td>213.11</td>\n",
       "      <td>213.11</td>\n",
       "      <td>213.11</td>\n",
       "      <td>213.0</td>\n",
       "      <td>60</td>\n",
       "      <td>2018-05-20 10:51:11</td>\n",
       "    </tr>\n",
       "  </tbody>\n",
       "</table>\n",
       "</div>"
      ],
      "text/plain": [
       "                           id                     api  count  res_time_sum  \\\n",
       "created_at                                                                   \n",
       "2018-05-20 00:00:10  12686322  /front-api/bill/create      5       1136.77   \n",
       "2018-05-20 00:30:10  12688476  /front-api/bill/create      4        665.14   \n",
       "2018-05-20 01:04:10  12690617  /front-api/bill/create      3        649.72   \n",
       "2018-05-20 01:58:10  12693151  /front-api/bill/create      1        212.45   \n",
       "2018-05-20 10:51:11  12699445  /front-api/bill/create      1        213.11   \n",
       "\n",
       "                     res_time_min  res_time_max  res_time_avg  interval  \\\n",
       "created_at                                                                \n",
       "2018-05-20 00:00:10        150.77        400.61         227.0        60   \n",
       "2018-05-20 00:30:10        123.40        244.76         166.0        60   \n",
       "2018-05-20 01:04:10        106.73        339.61         216.0        60   \n",
       "2018-05-20 01:58:10        212.45        212.45         212.0        60   \n",
       "2018-05-20 10:51:11        213.11        213.11         213.0        60   \n",
       "\n",
       "                              created_at  \n",
       "created_at                                \n",
       "2018-05-20 00:00:10  2018-05-20 00:00:10  \n",
       "2018-05-20 00:30:10  2018-05-20 00:30:10  \n",
       "2018-05-20 01:04:10  2018-05-20 01:04:10  \n",
       "2018-05-20 01:58:10  2018-05-20 01:58:10  \n",
       "2018-05-20 10:51:11  2018-05-20 10:51:11  "
      ]
     },
     "execution_count": 20,
     "metadata": {},
     "output_type": "execute_result"
    }
   ],
   "source": [
    "df4 = df[::30]    # 隔30分钟取一次数据\n",
    "df4.head()"
   ]
  },
  {
   "cell_type": "code",
   "execution_count": 21,
   "metadata": {},
   "outputs": [
    {
     "data": {
      "text/plain": [
       "7"
      ]
     },
     "execution_count": 21,
     "metadata": {},
     "output_type": "execute_result"
    }
   ],
   "source": [
    "df4.index[0].weekday()+1"
   ]
  },
  {
   "cell_type": "markdown",
   "metadata": {},
   "source": [
    "上面返回7，表示是周日"
   ]
  },
  {
   "cell_type": "code",
   "execution_count": 22,
   "metadata": {},
   "outputs": [
    {
     "data": {
      "text/html": [
       "<div>\n",
       "<style scoped>\n",
       "    .dataframe tbody tr th:only-of-type {\n",
       "        vertical-align: middle;\n",
       "    }\n",
       "\n",
       "    .dataframe tbody tr th {\n",
       "        vertical-align: top;\n",
       "    }\n",
       "\n",
       "    .dataframe thead th {\n",
       "        text-align: right;\n",
       "    }\n",
       "</style>\n",
       "<table border=\"1\" class=\"dataframe\">\n",
       "  <thead>\n",
       "    <tr style=\"text-align: right;\">\n",
       "      <th></th>\n",
       "      <th>id</th>\n",
       "      <th>api</th>\n",
       "      <th>count</th>\n",
       "      <th>res_time_sum</th>\n",
       "      <th>res_time_min</th>\n",
       "      <th>res_time_max</th>\n",
       "      <th>res_time_avg</th>\n",
       "      <th>interval</th>\n",
       "      <th>created_at</th>\n",
       "    </tr>\n",
       "    <tr>\n",
       "      <th>created_at</th>\n",
       "      <th></th>\n",
       "      <th></th>\n",
       "      <th></th>\n",
       "      <th></th>\n",
       "      <th></th>\n",
       "      <th></th>\n",
       "      <th></th>\n",
       "      <th></th>\n",
       "      <th></th>\n",
       "    </tr>\n",
       "  </thead>\n",
       "  <tbody>\n",
       "    <tr>\n",
       "      <th>2018-05-22 00:00:12</th>\n",
       "      <td>12823343</td>\n",
       "      <td>/front-api/bill/create</td>\n",
       "      <td>6</td>\n",
       "      <td>1257.16</td>\n",
       "      <td>92.11</td>\n",
       "      <td>289.67</td>\n",
       "      <td>209.0</td>\n",
       "      <td>60</td>\n",
       "      <td>2018-05-22 00:00:12</td>\n",
       "    </tr>\n",
       "    <tr>\n",
       "      <th>2018-05-22 00:31:12</th>\n",
       "      <td>12825531</td>\n",
       "      <td>/front-api/bill/create</td>\n",
       "      <td>3</td>\n",
       "      <td>645.92</td>\n",
       "      <td>189.54</td>\n",
       "      <td>239.19</td>\n",
       "      <td>215.0</td>\n",
       "      <td>60</td>\n",
       "      <td>2018-05-22 00:31:12</td>\n",
       "    </tr>\n",
       "    <tr>\n",
       "      <th>2018-05-22 01:03:12</th>\n",
       "      <td>12827356</td>\n",
       "      <td>/front-api/bill/create</td>\n",
       "      <td>2</td>\n",
       "      <td>421.44</td>\n",
       "      <td>131.02</td>\n",
       "      <td>290.42</td>\n",
       "      <td>210.0</td>\n",
       "      <td>60</td>\n",
       "      <td>2018-05-22 01:03:12</td>\n",
       "    </tr>\n",
       "    <tr>\n",
       "      <th>2018-05-22 01:40:12</th>\n",
       "      <td>12829288</td>\n",
       "      <td>/front-api/bill/create</td>\n",
       "      <td>1</td>\n",
       "      <td>239.38</td>\n",
       "      <td>239.38</td>\n",
       "      <td>239.38</td>\n",
       "      <td>239.0</td>\n",
       "      <td>60</td>\n",
       "      <td>2018-05-22 01:40:12</td>\n",
       "    </tr>\n",
       "    <tr>\n",
       "      <th>2018-05-22 10:38:13</th>\n",
       "      <td>12835864</td>\n",
       "      <td>/front-api/bill/create</td>\n",
       "      <td>1</td>\n",
       "      <td>68.70</td>\n",
       "      <td>68.70</td>\n",
       "      <td>68.70</td>\n",
       "      <td>68.0</td>\n",
       "      <td>60</td>\n",
       "      <td>2018-05-22 10:38:13</td>\n",
       "    </tr>\n",
       "  </tbody>\n",
       "</table>\n",
       "</div>"
      ],
      "text/plain": [
       "                           id                     api  count  res_time_sum  \\\n",
       "created_at                                                                   \n",
       "2018-05-22 00:00:12  12823343  /front-api/bill/create      6       1257.16   \n",
       "2018-05-22 00:31:12  12825531  /front-api/bill/create      3        645.92   \n",
       "2018-05-22 01:03:12  12827356  /front-api/bill/create      2        421.44   \n",
       "2018-05-22 01:40:12  12829288  /front-api/bill/create      1        239.38   \n",
       "2018-05-22 10:38:13  12835864  /front-api/bill/create      1         68.70   \n",
       "\n",
       "                     res_time_min  res_time_max  res_time_avg  interval  \\\n",
       "created_at                                                                \n",
       "2018-05-22 00:00:12         92.11        289.67         209.0        60   \n",
       "2018-05-22 00:31:12        189.54        239.19         215.0        60   \n",
       "2018-05-22 01:03:12        131.02        290.42         210.0        60   \n",
       "2018-05-22 01:40:12        239.38        239.38         239.0        60   \n",
       "2018-05-22 10:38:13         68.70         68.70          68.0        60   \n",
       "\n",
       "                              created_at  \n",
       "created_at                                \n",
       "2018-05-22 00:00:12  2018-05-22 00:00:12  \n",
       "2018-05-22 00:31:12  2018-05-22 00:31:12  \n",
       "2018-05-22 01:03:12  2018-05-22 01:03:12  \n",
       "2018-05-22 01:40:12  2018-05-22 01:40:12  \n",
       "2018-05-22 10:38:13  2018-05-22 10:38:13  "
      ]
     },
     "execution_count": 22,
     "metadata": {},
     "output_type": "execute_result"
    }
   ],
   "source": [
    "df5 = data['2018-05-22 00:00:00' : '2018-05-22 23:59:59' : 30]\n",
    "df5.head()"
   ]
  },
  {
   "cell_type": "code",
   "execution_count": 23,
   "metadata": {},
   "outputs": [
    {
     "data": {
      "text/plain": [
       "2"
      ]
     },
     "execution_count": 23,
     "metadata": {},
     "output_type": "execute_result"
    }
   ],
   "source": [
    "df5.index[0].weekday()+1"
   ]
  },
  {
   "cell_type": "markdown",
   "metadata": {},
   "source": [
    "上面返回2，表示是周二"
   ]
  },
  {
   "cell_type": "code",
   "execution_count": 24,
   "metadata": {},
   "outputs": [
    {
     "data": {
      "image/png": "[encoded data removed]",
      "text/plain": [
       "<Figure size 1080x648 with 1 Axes>"
      ]
     },
     "metadata": {},
     "output_type": "display_data"
    }
   ],
   "source": [
    "plt.figure(figsize=(15, 9))\n",
    "plt.plot(df4.index, df4['count'], label='Sunday')\n",
    "plt.plot(df4.index, df5['count'], label='Tuesday')\n",
    "plt.legend()\n",
    "plt.show()"
   ]
  },
  {
   "cell_type": "markdown",
   "metadata": {},
   "source": [
    "#### 结论：周末的下午和晚上，⽐⾮周末访问量多一些"
   ]
  }
 ],
 "metadata": {
  "kernelspec": {
   "display_name": "Python 3",
   "language": "python",
   "name": "python3"
  },
  "language_info": {
   "codemirror_mode": {
    "name": "ipython",
    "version": 3
   },
   "file_extension": ".py",
   "mimetype": "text/x-python",
   "name": "python",
   "nbconvert_exporter": "python",
   "pygments_lexer": "ipython3",
   "version": "3.7.0"
  }
 },
 "nbformat": 4,
 "nbformat_minor": 2
}
