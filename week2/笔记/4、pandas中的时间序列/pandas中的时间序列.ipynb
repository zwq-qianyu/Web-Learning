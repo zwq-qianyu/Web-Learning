{
 "cells": [
  {
   "cell_type": "markdown",
   "metadata": {},
   "source": [
    "# pandas中的时间序列"
   ]
  },
  {
   "cell_type": "markdown",
   "metadata": {},
   "source": [
    "python中datetime的复习<br>\n",
    "date_range<br>\n",
    "set_index<br>\n",
    "resample<br>"
   ]
  },
  {
   "cell_type": "markdown",
   "metadata": {},
   "source": [
    "## time datetime timedelta复习"
   ]
  },
  {
   "cell_type": "markdown",
   "metadata": {},
   "source": [
    "timedelta表示时间间隔"
   ]
  },
  {
   "cell_type": "markdown",
   "metadata": {},
   "source": [
    "### 1. time"
   ]
  },
  {
   "cell_type": "code",
   "execution_count": 1,
   "metadata": {},
   "outputs": [],
   "source": [
    "import time"
   ]
  },
  {
   "cell_type": "code",
   "execution_count": 2,
   "metadata": {},
   "outputs": [
    {
     "data": {
      "text/plain": [
       "1534068632.170157"
      ]
     },
     "execution_count": 2,
     "metadata": {},
     "output_type": "execute_result"
    }
   ],
   "source": [
    "time.time()       # 获得现在距离1970年初的时间戳"
   ]
  },
  {
   "cell_type": "code",
   "execution_count": 3,
   "metadata": {},
   "outputs": [
    {
     "data": {
      "text/plain": [
       "time.struct_time(tm_year=2018, tm_mon=8, tm_mday=12, tm_hour=17, tm_min=31, tm_sec=1, tm_wday=6, tm_yday=224, tm_isdst=0)"
      ]
     },
     "execution_count": 3,
     "metadata": {},
     "output_type": "execute_result"
    }
   ],
   "source": [
    "time.localtime(1534066261)           # 将时间戳转为易读的时间"
   ]
  },
  {
   "cell_type": "code",
   "execution_count": 4,
   "metadata": {},
   "outputs": [
    {
     "data": {
      "text/plain": [
       "time.struct_time(tm_year=2018, tm_mon=8, tm_mday=12, tm_hour=18, tm_min=10, tm_sec=32, tm_wday=6, tm_yday=224, tm_isdst=0)"
      ]
     },
     "execution_count": 4,
     "metadata": {},
     "output_type": "execute_result"
    }
   ],
   "source": [
    "time.localtime(time.time())             "
   ]
  },
  {
   "cell_type": "code",
   "execution_count": 5,
   "metadata": {},
   "outputs": [
    {
     "data": {
      "text/plain": [
       "'2018-08-12 18:10:32'"
      ]
     },
     "execution_count": 5,
     "metadata": {},
     "output_type": "execute_result"
    }
   ],
   "source": [
    "time.strftime('%Y-%m-%d %H:%M:%S', time.localtime(time.time()))        # strftime() 可以将时间转化为指定的格式"
   ]
  },
  {
   "cell_type": "code",
   "execution_count": 6,
   "metadata": {},
   "outputs": [
    {
     "data": {
      "text/plain": [
       "'2018-08-12'"
      ]
     },
     "execution_count": 6,
     "metadata": {},
     "output_type": "execute_result"
    }
   ],
   "source": [
    "time.strftime('%Y-%m-%d', time.localtime(time.time()))"
   ]
  },
  {
   "cell_type": "code",
   "execution_count": 7,
   "metadata": {},
   "outputs": [
    {
     "data": {
      "text/plain": [
       "'18:10:32'"
      ]
     },
     "execution_count": 7,
     "metadata": {},
     "output_type": "execute_result"
    }
   ],
   "source": [
    "time.strftime('%H:%M:%S', time.localtime(time.time()))"
   ]
  },
  {
   "cell_type": "code",
   "execution_count": 8,
   "metadata": {},
   "outputs": [
    {
     "data": {
      "text/plain": [
       "time.struct_time(tm_year=2018, tm_mon=8, tm_mday=12, tm_hour=17, tm_min=34, tm_sec=4, tm_wday=6, tm_yday=224, tm_isdst=-1)"
      ]
     },
     "execution_count": 8,
     "metadata": {},
     "output_type": "execute_result"
    }
   ],
   "source": [
    "local = time.strptime('2018-08-12 17:34:04', '%Y-%m-%d %H:%M:%S')\n",
    "local"
   ]
  },
  {
   "cell_type": "code",
   "execution_count": 9,
   "metadata": {},
   "outputs": [
    {
     "data": {
      "text/plain": [
       "1534066444.0"
      ]
     },
     "execution_count": 9,
     "metadata": {},
     "output_type": "execute_result"
    }
   ],
   "source": [
    "time.mktime(local)"
   ]
  },
  {
   "cell_type": "code",
   "execution_count": 10,
   "metadata": {},
   "outputs": [
    {
     "data": {
      "text/plain": [
       "time.struct_time(tm_year=2018, tm_mon=8, tm_mday=12, tm_hour=17, tm_min=0, tm_sec=0, tm_wday=6, tm_yday=224, tm_isdst=-1)"
      ]
     },
     "execution_count": 10,
     "metadata": {},
     "output_type": "execute_result"
    }
   ],
   "source": [
    "local2 = time.strptime('2018-08-12 17', '%Y-%m-%d %H')\n",
    "local2"
   ]
  },
  {
   "cell_type": "code",
   "execution_count": 11,
   "metadata": {},
   "outputs": [
    {
     "data": {
      "text/plain": [
       "1534064400.0"
      ]
     },
     "execution_count": 11,
     "metadata": {},
     "output_type": "execute_result"
    }
   ],
   "source": [
    "time.mktime(local2)"
   ]
  },
  {
   "cell_type": "markdown",
   "metadata": {},
   "source": [
    "### 2. datetime"
   ]
  },
  {
   "cell_type": "code",
   "execution_count": 12,
   "metadata": {},
   "outputs": [],
   "source": [
    "from datetime import datetime"
   ]
  },
  {
   "cell_type": "code",
   "execution_count": 13,
   "metadata": {},
   "outputs": [
    {
     "data": {
      "text/plain": [
       "datetime.datetime(2018, 8, 12, 18, 10, 32, 314034)"
      ]
     },
     "execution_count": 13,
     "metadata": {},
     "output_type": "execute_result"
    }
   ],
   "source": [
    "now = datetime.now()\n",
    "now"
   ]
  },
  {
   "cell_type": "code",
   "execution_count": 14,
   "metadata": {},
   "outputs": [
    {
     "data": {
      "text/plain": [
       "(2018, 8, 12)"
      ]
     },
     "execution_count": 14,
     "metadata": {},
     "output_type": "execute_result"
    }
   ],
   "source": [
    "now.year, now.month, now.day"
   ]
  },
  {
   "cell_type": "code",
   "execution_count": 15,
   "metadata": {},
   "outputs": [
    {
     "data": {
      "text/plain": [
       "'2018-08-12 18:10:32'"
      ]
     },
     "execution_count": 15,
     "metadata": {},
     "output_type": "execute_result"
    }
   ],
   "source": [
    "now.strftime('%Y-%m-%d %H:%M:%S')"
   ]
  },
  {
   "cell_type": "code",
   "execution_count": 16,
   "metadata": {},
   "outputs": [
    {
     "data": {
      "text/plain": [
       "'2018-08-12'"
      ]
     },
     "execution_count": 16,
     "metadata": {},
     "output_type": "execute_result"
    }
   ],
   "source": [
    "now.strftime('%Y-%m-%d')"
   ]
  },
  {
   "cell_type": "code",
   "execution_count": 17,
   "metadata": {},
   "outputs": [
    {
     "data": {
      "text/plain": [
       "'18:10:32'"
      ]
     },
     "execution_count": 17,
     "metadata": {},
     "output_type": "execute_result"
    }
   ],
   "source": [
    "now.strftime('%H:%M:%S')"
   ]
  },
  {
   "cell_type": "code",
   "execution_count": 18,
   "metadata": {},
   "outputs": [
    {
     "data": {
      "text/plain": [
       "datetime.datetime(2018, 8, 12, 17, 39, 50)"
      ]
     },
     "execution_count": 18,
     "metadata": {},
     "output_type": "execute_result"
    }
   ],
   "source": [
    "datetime.strptime('2018-08-12 17:39:50', '%Y-%m-%d %H:%M:%S')"
   ]
  },
  {
   "cell_type": "code",
   "execution_count": 19,
   "metadata": {},
   "outputs": [
    {
     "data": {
      "text/plain": [
       "datetime.datetime(2018, 8, 12, 0, 0)"
      ]
     },
     "execution_count": 19,
     "metadata": {},
     "output_type": "execute_result"
    }
   ],
   "source": [
    "datetime(2018, 8, 12)"
   ]
  },
  {
   "cell_type": "code",
   "execution_count": 20,
   "metadata": {},
   "outputs": [
    {
     "data": {
      "text/plain": [
       "1534068632.314034"
      ]
     },
     "execution_count": 20,
     "metadata": {},
     "output_type": "execute_result"
    }
   ],
   "source": [
    "now.timestamp()         # 转化为时间戳"
   ]
  },
  {
   "cell_type": "code",
   "execution_count": 21,
   "metadata": {},
   "outputs": [
    {
     "data": {
      "text/plain": [
       "datetime.datetime(2018, 8, 12, 17, 39, 50, 321240)"
      ]
     },
     "execution_count": 21,
     "metadata": {},
     "output_type": "execute_result"
    }
   ],
   "source": [
    "datetime.fromtimestamp(1534066790.32124)"
   ]
  },
  {
   "cell_type": "markdown",
   "metadata": {},
   "source": [
    "### 3. timedelta"
   ]
  },
  {
   "cell_type": "code",
   "execution_count": 22,
   "metadata": {},
   "outputs": [
    {
     "data": {
      "text/plain": [
       "datetime.timedelta(days=474, seconds=65432, microseconds=402076)"
      ]
     },
     "execution_count": 22,
     "metadata": {},
     "output_type": "execute_result"
    }
   ],
   "source": [
    "delta = datetime.now() - datetime(2017, 4, 25)\n",
    "delta"
   ]
  },
  {
   "cell_type": "code",
   "execution_count": 23,
   "metadata": {},
   "outputs": [
    {
     "data": {
      "text/plain": [
       "474"
      ]
     },
     "execution_count": 23,
     "metadata": {},
     "output_type": "execute_result"
    }
   ],
   "source": [
    "delta.days"
   ]
  },
  {
   "cell_type": "code",
   "execution_count": 24,
   "metadata": {},
   "outputs": [
    {
     "data": {
      "text/plain": [
       "65432"
      ]
     },
     "execution_count": 24,
     "metadata": {},
     "output_type": "execute_result"
    }
   ],
   "source": [
    "delta.seconds"
   ]
  },
  {
   "cell_type": "code",
   "execution_count": 25,
   "metadata": {},
   "outputs": [
    {
     "data": {
      "text/plain": [
       "402076"
      ]
     },
     "execution_count": 25,
     "metadata": {},
     "output_type": "execute_result"
    }
   ],
   "source": [
    "delta.microseconds"
   ]
  },
  {
   "cell_type": "markdown",
   "metadata": {},
   "source": [
    "## date_range"
   ]
  },
  {
   "cell_type": "code",
   "execution_count": 26,
   "metadata": {},
   "outputs": [],
   "source": [
    "import pandas as pd\n",
    "import numpy as np"
   ]
  },
  {
   "cell_type": "code",
   "execution_count": 27,
   "metadata": {},
   "outputs": [
    {
     "data": {
      "text/plain": [
       "DatetimeIndex(['2018-08-12', '2018-08-13', '2018-08-14', '2018-08-15',\n",
       "               '2018-08-16', '2018-08-17', '2018-08-18', '2018-08-19',\n",
       "               '2018-08-20', '2018-08-21', '2018-08-22', '2018-08-23',\n",
       "               '2018-08-24', '2018-08-25', '2018-08-26', '2018-08-27',\n",
       "               '2018-08-28', '2018-08-29', '2018-08-30', '2018-08-31',\n",
       "               '2018-09-01', '2018-09-02', '2018-09-03', '2018-09-04',\n",
       "               '2018-09-05', '2018-09-06', '2018-09-07', '2018-09-08',\n",
       "               '2018-09-09', '2018-09-10', '2018-09-11', '2018-09-12',\n",
       "               '2018-09-13', '2018-09-14', '2018-09-15', '2018-09-16',\n",
       "               '2018-09-17', '2018-09-18', '2018-09-19', '2018-09-20',\n",
       "               '2018-09-21', '2018-09-22', '2018-09-23', '2018-09-24',\n",
       "               '2018-09-25'],\n",
       "              dtype='datetime64[ns]', freq='D')"
      ]
     },
     "execution_count": 27,
     "metadata": {},
     "output_type": "execute_result"
    }
   ],
   "source": [
    "pd.date_range('2018-08-12', '2018-09-25')"
   ]
  },
  {
   "cell_type": "code",
   "execution_count": 28,
   "metadata": {},
   "outputs": [
    {
     "data": {
      "text/plain": [
       "DatetimeIndex(['2018-08-12', '2018-08-19', '2018-08-26', '2018-09-02',\n",
       "               '2018-09-09', '2018-09-16', '2018-09-23'],\n",
       "              dtype='datetime64[ns]', freq='W-SUN')"
      ]
     },
     "execution_count": 28,
     "metadata": {},
     "output_type": "execute_result"
    }
   ],
   "source": [
    "pd.date_range('2018-08-12', '2018-09-25', freq='W')"
   ]
  },
  {
   "cell_type": "code",
   "execution_count": 29,
   "metadata": {},
   "outputs": [
    {
     "data": {
      "text/plain": [
       "DatetimeIndex(['2018-08-31'], dtype='datetime64[ns]', freq='M')"
      ]
     },
     "execution_count": 29,
     "metadata": {},
     "output_type": "execute_result"
    }
   ],
   "source": [
    "pd.date_range('2018-08-12', '2018-09-25', freq='M')"
   ]
  },
  {
   "cell_type": "code",
   "execution_count": 30,
   "metadata": {},
   "outputs": [
    {
     "data": {
      "text/plain": [
       "DatetimeIndex([], dtype='datetime64[ns]', freq='Q-DEC')"
      ]
     },
     "execution_count": 30,
     "metadata": {},
     "output_type": "execute_result"
    }
   ],
   "source": [
    "pd.date_range('2018-08-12', '2018-09-25', freq='Q')         # D-天  W-周  M-月  Q-季度  A-年  H-小时  T-分  S-秒"
   ]
  },
  {
   "cell_type": "code",
   "execution_count": 31,
   "metadata": {},
   "outputs": [
    {
     "data": {
      "text/plain": [
       "DatetimeIndex(['2018-08-12', '2018-08-19', '2018-08-26', '2018-09-02',\n",
       "               '2018-09-09', '2018-09-16', '2018-09-23', '2018-09-30',\n",
       "               '2018-10-07', '2018-10-14'],\n",
       "              dtype='datetime64[ns]', freq='W-SUN')"
      ]
     },
     "execution_count": 31,
     "metadata": {},
     "output_type": "execute_result"
    }
   ],
   "source": [
    "pd.date_range('2018-08-12', freq='W', periods=10)"
   ]
  },
  {
   "cell_type": "code",
   "execution_count": 32,
   "metadata": {},
   "outputs": [],
   "source": [
    "data = {\n",
    "    'time': pd.date_range('2018-08-12', freq='T', periods=200000),\n",
    "    'cpu': np.random.randn(200000) + 10\n",
    "}\n",
    "df = pd.DataFrame(data, columns=['time', 'cpu'])"
   ]
  },
  {
   "cell_type": "code",
   "execution_count": 33,
   "metadata": {},
   "outputs": [
    {
     "data": {
      "text/html": [
       "<div>\n",
       "<style scoped>\n",
       "    .dataframe tbody tr th:only-of-type {\n",
       "        vertical-align: middle;\n",
       "    }\n",
       "\n",
       "    .dataframe tbody tr th {\n",
       "        vertical-align: top;\n",
       "    }\n",
       "\n",
       "    .dataframe thead th {\n",
       "        text-align: right;\n",
       "    }\n",
       "</style>\n",
       "<table border=\"1\" class=\"dataframe\">\n",
       "  <thead>\n",
       "    <tr style=\"text-align: right;\">\n",
       "      <th></th>\n",
       "      <th>time</th>\n",
       "      <th>cpu</th>\n",
       "    </tr>\n",
       "  </thead>\n",
       "  <tbody>\n",
       "    <tr>\n",
       "      <th>0</th>\n",
       "      <td>2018-08-12 00:00:00</td>\n",
       "      <td>9.773730</td>\n",
       "    </tr>\n",
       "    <tr>\n",
       "      <th>1</th>\n",
       "      <td>2018-08-12 00:01:00</td>\n",
       "      <td>8.769905</td>\n",
       "    </tr>\n",
       "    <tr>\n",
       "      <th>2</th>\n",
       "      <td>2018-08-12 00:02:00</td>\n",
       "      <td>8.974288</td>\n",
       "    </tr>\n",
       "    <tr>\n",
       "      <th>3</th>\n",
       "      <td>2018-08-12 00:03:00</td>\n",
       "      <td>10.628897</td>\n",
       "    </tr>\n",
       "    <tr>\n",
       "      <th>4</th>\n",
       "      <td>2018-08-12 00:04:00</td>\n",
       "      <td>9.055220</td>\n",
       "    </tr>\n",
       "  </tbody>\n",
       "</table>\n",
       "</div>"
      ],
      "text/plain": [
       "                 time        cpu\n",
       "0 2018-08-12 00:00:00   9.773730\n",
       "1 2018-08-12 00:01:00   8.769905\n",
       "2 2018-08-12 00:02:00   8.974288\n",
       "3 2018-08-12 00:03:00  10.628897\n",
       "4 2018-08-12 00:04:00   9.055220"
      ]
     },
     "execution_count": 33,
     "metadata": {},
     "output_type": "execute_result"
    }
   ],
   "source": [
    "df.head()"
   ]
  },
  {
   "cell_type": "code",
   "execution_count": 34,
   "metadata": {},
   "outputs": [
    {
     "data": {
      "text/html": [
       "<div>\n",
       "<style scoped>\n",
       "    .dataframe tbody tr th:only-of-type {\n",
       "        vertical-align: middle;\n",
       "    }\n",
       "\n",
       "    .dataframe tbody tr th {\n",
       "        vertical-align: top;\n",
       "    }\n",
       "\n",
       "    .dataframe thead th {\n",
       "        text-align: right;\n",
       "    }\n",
       "</style>\n",
       "<table border=\"1\" class=\"dataframe\">\n",
       "  <thead>\n",
       "    <tr style=\"text-align: right;\">\n",
       "      <th></th>\n",
       "      <th>time</th>\n",
       "      <th>cpu</th>\n",
       "    </tr>\n",
       "  </thead>\n",
       "  <tbody>\n",
       "    <tr>\n",
       "      <th>199995</th>\n",
       "      <td>2018-12-28 21:15:00</td>\n",
       "      <td>9.421030</td>\n",
       "    </tr>\n",
       "    <tr>\n",
       "      <th>199996</th>\n",
       "      <td>2018-12-28 21:16:00</td>\n",
       "      <td>8.749773</td>\n",
       "    </tr>\n",
       "    <tr>\n",
       "      <th>199997</th>\n",
       "      <td>2018-12-28 21:17:00</td>\n",
       "      <td>10.713869</td>\n",
       "    </tr>\n",
       "    <tr>\n",
       "      <th>199998</th>\n",
       "      <td>2018-12-28 21:18:00</td>\n",
       "      <td>11.013194</td>\n",
       "    </tr>\n",
       "    <tr>\n",
       "      <th>199999</th>\n",
       "      <td>2018-12-28 21:19:00</td>\n",
       "      <td>10.920783</td>\n",
       "    </tr>\n",
       "  </tbody>\n",
       "</table>\n",
       "</div>"
      ],
      "text/plain": [
       "                      time        cpu\n",
       "199995 2018-12-28 21:15:00   9.421030\n",
       "199996 2018-12-28 21:16:00   8.749773\n",
       "199997 2018-12-28 21:17:00  10.713869\n",
       "199998 2018-12-28 21:18:00  11.013194\n",
       "199999 2018-12-28 21:19:00  10.920783"
      ]
     },
     "execution_count": 34,
     "metadata": {},
     "output_type": "execute_result"
    }
   ],
   "source": [
    "df.tail()"
   ]
  },
  {
   "cell_type": "code",
   "execution_count": 35,
   "metadata": {},
   "outputs": [
    {
     "data": {
      "text/html": [
       "<div>\n",
       "<style scoped>\n",
       "    .dataframe tbody tr th:only-of-type {\n",
       "        vertical-align: middle;\n",
       "    }\n",
       "\n",
       "    .dataframe tbody tr th {\n",
       "        vertical-align: top;\n",
       "    }\n",
       "\n",
       "    .dataframe thead th {\n",
       "        text-align: right;\n",
       "    }\n",
       "</style>\n",
       "<table border=\"1\" class=\"dataframe\">\n",
       "  <thead>\n",
       "    <tr style=\"text-align: right;\">\n",
       "      <th></th>\n",
       "      <th>time</th>\n",
       "      <th>cpu</th>\n",
       "    </tr>\n",
       "  </thead>\n",
       "  <tbody>\n",
       "    <tr>\n",
       "      <th>480</th>\n",
       "      <td>2018-08-12 08:00:00</td>\n",
       "      <td>12.098545</td>\n",
       "    </tr>\n",
       "    <tr>\n",
       "      <th>481</th>\n",
       "      <td>2018-08-12 08:01:00</td>\n",
       "      <td>9.738498</td>\n",
       "    </tr>\n",
       "    <tr>\n",
       "      <th>482</th>\n",
       "      <td>2018-08-12 08:02:00</td>\n",
       "      <td>10.386033</td>\n",
       "    </tr>\n",
       "    <tr>\n",
       "      <th>483</th>\n",
       "      <td>2018-08-12 08:03:00</td>\n",
       "      <td>9.068647</td>\n",
       "    </tr>\n",
       "    <tr>\n",
       "      <th>484</th>\n",
       "      <td>2018-08-12 08:04:00</td>\n",
       "      <td>11.204582</td>\n",
       "    </tr>\n",
       "    <tr>\n",
       "      <th>485</th>\n",
       "      <td>2018-08-12 08:05:00</td>\n",
       "      <td>9.076552</td>\n",
       "    </tr>\n",
       "    <tr>\n",
       "      <th>486</th>\n",
       "      <td>2018-08-12 08:06:00</td>\n",
       "      <td>9.767191</td>\n",
       "    </tr>\n",
       "    <tr>\n",
       "      <th>487</th>\n",
       "      <td>2018-08-12 08:07:00</td>\n",
       "      <td>9.117590</td>\n",
       "    </tr>\n",
       "    <tr>\n",
       "      <th>488</th>\n",
       "      <td>2018-08-12 08:08:00</td>\n",
       "      <td>9.202167</td>\n",
       "    </tr>\n",
       "    <tr>\n",
       "      <th>489</th>\n",
       "      <td>2018-08-12 08:09:00</td>\n",
       "      <td>10.829297</td>\n",
       "    </tr>\n",
       "    <tr>\n",
       "      <th>490</th>\n",
       "      <td>2018-08-12 08:10:00</td>\n",
       "      <td>9.940771</td>\n",
       "    </tr>\n",
       "  </tbody>\n",
       "</table>\n",
       "</div>"
      ],
      "text/plain": [
       "                   time        cpu\n",
       "480 2018-08-12 08:00:00  12.098545\n",
       "481 2018-08-12 08:01:00   9.738498\n",
       "482 2018-08-12 08:02:00  10.386033\n",
       "483 2018-08-12 08:03:00   9.068647\n",
       "484 2018-08-12 08:04:00  11.204582\n",
       "485 2018-08-12 08:05:00   9.076552\n",
       "486 2018-08-12 08:06:00   9.767191\n",
       "487 2018-08-12 08:07:00   9.117590\n",
       "488 2018-08-12 08:08:00   9.202167\n",
       "489 2018-08-12 08:09:00  10.829297\n",
       "490 2018-08-12 08:10:00   9.940771"
      ]
     },
     "execution_count": 35,
     "metadata": {},
     "output_type": "execute_result"
    }
   ],
   "source": [
    "df[(df.time>='2018-08-12 08:00:00') & (df.time<='2018-08-12 08:10:00')]"
   ]
  },
  {
   "cell_type": "markdown",
   "metadata": {},
   "source": [
    "## set_index"
   ]
  },
  {
   "cell_type": "code",
   "execution_count": 36,
   "metadata": {},
   "outputs": [
    {
     "data": {
      "text/html": [
       "<div>\n",
       "<style scoped>\n",
       "    .dataframe tbody tr th:only-of-type {\n",
       "        vertical-align: middle;\n",
       "    }\n",
       "\n",
       "    .dataframe tbody tr th {\n",
       "        vertical-align: top;\n",
       "    }\n",
       "\n",
       "    .dataframe thead th {\n",
       "        text-align: right;\n",
       "    }\n",
       "</style>\n",
       "<table border=\"1\" class=\"dataframe\">\n",
       "  <thead>\n",
       "    <tr style=\"text-align: right;\">\n",
       "      <th></th>\n",
       "      <th>cpu</th>\n",
       "    </tr>\n",
       "    <tr>\n",
       "      <th>time</th>\n",
       "      <th></th>\n",
       "    </tr>\n",
       "  </thead>\n",
       "  <tbody>\n",
       "    <tr>\n",
       "      <th>2018-08-12 00:00:00</th>\n",
       "      <td>9.773730</td>\n",
       "    </tr>\n",
       "    <tr>\n",
       "      <th>2018-08-12 00:01:00</th>\n",
       "      <td>8.769905</td>\n",
       "    </tr>\n",
       "    <tr>\n",
       "      <th>2018-08-12 00:02:00</th>\n",
       "      <td>8.974288</td>\n",
       "    </tr>\n",
       "    <tr>\n",
       "      <th>2018-08-12 00:03:00</th>\n",
       "      <td>10.628897</td>\n",
       "    </tr>\n",
       "    <tr>\n",
       "      <th>2018-08-12 00:04:00</th>\n",
       "      <td>9.055220</td>\n",
       "    </tr>\n",
       "  </tbody>\n",
       "</table>\n",
       "</div>"
      ],
      "text/plain": [
       "                           cpu\n",
       "time                          \n",
       "2018-08-12 00:00:00   9.773730\n",
       "2018-08-12 00:01:00   8.769905\n",
       "2018-08-12 00:02:00   8.974288\n",
       "2018-08-12 00:03:00  10.628897\n",
       "2018-08-12 00:04:00   9.055220"
      ]
     },
     "execution_count": 36,
     "metadata": {},
     "output_type": "execute_result"
    }
   ],
   "source": [
    "df2 = df.set_index(\"time\")\n",
    "df2.head()"
   ]
  },
  {
   "cell_type": "markdown",
   "metadata": {},
   "source": [
    "set_index()等效于下面的代码："
   ]
  },
  {
   "cell_type": "code",
   "execution_count": 37,
   "metadata": {},
   "outputs": [],
   "source": [
    "s = pd.to_datetime(df.time)\n",
    "s.head()\n",
    "df.index = s"
   ]
  },
  {
   "cell_type": "code",
   "execution_count": 38,
   "metadata": {},
   "outputs": [
    {
     "data": {
      "text/html": [
       "<div>\n",
       "<style scoped>\n",
       "    .dataframe tbody tr th:only-of-type {\n",
       "        vertical-align: middle;\n",
       "    }\n",
       "\n",
       "    .dataframe tbody tr th {\n",
       "        vertical-align: top;\n",
       "    }\n",
       "\n",
       "    .dataframe thead th {\n",
       "        text-align: right;\n",
       "    }\n",
       "</style>\n",
       "<table border=\"1\" class=\"dataframe\">\n",
       "  <thead>\n",
       "    <tr style=\"text-align: right;\">\n",
       "      <th></th>\n",
       "      <th>time</th>\n",
       "      <th>cpu</th>\n",
       "    </tr>\n",
       "    <tr>\n",
       "      <th>time</th>\n",
       "      <th></th>\n",
       "      <th></th>\n",
       "    </tr>\n",
       "  </thead>\n",
       "  <tbody>\n",
       "    <tr>\n",
       "      <th>2018-08-12 00:00:00</th>\n",
       "      <td>2018-08-12 00:00:00</td>\n",
       "      <td>9.773730</td>\n",
       "    </tr>\n",
       "    <tr>\n",
       "      <th>2018-08-12 00:01:00</th>\n",
       "      <td>2018-08-12 00:01:00</td>\n",
       "      <td>8.769905</td>\n",
       "    </tr>\n",
       "    <tr>\n",
       "      <th>2018-08-12 00:02:00</th>\n",
       "      <td>2018-08-12 00:02:00</td>\n",
       "      <td>8.974288</td>\n",
       "    </tr>\n",
       "    <tr>\n",
       "      <th>2018-08-12 00:03:00</th>\n",
       "      <td>2018-08-12 00:03:00</td>\n",
       "      <td>10.628897</td>\n",
       "    </tr>\n",
       "    <tr>\n",
       "      <th>2018-08-12 00:04:00</th>\n",
       "      <td>2018-08-12 00:04:00</td>\n",
       "      <td>9.055220</td>\n",
       "    </tr>\n",
       "  </tbody>\n",
       "</table>\n",
       "</div>"
      ],
      "text/plain": [
       "                                   time        cpu\n",
       "time                                              \n",
       "2018-08-12 00:00:00 2018-08-12 00:00:00   9.773730\n",
       "2018-08-12 00:01:00 2018-08-12 00:01:00   8.769905\n",
       "2018-08-12 00:02:00 2018-08-12 00:02:00   8.974288\n",
       "2018-08-12 00:03:00 2018-08-12 00:03:00  10.628897\n",
       "2018-08-12 00:04:00 2018-08-12 00:04:00   9.055220"
      ]
     },
     "execution_count": 38,
     "metadata": {},
     "output_type": "execute_result"
    }
   ],
   "source": [
    "df.head()"
   ]
  },
  {
   "cell_type": "code",
   "execution_count": 39,
   "metadata": {},
   "outputs": [
    {
     "data": {
      "text/html": [
       "<div>\n",
       "<style scoped>\n",
       "    .dataframe tbody tr th:only-of-type {\n",
       "        vertical-align: middle;\n",
       "    }\n",
       "\n",
       "    .dataframe tbody tr th {\n",
       "        vertical-align: top;\n",
       "    }\n",
       "\n",
       "    .dataframe thead th {\n",
       "        text-align: right;\n",
       "    }\n",
       "</style>\n",
       "<table border=\"1\" class=\"dataframe\">\n",
       "  <thead>\n",
       "    <tr style=\"text-align: right;\">\n",
       "      <th></th>\n",
       "      <th>cpu</th>\n",
       "    </tr>\n",
       "    <tr>\n",
       "      <th>time</th>\n",
       "      <th></th>\n",
       "    </tr>\n",
       "  </thead>\n",
       "  <tbody>\n",
       "    <tr>\n",
       "      <th>2018-08-12 00:00:00</th>\n",
       "      <td>9.773730</td>\n",
       "    </tr>\n",
       "    <tr>\n",
       "      <th>2018-08-12 00:01:00</th>\n",
       "      <td>8.769905</td>\n",
       "    </tr>\n",
       "    <tr>\n",
       "      <th>2018-08-12 00:02:00</th>\n",
       "      <td>8.974288</td>\n",
       "    </tr>\n",
       "    <tr>\n",
       "      <th>2018-08-12 00:03:00</th>\n",
       "      <td>10.628897</td>\n",
       "    </tr>\n",
       "    <tr>\n",
       "      <th>2018-08-12 00:04:00</th>\n",
       "      <td>9.055220</td>\n",
       "    </tr>\n",
       "  </tbody>\n",
       "</table>\n",
       "</div>"
      ],
      "text/plain": [
       "                           cpu\n",
       "time                          \n",
       "2018-08-12 00:00:00   9.773730\n",
       "2018-08-12 00:01:00   8.769905\n",
       "2018-08-12 00:02:00   8.974288\n",
       "2018-08-12 00:03:00  10.628897\n",
       "2018-08-12 00:04:00   9.055220"
      ]
     },
     "execution_count": 39,
     "metadata": {},
     "output_type": "execute_result"
    }
   ],
   "source": [
    "df = df.drop('time', axis=1)\n",
    "df.head()"
   ]
  },
  {
   "cell_type": "code",
   "execution_count": 40,
   "metadata": {},
   "outputs": [
    {
     "data": {
      "text/html": [
       "<div>\n",
       "<style scoped>\n",
       "    .dataframe tbody tr th:only-of-type {\n",
       "        vertical-align: middle;\n",
       "    }\n",
       "\n",
       "    .dataframe tbody tr th {\n",
       "        vertical-align: top;\n",
       "    }\n",
       "\n",
       "    .dataframe thead th {\n",
       "        text-align: right;\n",
       "    }\n",
       "</style>\n",
       "<table border=\"1\" class=\"dataframe\">\n",
       "  <thead>\n",
       "    <tr style=\"text-align: right;\">\n",
       "      <th></th>\n",
       "      <th>cpu</th>\n",
       "    </tr>\n",
       "    <tr>\n",
       "      <th>time</th>\n",
       "      <th></th>\n",
       "    </tr>\n",
       "  </thead>\n",
       "  <tbody>\n",
       "    <tr>\n",
       "      <th>2018-08-12 08:00:00</th>\n",
       "      <td>12.098545</td>\n",
       "    </tr>\n",
       "    <tr>\n",
       "      <th>2018-08-12 08:01:00</th>\n",
       "      <td>9.738498</td>\n",
       "    </tr>\n",
       "    <tr>\n",
       "      <th>2018-08-12 08:02:00</th>\n",
       "      <td>10.386033</td>\n",
       "    </tr>\n",
       "    <tr>\n",
       "      <th>2018-08-12 08:03:00</th>\n",
       "      <td>9.068647</td>\n",
       "    </tr>\n",
       "    <tr>\n",
       "      <th>2018-08-12 08:04:00</th>\n",
       "      <td>11.204582</td>\n",
       "    </tr>\n",
       "    <tr>\n",
       "      <th>2018-08-12 08:05:00</th>\n",
       "      <td>9.076552</td>\n",
       "    </tr>\n",
       "    <tr>\n",
       "      <th>2018-08-12 08:06:00</th>\n",
       "      <td>9.767191</td>\n",
       "    </tr>\n",
       "    <tr>\n",
       "      <th>2018-08-12 08:07:00</th>\n",
       "      <td>9.117590</td>\n",
       "    </tr>\n",
       "    <tr>\n",
       "      <th>2018-08-12 08:08:00</th>\n",
       "      <td>9.202167</td>\n",
       "    </tr>\n",
       "    <tr>\n",
       "      <th>2018-08-12 08:09:00</th>\n",
       "      <td>10.829297</td>\n",
       "    </tr>\n",
       "    <tr>\n",
       "      <th>2018-08-12 08:10:00</th>\n",
       "      <td>9.940771</td>\n",
       "    </tr>\n",
       "  </tbody>\n",
       "</table>\n",
       "</div>"
      ],
      "text/plain": [
       "                           cpu\n",
       "time                          \n",
       "2018-08-12 08:00:00  12.098545\n",
       "2018-08-12 08:01:00   9.738498\n",
       "2018-08-12 08:02:00  10.386033\n",
       "2018-08-12 08:03:00   9.068647\n",
       "2018-08-12 08:04:00  11.204582\n",
       "2018-08-12 08:05:00   9.076552\n",
       "2018-08-12 08:06:00   9.767191\n",
       "2018-08-12 08:07:00   9.117590\n",
       "2018-08-12 08:08:00   9.202167\n",
       "2018-08-12 08:09:00  10.829297\n",
       "2018-08-12 08:10:00   9.940771"
      ]
     },
     "execution_count": 40,
     "metadata": {},
     "output_type": "execute_result"
    }
   ],
   "source": [
    "df['2018-08-12 08:00:00':'2018-08-12 08:10:00']"
   ]
  },
  {
   "cell_type": "code",
   "execution_count": 41,
   "metadata": {},
   "outputs": [
    {
     "data": {
      "text/html": [
       "<div>\n",
       "<style scoped>\n",
       "    .dataframe tbody tr th:only-of-type {\n",
       "        vertical-align: middle;\n",
       "    }\n",
       "\n",
       "    .dataframe tbody tr th {\n",
       "        vertical-align: top;\n",
       "    }\n",
       "\n",
       "    .dataframe thead th {\n",
       "        text-align: right;\n",
       "    }\n",
       "</style>\n",
       "<table border=\"1\" class=\"dataframe\">\n",
       "  <thead>\n",
       "    <tr style=\"text-align: right;\">\n",
       "      <th></th>\n",
       "      <th>cpu</th>\n",
       "    </tr>\n",
       "    <tr>\n",
       "      <th>time</th>\n",
       "      <th></th>\n",
       "    </tr>\n",
       "  </thead>\n",
       "  <tbody>\n",
       "    <tr>\n",
       "      <th>2018-08-12 00:00:00</th>\n",
       "      <td>9.773730</td>\n",
       "    </tr>\n",
       "    <tr>\n",
       "      <th>2018-08-12 00:01:00</th>\n",
       "      <td>8.769905</td>\n",
       "    </tr>\n",
       "    <tr>\n",
       "      <th>2018-08-12 00:02:00</th>\n",
       "      <td>8.974288</td>\n",
       "    </tr>\n",
       "    <tr>\n",
       "      <th>2018-08-12 00:03:00</th>\n",
       "      <td>10.628897</td>\n",
       "    </tr>\n",
       "    <tr>\n",
       "      <th>2018-08-12 00:04:00</th>\n",
       "      <td>9.055220</td>\n",
       "    </tr>\n",
       "  </tbody>\n",
       "</table>\n",
       "</div>"
      ],
      "text/plain": [
       "                           cpu\n",
       "time                          \n",
       "2018-08-12 00:00:00   9.773730\n",
       "2018-08-12 00:01:00   8.769905\n",
       "2018-08-12 00:02:00   8.974288\n",
       "2018-08-12 00:03:00  10.628897\n",
       "2018-08-12 00:04:00   9.055220"
      ]
     },
     "execution_count": 41,
     "metadata": {},
     "output_type": "execute_result"
    }
   ],
   "source": [
    "df2 = df['2018-08-12']\n",
    "df2.head()"
   ]
  },
  {
   "cell_type": "code",
   "execution_count": 42,
   "metadata": {},
   "outputs": [
    {
     "data": {
      "text/html": [
       "<div>\n",
       "<style scoped>\n",
       "    .dataframe tbody tr th:only-of-type {\n",
       "        vertical-align: middle;\n",
       "    }\n",
       "\n",
       "    .dataframe tbody tr th {\n",
       "        vertical-align: top;\n",
       "    }\n",
       "\n",
       "    .dataframe thead th {\n",
       "        text-align: right;\n",
       "    }\n",
       "</style>\n",
       "<table border=\"1\" class=\"dataframe\">\n",
       "  <thead>\n",
       "    <tr style=\"text-align: right;\">\n",
       "      <th></th>\n",
       "      <th>cpu</th>\n",
       "    </tr>\n",
       "    <tr>\n",
       "      <th>time</th>\n",
       "      <th></th>\n",
       "    </tr>\n",
       "  </thead>\n",
       "  <tbody>\n",
       "    <tr>\n",
       "      <th>2018-08-12 23:55:00</th>\n",
       "      <td>11.823216</td>\n",
       "    </tr>\n",
       "    <tr>\n",
       "      <th>2018-08-12 23:56:00</th>\n",
       "      <td>11.391370</td>\n",
       "    </tr>\n",
       "    <tr>\n",
       "      <th>2018-08-12 23:57:00</th>\n",
       "      <td>9.713983</td>\n",
       "    </tr>\n",
       "    <tr>\n",
       "      <th>2018-08-12 23:58:00</th>\n",
       "      <td>10.756149</td>\n",
       "    </tr>\n",
       "    <tr>\n",
       "      <th>2018-08-12 23:59:00</th>\n",
       "      <td>9.155902</td>\n",
       "    </tr>\n",
       "  </tbody>\n",
       "</table>\n",
       "</div>"
      ],
      "text/plain": [
       "                           cpu\n",
       "time                          \n",
       "2018-08-12 23:55:00  11.823216\n",
       "2018-08-12 23:56:00  11.391370\n",
       "2018-08-12 23:57:00   9.713983\n",
       "2018-08-12 23:58:00  10.756149\n",
       "2018-08-12 23:59:00   9.155902"
      ]
     },
     "execution_count": 42,
     "metadata": {},
     "output_type": "execute_result"
    }
   ],
   "source": [
    "df2.tail()"
   ]
  },
  {
   "cell_type": "code",
   "execution_count": 43,
   "metadata": {},
   "outputs": [
    {
     "name": "stdout",
     "output_type": "stream",
     "text": [
      "                  cpu\n",
      "2018-08-12  10.026842\n",
      "2018-08-13  10.021321\n",
      "2018-08-14   9.980860\n",
      "2018-08-15  10.011482\n",
      "2018-08-16   9.998402\n",
      "                  cpu\n",
      "2018-12-24   9.972200\n",
      "2018-12-25  10.033823\n",
      "2018-12-26  10.022897\n",
      "2018-12-27   9.992240\n",
      "2018-12-28   9.977914\n"
     ]
    }
   ],
   "source": [
    "df2 = df.groupby(df.index.date).mean()\n",
    "print(df2.head())\n",
    "print(df2.tail())"
   ]
  },
  {
   "cell_type": "code",
   "execution_count": 44,
   "metadata": {},
   "outputs": [
    {
     "name": "stdout",
     "output_type": "stream",
     "text": [
      "            cpu\n",
      "time           \n",
      "0     10.001204\n",
      "1      9.998397\n",
      "2      9.997178\n",
      "3     10.001992\n",
      "4     10.006139\n",
      "            cpu\n",
      "time           \n",
      "19     9.992884\n",
      "20     9.982940\n",
      "21    10.016058\n",
      "22     9.989161\n",
      "23    10.004904\n"
     ]
    }
   ],
   "source": [
    "df2 = df.groupby(df.index.hour).mean()\n",
    "print(df2.head())\n",
    "print(df2.tail())"
   ]
  },
  {
   "cell_type": "code",
   "execution_count": 45,
   "metadata": {},
   "outputs": [
    {
     "name": "stdout",
     "output_type": "stream",
     "text": [
      "            cpu\n",
      "time           \n",
      "32    10.026842\n",
      "33    10.001378\n",
      "34     9.996593\n",
      "35    10.008314\n",
      "36     9.989986\n",
      "            cpu\n",
      "time           \n",
      "48    10.006039\n",
      "49     9.990210\n",
      "50     9.993180\n",
      "51     9.980866\n",
      "52    10.000312\n"
     ]
    }
   ],
   "source": [
    "df2 = df.groupby(df.index.week).mean()\n",
    "print(df2.head())\n",
    "print(df2.tail())"
   ]
  },
  {
   "cell_type": "markdown",
   "metadata": {},
   "source": [
    "## resample"
   ]
  },
  {
   "cell_type": "code",
   "execution_count": 46,
   "metadata": {},
   "outputs": [],
   "source": [
    "df2 = df.resample('90S').mean()           # 重新取样，时间间隔为90秒了"
   ]
  },
  {
   "cell_type": "code",
   "execution_count": 47,
   "metadata": {},
   "outputs": [
    {
     "data": {
      "text/html": [
       "<div>\n",
       "<style scoped>\n",
       "    .dataframe tbody tr th:only-of-type {\n",
       "        vertical-align: middle;\n",
       "    }\n",
       "\n",
       "    .dataframe tbody tr th {\n",
       "        vertical-align: top;\n",
       "    }\n",
       "\n",
       "    .dataframe thead th {\n",
       "        text-align: right;\n",
       "    }\n",
       "</style>\n",
       "<table border=\"1\" class=\"dataframe\">\n",
       "  <thead>\n",
       "    <tr style=\"text-align: right;\">\n",
       "      <th></th>\n",
       "      <th>cpu</th>\n",
       "    </tr>\n",
       "    <tr>\n",
       "      <th>time</th>\n",
       "      <th></th>\n",
       "    </tr>\n",
       "  </thead>\n",
       "  <tbody>\n",
       "    <tr>\n",
       "      <th>2018-08-12 00:00:00</th>\n",
       "      <td>9.271818</td>\n",
       "    </tr>\n",
       "    <tr>\n",
       "      <th>2018-08-12 00:01:30</th>\n",
       "      <td>8.974288</td>\n",
       "    </tr>\n",
       "    <tr>\n",
       "      <th>2018-08-12 00:03:00</th>\n",
       "      <td>9.842058</td>\n",
       "    </tr>\n",
       "    <tr>\n",
       "      <th>2018-08-12 00:04:30</th>\n",
       "      <td>9.176499</td>\n",
       "    </tr>\n",
       "    <tr>\n",
       "      <th>2018-08-12 00:06:00</th>\n",
       "      <td>10.425718</td>\n",
       "    </tr>\n",
       "  </tbody>\n",
       "</table>\n",
       "</div>"
      ],
      "text/plain": [
       "                           cpu\n",
       "time                          \n",
       "2018-08-12 00:00:00   9.271818\n",
       "2018-08-12 00:01:30   8.974288\n",
       "2018-08-12 00:03:00   9.842058\n",
       "2018-08-12 00:04:30   9.176499\n",
       "2018-08-12 00:06:00  10.425718"
      ]
     },
     "execution_count": 47,
     "metadata": {},
     "output_type": "execute_result"
    }
   ],
   "source": [
    "df2.head()"
   ]
  },
  {
   "cell_type": "code",
   "execution_count": 48,
   "metadata": {},
   "outputs": [
    {
     "data": {
      "text/html": [
       "<div>\n",
       "<style scoped>\n",
       "    .dataframe tbody tr th:only-of-type {\n",
       "        vertical-align: middle;\n",
       "    }\n",
       "\n",
       "    .dataframe tbody tr th {\n",
       "        vertical-align: top;\n",
       "    }\n",
       "\n",
       "    .dataframe thead th {\n",
       "        text-align: right;\n",
       "    }\n",
       "</style>\n",
       "<table border=\"1\" class=\"dataframe\">\n",
       "  <thead>\n",
       "    <tr style=\"text-align: right;\">\n",
       "      <th></th>\n",
       "      <th>cpu</th>\n",
       "    </tr>\n",
       "    <tr>\n",
       "      <th>time</th>\n",
       "      <th></th>\n",
       "    </tr>\n",
       "  </thead>\n",
       "  <tbody>\n",
       "    <tr>\n",
       "      <th>2018-08-12 00:00:00</th>\n",
       "      <td>10.628897</td>\n",
       "    </tr>\n",
       "    <tr>\n",
       "      <th>2018-08-12 00:05:00</th>\n",
       "      <td>10.740297</td>\n",
       "    </tr>\n",
       "    <tr>\n",
       "      <th>2018-08-12 00:10:00</th>\n",
       "      <td>10.542998</td>\n",
       "    </tr>\n",
       "    <tr>\n",
       "      <th>2018-08-12 00:15:00</th>\n",
       "      <td>10.864424</td>\n",
       "    </tr>\n",
       "    <tr>\n",
       "      <th>2018-08-12 00:20:00</th>\n",
       "      <td>10.435594</td>\n",
       "    </tr>\n",
       "  </tbody>\n",
       "</table>\n",
       "</div>"
      ],
      "text/plain": [
       "                           cpu\n",
       "time                          \n",
       "2018-08-12 00:00:00  10.628897\n",
       "2018-08-12 00:05:00  10.740297\n",
       "2018-08-12 00:10:00  10.542998\n",
       "2018-08-12 00:15:00  10.864424\n",
       "2018-08-12 00:20:00  10.435594"
      ]
     },
     "execution_count": 48,
     "metadata": {},
     "output_type": "execute_result"
    }
   ],
   "source": [
    "df2 = df.resample('5T').max()\n",
    "df2.head()"
   ]
  }
 ],
 "metadata": {
  "kernelspec": {
   "display_name": "Python 3",
   "language": "python",
   "name": "python3"
  },
  "language_info": {
   "codemirror_mode": {
    "name": "ipython",
    "version": 3
   },
   "file_extension": ".py",
   "mimetype": "text/x-python",
   "name": "python",
   "nbconvert_exporter": "python",
   "pygments_lexer": "ipython3",
   "version": "3.7.0"
  }
 },
 "nbformat": 4,
 "nbformat_minor": 2
}
