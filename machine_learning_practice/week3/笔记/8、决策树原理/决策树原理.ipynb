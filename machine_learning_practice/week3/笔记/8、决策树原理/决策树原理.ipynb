{
 "cells": [
  {
   "cell_type": "markdown",
   "metadata": {},
   "source": [
    "# 决策树原理"
   ]
  },
  {
   "cell_type": "code",
   "execution_count": 1,
   "metadata": {},
   "outputs": [],
   "source": [
    "import numpy as np"
   ]
  },
  {
   "cell_type": "code",
   "execution_count": 3,
   "metadata": {},
   "outputs": [],
   "source": [
    "X = np.loadtxt('x.txt')\n",
    "X = X[:, 2:]\n",
    "y = np.loadtxt('y.txt')"
   ]
  },
  {
   "cell_type": "code",
   "execution_count": 4,
   "metadata": {},
   "outputs": [],
   "source": [
    "import matplotlib.pyplot as plt"
   ]
  },
  {
   "cell_type": "code",
   "execution_count": 6,
   "metadata": {},
   "outputs": [
    {
     "data": {
      "image/png": "[encoded data removed]",
      "text/plain": [
       "<Figure size 432x288 with 1 Axes>"
      ]
     },
     "metadata": {},
     "output_type": "display_data"
    }
   ],
   "source": [
    "plt.scatter(X[y == 0, 0], X[y == 0, 1], color='r')\n",
    "plt.scatter(X[y == 1, 0], X[y == 1, 1], color='g')\n",
    "plt.scatter(X[y == 2, 0], X[y == 2, 1], color='b')\n",
    "plt.show()"
   ]
  },
  {
   "cell_type": "code",
   "execution_count": 9,
   "metadata": {},
   "outputs": [],
   "source": [
    "from collections import Counter\n",
    "def gini(y):\n",
    "    counter = Counter(y)\n",
    "    result = 0\n",
    "    for v in counter.values():\n",
    "        result += (v / len(y))**2\n",
    "    return 1 - result\n",
    "\n",
    "def cut(X, y, d, v):\n",
    "    left_index = (X[:, d] <= v)\n",
    "    right_index = (X[:, d] > v)\n",
    "    return X[left_index], X[right_index], y[left_index], y[right_index]\n",
    "\n",
    "def try_split(X, y):\n",
    "    best_g = 1\n",
    "    best_d = -1\n",
    "    best_v = -1\n",
    "    \n",
    "    for d in range(X.shape[1]):\n",
    "        sorted_index = np.argsort(X[:, d])\n",
    "        for i in range(len(X)-1):\n",
    "            if X[sorted_index[i], d] == X[sorted_index[i + 1], d]:\n",
    "                continue\n",
    "            \n",
    "            v = (X[sorted_index[i], d] + X[sorted_index[i + 1], d]) / 2\n",
    "            # print('d={}, v={}'.format(d, v))\n",
    "            X_left, X_right, y_left, y_right = cut(X, y, d, v)\n",
    "            \n",
    "            g_all = gini(y_left) + gini(y_right)\n",
    "            \n",
    "            # print('d={}, v={}, g={}'.format(d, v, g_all))\n",
    "            \n",
    "            if g_all < best_g:\n",
    "                best_g = g_all\n",
    "                best_d = d\n",
    "                best_v = v\n",
    "    return best_d, best_v, best_g"
   ]
  },
  {
   "cell_type": "code",
   "execution_count": 10,
   "metadata": {},
   "outputs": [
    {
     "data": {
      "text/plain": [
       "(0, 1.9, 0.5)"
      ]
     },
     "execution_count": 10,
     "metadata": {},
     "output_type": "execute_result"
    }
   ],
   "source": [
    "try_split(X, y)"
   ]
  },
  {
   "cell_type": "code",
   "execution_count": 22,
   "metadata": {},
   "outputs": [],
   "source": [
    "class Node():\n",
    "    def __init__(self, d=None, v=None, g=None, l=None):\n",
    "        self.dim = d\n",
    "        self.value = v\n",
    "        self.gini = g\n",
    "        self.label = l\n",
    "        \n",
    "        self.children_left = None\n",
    "        self.children_right = None\n",
    "    def __repr__(self):\n",
    "        return \"d={}, v={}, g={}, l={}\".format(self.dim, self.value, self.gini, self.label)"
   ]
  },
  {
   "cell_type": "code",
   "execution_count": 25,
   "metadata": {},
   "outputs": [],
   "source": [
    "def create_tree(X, y):\n",
    "    d, v, g = try_split(X, y)\n",
    "    if d == -1 or g == 0:     # 不能再进行划分时\n",
    "        return None\n",
    "\n",
    "    node = Node(d, v, g)\n",
    "    \n",
    "    X_left, X_right, y_left, y_right = cut(X, y, d, v)\n",
    "    \n",
    "    node.children_left = create_tree(X_left, y_left)\n",
    "    if node.children_left is None:\n",
    "        label = Counter(y_left).most_common(1)[0][0]\n",
    "        node.children_left = Node(l = label)\n",
    "    \n",
    "    node.children_right = create_tree(X_right, y_right)\n",
    "    if node.children_right is None:\n",
    "        label = Counter(y_right).most_common(1)[0][0]\n",
    "        node.children_right = Node(l = label)\n",
    "        \n",
    "    return node"
   ]
  },
  {
   "cell_type": "code",
   "execution_count": 26,
   "metadata": {},
   "outputs": [
    {
     "data": {
      "text/plain": [
       "d=0, v=1.9, g=0.5, l=None"
      ]
     },
     "execution_count": 26,
     "metadata": {},
     "output_type": "execute_result"
    }
   ],
   "source": [
    "tree = create_tree(X, y)\n",
    "tree"
   ]
  },
  {
   "cell_type": "code",
   "execution_count": 27,
   "metadata": {},
   "outputs": [
    {
     "data": {
      "text/plain": [
       "d=None, v=None, g=None, l=0.0"
      ]
     },
     "execution_count": 27,
     "metadata": {},
     "output_type": "execute_result"
    }
   ],
   "source": [
    "tree.children_left"
   ]
  },
  {
   "cell_type": "code",
   "execution_count": 28,
   "metadata": {},
   "outputs": [
    {
     "data": {
      "text/plain": [
       "d=1, v=1.7, g=0.21057149006459386, l=None"
      ]
     },
     "execution_count": 28,
     "metadata": {},
     "output_type": "execute_result"
    }
   ],
   "source": [
    "tree.children_right"
   ]
  }
 ],
 "metadata": {
  "kernelspec": {
   "display_name": "Python 3",
   "language": "python",
   "name": "python3"
  },
  "language_info": {
   "codemirror_mode": {
    "name": "ipython",
    "version": 3
   },
   "file_extension": ".py",
   "mimetype": "text/x-python",
   "name": "python",
   "nbconvert_exporter": "python",
   "pygments_lexer": "ipython3",
   "version": "3.7.0"
  }
 },
 "nbformat": 4,
 "nbformat_minor": 2
}
