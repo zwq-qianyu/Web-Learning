{
 "cells": [
  {
   "cell_type": "markdown",
   "metadata": {},
   "source": [
    "# 朴素贝叶斯分类器"
   ]
  },
  {
   "cell_type": "code",
   "execution_count": 1,
   "metadata": {},
   "outputs": [],
   "source": [
    "import numpy as np\n",
    "from collections import Counter"
   ]
  },
  {
   "cell_type": "code",
   "execution_count": 2,
   "metadata": {},
   "outputs": [],
   "source": [
    "# 天气  季节\n",
    "X = np.array([['晴', '春'],\n",
    "              ['雨', '春'],\n",
    "              ['晴', '春'],\n",
    "              ['晴', '夏'],\n",
    "              ['雨', '夏'],\n",
    "              ['阴', '冬'],\n",
    "              ['阴', '夏'],\n",
    "              ['雨', '夏'],\n",
    "              ['晴', '冬'],\n",
    "              ['晴', '夏'],\n",
    "              ['阴', '秋'],\n",
    "              ['晴', '秋'],\n",
    "              ['雨', '秋']])\n",
    "y = np.array(['兔', '鸭', '鸡', '鸡', '鸭', '鸡', '兔', '鸭', '鸡', '鸡', '兔', '鸡', '鸭'])"
   ]
  },
  {
   "cell_type": "code",
   "execution_count": 3,
   "metadata": {},
   "outputs": [],
   "source": [
    "# P(yk/x) = P(yk)P(x1/yk)P(x2/yk)P(x3/yk)......P(xn/yk)"
   ]
  },
  {
   "cell_type": "code",
   "execution_count": 4,
   "metadata": {},
   "outputs": [
    {
     "data": {
      "text/plain": [
       "Counter({'兔': 3, '鸭': 4, '鸡': 6})"
      ]
     },
     "execution_count": 4,
     "metadata": {},
     "output_type": "execute_result"
    }
   ],
   "source": [
    "label_counter = Counter(y)\n",
    "label_counter"
   ]
  },
  {
   "cell_type": "code",
   "execution_count": 5,
   "metadata": {},
   "outputs": [
    {
     "data": {
      "text/plain": [
       "{'兔': 0.23076923076923078, '鸭': 0.3076923076923077, '鸡': 0.46153846153846156}"
      ]
     },
     "execution_count": 5,
     "metadata": {},
     "output_type": "execute_result"
    }
   ],
   "source": [
    "label_dict = {}\n",
    "for i in label_counter.keys():\n",
    "    label_dict[i] = label_counter[i] / len(y)\n",
    "label_dict"
   ]
  },
  {
   "cell_type": "code",
   "execution_count": 6,
   "metadata": {},
   "outputs": [
    {
     "data": {
      "text/plain": [
       "{0: array(['晴', '阴', '雨'], dtype='<U1'),\n",
       " 1: array(['冬', '夏', '春', '秋'], dtype='<U1')}"
      ]
     },
     "execution_count": 6,
     "metadata": {},
     "output_type": "execute_result"
    }
   ],
   "source": [
    "features = {}\n",
    "for i in range(X.shape[1]):\n",
    "    features[i] = np.unique(X[:,i])\n",
    "features"
   ]
  },
  {
   "cell_type": "code",
   "execution_count": 7,
   "metadata": {},
   "outputs": [
    {
     "data": {
      "text/plain": [
       "array([['晴', '春'],\n",
       "       ['晴', '夏'],\n",
       "       ['阴', '冬'],\n",
       "       ['晴', '冬'],\n",
       "       ['晴', '夏'],\n",
       "       ['晴', '秋']], dtype='<U1')"
      ]
     },
     "execution_count": 7,
     "metadata": {},
     "output_type": "execute_result"
    }
   ],
   "source": [
    "X_temp = X[y=='鸡']\n",
    "X_temp"
   ]
  },
  {
   "cell_type": "code",
   "execution_count": 8,
   "metadata": {},
   "outputs": [
    {
     "data": {
      "text/plain": [
       "Counter({'晴': 5, '阴': 1})"
      ]
     },
     "execution_count": 8,
     "metadata": {},
     "output_type": "execute_result"
    }
   ],
   "source": [
    "feature_counter = Counter(X_temp[:, 0])\n",
    "feature_counter"
   ]
  },
  {
   "cell_type": "code",
   "execution_count": 9,
   "metadata": {},
   "outputs": [
    {
     "data": {
      "text/plain": [
       "array(['晴', '阴', '雨'], dtype='<U1')"
      ]
     },
     "execution_count": 9,
     "metadata": {},
     "output_type": "execute_result"
    }
   ],
   "source": [
    "features[0]"
   ]
  },
  {
   "cell_type": "code",
   "execution_count": 10,
   "metadata": {},
   "outputs": [
    {
     "data": {
      "text/plain": [
       "{'晴': 0.8333333333333334, '阴': 0.16666666666666666, '雨': 0.0}"
      ]
     },
     "execution_count": 10,
     "metadata": {},
     "output_type": "execute_result"
    }
   ],
   "source": [
    "temp = {}\n",
    "for item in features[0]:\n",
    "    count  = feature_counter[item] if item in feature_counter else 0\n",
    "    temp[item] = count / len(X_temp)\n",
    "temp"
   ]
  },
  {
   "cell_type": "code",
   "execution_count": 21,
   "metadata": {},
   "outputs": [],
   "source": [
    "def calc(X):\n",
    "    res = {}\n",
    "    for i in range(X.shape[1]):\n",
    "        feature_counter = Counter(X[:, i])\n",
    "        \n",
    "        temp = {}\n",
    "        for item in features[i]:\n",
    "            count  = feature_counter[item] if item in feature_counter else 0\n",
    "            temp[item] = count / len(X)\n",
    "        res[i] = temp\n",
    "    return res"
   ]
  },
  {
   "cell_type": "code",
   "execution_count": 22,
   "metadata": {},
   "outputs": [
    {
     "data": {
      "text/plain": [
       "{0: {'晴': 0.8333333333333334, '阴': 0.16666666666666666, '雨': 0.0},\n",
       " 1: {'冬': 0.3333333333333333,\n",
       "  '夏': 0.3333333333333333,\n",
       "  '春': 0.16666666666666666,\n",
       "  '秋': 0.16666666666666666}}"
      ]
     },
     "execution_count": 22,
     "metadata": {},
     "output_type": "execute_result"
    }
   ],
   "source": [
    "calc(X_temp)"
   ]
  },
  {
   "cell_type": "code",
   "execution_count": 23,
   "metadata": {},
   "outputs": [
    {
     "data": {
      "text/plain": [
       "{0: {'晴': 0.3333333333333333, '阴': 0.6666666666666666, '雨': 0.0},\n",
       " 1: {'冬': 0.0,\n",
       "  '夏': 0.3333333333333333,\n",
       "  '春': 0.3333333333333333,\n",
       "  '秋': 0.3333333333333333}}"
      ]
     },
     "execution_count": 23,
     "metadata": {},
     "output_type": "execute_result"
    }
   ],
   "source": [
    "calc(X[y == '兔'])"
   ]
  },
  {
   "cell_type": "code",
   "execution_count": 28,
   "metadata": {},
   "outputs": [
    {
     "data": {
      "text/plain": [
       "{'兔': {0: {'晴': 0.3333333333333333, '阴': 0.6666666666666666, '雨': 0.0},\n",
       "  1: {'冬': 0.0,\n",
       "   '夏': 0.3333333333333333,\n",
       "   '春': 0.3333333333333333,\n",
       "   '秋': 0.3333333333333333}},\n",
       " '鸭': {0: {'晴': 0.0, '阴': 0.0, '雨': 1.0},\n",
       "  1: {'冬': 0.0, '夏': 0.5, '春': 0.25, '秋': 0.25}},\n",
       " '鸡': {0: {'晴': 0.8333333333333334, '阴': 0.16666666666666666, '雨': 0.0},\n",
       "  1: {'冬': 0.3333333333333333,\n",
       "   '夏': 0.3333333333333333,\n",
       "   '春': 0.16666666666666666,\n",
       "   '秋': 0.16666666666666666}}}"
      ]
     },
     "execution_count": 28,
     "metadata": {},
     "output_type": "execute_result"
    }
   ],
   "source": [
    "features_dict = {}\n",
    "for i in label_dict.keys():\n",
    "    features_dict[i] = calc(X[y == i])\n",
    "features_dict"
   ]
  },
  {
   "cell_type": "markdown",
   "metadata": {},
   "source": [
    "### P(yk/x) = P(yk)P(x1/yk)P(x2/yk)P(x3/yk)......P(xn/yk)"
   ]
  },
  {
   "cell_type": "code",
   "execution_count": 29,
   "metadata": {},
   "outputs": [],
   "source": [
    "x = np.array(['晴', '秋'])"
   ]
  },
  {
   "cell_type": "code",
   "execution_count": 30,
   "metadata": {},
   "outputs": [
    {
     "data": {
      "text/plain": [
       "0.0641025641025641"
      ]
     },
     "execution_count": 30,
     "metadata": {},
     "output_type": "execute_result"
    }
   ],
   "source": [
    "# 鸡\n",
    "label_dict['鸡']  * features_dict['鸡'][0]['晴'] * features_dict['鸡'][1]['秋']"
   ]
  },
  {
   "cell_type": "code",
   "execution_count": 31,
   "metadata": {},
   "outputs": [
    {
     "data": {
      "text/plain": [
       "0.0"
      ]
     },
     "execution_count": 31,
     "metadata": {},
     "output_type": "execute_result"
    }
   ],
   "source": [
    "# 鸭\n",
    "label_dict['鸭']  * features_dict['鸭'][0]['晴'] * features_dict['鸭'][1]['秋']"
   ]
  },
  {
   "cell_type": "code",
   "execution_count": 32,
   "metadata": {},
   "outputs": [
    {
     "data": {
      "text/plain": [
       "0.02564102564102564"
      ]
     },
     "execution_count": 32,
     "metadata": {},
     "output_type": "execute_result"
    }
   ],
   "source": [
    "# 兔\n",
    "label_dict['兔']  * features_dict['兔'][0]['晴'] * features_dict['兔'][1]['秋']"
   ]
  },
  {
   "cell_type": "code",
   "execution_count": 34,
   "metadata": {},
   "outputs": [
    {
     "data": {
      "image/png": "[encoded data removed]",
      "text/plain": [
       "<Figure size 432x288 with 1 Axes>"
      ]
     },
     "metadata": {},
     "output_type": "display_data"
    }
   ],
   "source": [
    "import matplotlib.pyplot as plt # plt 用于显示图片\n",
    "import matplotlib.image as mpimg # mpimg 用于读取图片\n",
    "\n",
    "image = mpimg.imread('suanfa.png') # 读取和代码处于同一目录下的 lena.png\n",
    "# 此时 lena 就已经是一个 np.array 了，可以对它进行任意处理\n",
    "image.shape #(512, 512, 3)\n",
    "\n",
    "plt.imshow(image) # 显示图片\n",
    "plt.axis('off') # 不显示坐标轴\n",
    "plt.show()"
   ]
  },
  {
   "cell_type": "markdown",
   "metadata": {},
   "source": [
    "根据上面的算法，选择结果最大的就是可能性最大的。所以预测结果为 鸡"
   ]
  }
 ],
 "metadata": {
  "kernelspec": {
   "display_name": "Python 3",
   "language": "python",
   "name": "python3"
  },
  "language_info": {
   "codemirror_mode": {
    "name": "ipython",
    "version": 3
   },
   "file_extension": ".py",
   "mimetype": "text/x-python",
   "name": "python",
   "nbconvert_exporter": "python",
   "pygments_lexer": "ipython3",
   "version": "3.7.0"
  }
 },
 "nbformat": 4,
 "nbformat_minor": 2
}
